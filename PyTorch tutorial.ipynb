{
  "nbformat": 4,
  "nbformat_minor": 0,
  "metadata": {
    "colab": {
      "name": "HW3, DastenTurlin.ipynb",
      "provenance": [],
      "collapsed_sections": [
        "eLaq9p37v5N6",
        "zXZiEztjv5N_",
        "twEBABbjv5OR",
        "PYiO8RxZv5Oy"
      ],
      "toc_visible": true
    },
    "kernelspec": {
      "display_name": "Python 3",
      "language": "python",
      "name": "python3"
    },
    "language_info": {
      "codemirror_mode": {
        "name": "ipython",
        "version": 3
      },
      "file_extension": ".py",
      "mimetype": "text/x-python",
      "name": "python",
      "nbconvert_exporter": "python",
      "pygments_lexer": "ipython3",
      "version": "3.7.7"
    }
  },
  "cells": [
    {
      "cell_type": "markdown",
      "metadata": {
        "colab_type": "text",
        "id": "diER8HhHv5Lg"
      },
      "source": [
        "------\n",
        "\n",
        "# HOMEWORK 3\n",
        "\n",
        "### Instructions\n",
        "This homework is based on Neural Networks and Pytorch deep learning framework.\n",
        "After finishing this homework, you will be able to train a multilayer neural network using Pytorch, and solve image recognition/classification task.\n",
        "\n",
        "You have to read and run all the cell in the provided notebook, and then work on the assigments. \n",
        "\n",
        "There are four sections on the notebook identified as \n",
        "- PART 1 - What is Pytorch? \n",
        "- PART 2 - Automatic Differentiation \n",
        "- PART 3 - Multilayer Perceptrons  \n",
        "- PART 4 - MNIST - Feed-Forward Neural Networks\n",
        "- PART 5 - CIFAR - Convolutional Neural Networks (optional assignment)\n",
        "\n",
        "\n",
        "At the end of each part, you can find your assignments which you are supposed to work on. You will need to create a cell after each assignment and provide your solutions.\n",
        "\n",
        "Submit your solutions as a jupyter ***.ipynb*** notebooks to the moodle. \n",
        "\n",
        "***Due date: April 23, midnight***\n",
        "\n",
        "You can use https://colab.research.google.com/, or local laptop to work on these tasks. \n",
        "\n",
        "\n",
        "---------"
      ]
    },
    {
      "cell_type": "markdown",
      "metadata": {
        "colab_type": "text",
        "id": "efpr4E-pv5Li"
      },
      "source": [
        "# PART 1 - What is PyTorch?\n",
        "\n",
        "\n",
        "It’s a Python based scientific computing package targeted at two sets of\n",
        "audiences:\n",
        "-  A replacement for numpy to use the power of GPUs\n",
        "-  a deep learning research platform that provides maximum flexibility\n",
        "   and speed  \n"
      ]
    },
    {
      "cell_type": "markdown",
      "metadata": {
        "colab_type": "text",
        "id": "2Bt_TMCBv5Lj"
      },
      "source": [
        "### Director of AI at Tesla\n",
        "\n",
        "![Andrei-Karpathy](https://www.dropbox.com/s/dt2vvxafq1owehy/andrei-karpathy.png?dl=1)"
      ]
    },
    {
      "cell_type": "markdown",
      "metadata": {
        "colab_type": "text",
        "id": "50dCmDjSv5Lk"
      },
      "source": [
        "# Getting Started\n",
        "\n",
        "In this notebook you will get a quick start on what pytorch is and how to use it.\n",
        "\n",
        "## 1. Tensors\n",
        "\n",
        "Tensors are similar to numpy’s ndarrays, with the addition being that\n",
        "Tensors can also be used on a GPU to accelerate computing."
      ]
    },
    {
      "cell_type": "code",
      "metadata": {
        "colab_type": "code",
        "id": "HSJQljJev5Lk",
        "colab": {}
      },
      "source": [
        "import torch"
      ],
      "execution_count": 0,
      "outputs": []
    },
    {
      "cell_type": "markdown",
      "metadata": {
        "colab_type": "text",
        "id": "75nWxS9fv5Lo"
      },
      "source": [
        "Construct a 5x3 matrix, uninitialized"
      ]
    },
    {
      "cell_type": "code",
      "metadata": {
        "colab_type": "code",
        "id": "4n6lUxlvv5Lp",
        "outputId": "3b00b8f5-4d5b-4411-b699-756c2d83094d",
        "colab": {
          "base_uri": "https://localhost:8080/",
          "height": 181
        }
      },
      "source": [
        "x = torch.Tensor(5, 3)\n",
        "print(x)"
      ],
      "execution_count": 4,
      "outputs": [
        {
          "output_type": "stream",
          "text": [
            "tensor([[2.7711e-35, 0.0000e+00, 3.7835e-44],\n",
            "        [0.0000e+00,        nan, 0.0000e+00],\n",
            "        [1.3733e-14, 6.4069e+02, 4.3066e+21],\n",
            "        [1.1824e+22, 4.3066e+21, 6.3828e+28],\n",
            "        [3.8016e-39, 0.0000e+00, 0.0000e+00]])\n",
            "tensor([[2.7711e-35, 0.0000e+00, 1.2612e-44],\n",
            "        [0.0000e+00, 1.4013e-45, 0.0000e+00],\n",
            "        [1.3788e-14, 1.8369e+28, 1.9433e-19],\n",
            "        [3.3738e-12, 7.4086e+28, 6.9397e+22],\n",
            "        [1.7260e+25, 2.2856e+20, 5.0948e-14]])\n"
          ],
          "name": "stdout"
        }
      ]
    },
    {
      "cell_type": "markdown",
      "metadata": {
        "colab_type": "text",
        "id": "fHg80Smdv5Lt"
      },
      "source": [
        "Construct a randomly initialized matrix"
      ]
    },
    {
      "cell_type": "code",
      "metadata": {
        "colab_type": "code",
        "id": "91j_7dYRv5Lt",
        "outputId": "9ee9ad91-a44d-49bd-8ddc-ec6dd4e0e0df",
        "colab": {
          "base_uri": "https://localhost:8080/",
          "height": 98
        }
      },
      "source": [
        "x = torch.rand(5, 3)\n",
        "print(x)"
      ],
      "execution_count": 5,
      "outputs": [
        {
          "output_type": "stream",
          "text": [
            "tensor([[0.7992, 0.4158, 0.8202],\n",
            "        [0.5515, 0.9433, 0.7101],\n",
            "        [0.2509, 0.3170, 0.8170],\n",
            "        [0.8557, 0.0443, 0.9053],\n",
            "        [0.5088, 0.7137, 0.0948]])\n"
          ],
          "name": "stdout"
        }
      ]
    },
    {
      "cell_type": "markdown",
      "metadata": {
        "colab_type": "text",
        "id": "oNI2ATdDv5Lx"
      },
      "source": [
        "Get its size"
      ]
    },
    {
      "cell_type": "code",
      "metadata": {
        "colab_type": "code",
        "id": "S2FDiF0Iv5Ly",
        "outputId": "32731238-bd6b-4110-d1c2-566d9eda765c",
        "colab": {
          "base_uri": "https://localhost:8080/",
          "height": 32
        }
      },
      "source": [
        "print(x.size())"
      ],
      "execution_count": 6,
      "outputs": [
        {
          "output_type": "stream",
          "text": [
            "torch.Size([5, 3])\n"
          ],
          "name": "stdout"
        }
      ]
    },
    {
      "cell_type": "markdown",
      "metadata": {
        "colab_type": "text",
        "id": "Iefi8sejv5L2"
      },
      "source": [
        "**NOTE** `torch.Size` is in fact a tuple, so it supports the same operations"
      ]
    },
    {
      "cell_type": "markdown",
      "metadata": {
        "colab_type": "text",
        "id": "mkyY7G1Sv5L2"
      },
      "source": [
        "----\n",
        "### Part 1 -- Assignment (a)\n",
        "\n",
        "1. Make a tensor of size (2, 17)\n",
        "2. Make a torch.FloatTensor of size (3, 1)\n",
        "3. Make a torch.LongTensor of size (5, 2, 1)\n",
        "  - fill the entire tensor with 7s\n",
        "4. Make a torch.ByteTensor of size (5,)\n",
        "  - fill the middle 3 indices with ones such that it records [0, 1, 1, 1, 0]"
      ]
    },
    {
      "cell_type": "code",
      "metadata": {
        "id": "iz2UwucEXS7u",
        "colab_type": "code",
        "outputId": "bc096f36-8e17-41ca-da19-c26a68310e75",
        "colab": {
          "base_uri": "https://localhost:8080/",
          "height": 115
        }
      },
      "source": [
        "x2 = torch.Tensor(2, 17)\n",
        "print(x2)"
      ],
      "execution_count": 7,
      "outputs": [
        {
          "output_type": "stream",
          "text": [
            "tensor([[8.5098e-36, 0.0000e+00, 2.3262e-43, 0.0000e+00,        nan, 0.0000e+00,\n",
            "         1.7589e+22, 7.5516e+31, 2.7952e+20, 2.7074e+23, 3.0304e+35, 1.4226e-13,\n",
            "         1.4819e+25, 4.3605e+27, 1.8484e+31, 1.2399e+28, 1.8177e+31],\n",
            "        [3.8946e+21, 4.4650e+30, 7.0975e+22, 7.9309e+34, 7.9439e+08, 3.2604e-12,\n",
            "         7.3113e+34, 2.0706e-19, 7.7180e+28, 6.0041e+31, 4.2964e+24, 4.8418e+30,\n",
            "         1.6926e+22, 5.7886e+22, 6.7120e+22, 1.1632e+33, 5.6003e-02]])\n"
          ],
          "name": "stdout"
        }
      ]
    },
    {
      "cell_type": "code",
      "metadata": {
        "id": "qFKiNlhNXjEV",
        "colab_type": "code",
        "outputId": "059c1de9-7b93-4ce0-a987-c5ef8f709a2e",
        "colab": {
          "base_uri": "https://localhost:8080/",
          "height": 65
        }
      },
      "source": [
        "y = torch.FloatTensor(3,1)\n",
        "print(y)"
      ],
      "execution_count": 8,
      "outputs": [
        {
          "output_type": "stream",
          "text": [
            "tensor([[2.7712e-35],\n",
            "        [0.0000e+00],\n",
            "        [4.2039e-44]])\n"
          ],
          "name": "stdout"
        }
      ]
    },
    {
      "cell_type": "code",
      "metadata": {
        "id": "2aWsrtd1XjQB",
        "colab_type": "code",
        "outputId": "b8f28aab-a867-4ee6-9ef1-f64d61a1d54d",
        "colab": {
          "base_uri": "https://localhost:8080/",
          "height": 247
        }
      },
      "source": [
        "z = torch.LongTensor(5,2,1)\n",
        "z[:] = 7\n",
        "print(z)"
      ],
      "execution_count": 9,
      "outputs": [
        {
          "output_type": "stream",
          "text": [
            "tensor([[[7],\n",
            "         [7]],\n",
            "\n",
            "        [[7],\n",
            "         [7]],\n",
            "\n",
            "        [[7],\n",
            "         [7]],\n",
            "\n",
            "        [[7],\n",
            "         [7]],\n",
            "\n",
            "        [[7],\n",
            "         [7]]])\n"
          ],
          "name": "stdout"
        }
      ]
    },
    {
      "cell_type": "code",
      "metadata": {
        "id": "z8nOldsrYiH3",
        "colab_type": "code",
        "outputId": "e33e5048-04e2-458e-acb1-c0e051e61fa2",
        "colab": {
          "base_uri": "https://localhost:8080/",
          "height": 32
        }
      },
      "source": [
        "t = torch.ByteTensor(5,)\n",
        "t[0] = 0\n",
        "t[-1] = 0\n",
        "for i in range(1,4):\n",
        "  t[i] = 1\n",
        "print(t)"
      ],
      "execution_count": 10,
      "outputs": [
        {
          "output_type": "stream",
          "text": [
            "tensor([0, 1, 1, 1, 0], dtype=torch.uint8)\n"
          ],
          "name": "stdout"
        }
      ]
    },
    {
      "cell_type": "markdown",
      "metadata": {
        "colab_type": "text",
        "id": "fsuXjY6Lv5L3"
      },
      "source": [
        "-----------------\n",
        "## 2. Operations\n",
        "There are multiple syntaxes for operations. Let's see addition as an example:\n",
        "\n",
        "### 2.1 Addition: syntax 1"
      ]
    },
    {
      "cell_type": "code",
      "metadata": {
        "colab_type": "code",
        "id": "DMGZKCYQv5L4",
        "colab": {}
      },
      "source": [
        "y = torch.rand(5, 3)"
      ],
      "execution_count": 0,
      "outputs": []
    },
    {
      "cell_type": "code",
      "metadata": {
        "colab_type": "code",
        "id": "UJFL7jOkv5L8",
        "outputId": "44e0aa2e-3164-41e6-b0d7-85623c1fbc82",
        "colab": {
          "base_uri": "https://localhost:8080/",
          "height": 98
        }
      },
      "source": [
        "print(x + y)"
      ],
      "execution_count": 12,
      "outputs": [
        {
          "output_type": "stream",
          "text": [
            "tensor([[1.4241, 1.1791, 1.5346],\n",
            "        [1.3759, 1.8715, 1.6152],\n",
            "        [0.8215, 0.3799, 1.0801],\n",
            "        [1.1879, 0.7859, 1.5794],\n",
            "        [0.6839, 0.7466, 0.6055]])\n"
          ],
          "name": "stdout"
        }
      ]
    },
    {
      "cell_type": "markdown",
      "metadata": {
        "colab_type": "text",
        "id": "go9D0wQzv5L_"
      },
      "source": [
        "### 2.2 Addition: syntax 2"
      ]
    },
    {
      "cell_type": "code",
      "metadata": {
        "colab_type": "code",
        "id": "tb6idEIgv5L_",
        "outputId": "578249bb-4f4d-41ec-dab4-ee7a7e67df26",
        "colab": {
          "base_uri": "https://localhost:8080/",
          "height": 98
        }
      },
      "source": [
        "print(torch.add(x, y))"
      ],
      "execution_count": 13,
      "outputs": [
        {
          "output_type": "stream",
          "text": [
            "tensor([[1.4241, 1.1791, 1.5346],\n",
            "        [1.3759, 1.8715, 1.6152],\n",
            "        [0.8215, 0.3799, 1.0801],\n",
            "        [1.1879, 0.7859, 1.5794],\n",
            "        [0.6839, 0.7466, 0.6055]])\n"
          ],
          "name": "stdout"
        }
      ]
    },
    {
      "cell_type": "markdown",
      "metadata": {
        "colab_type": "text",
        "id": "QnzBomAYv5MD"
      },
      "source": [
        "### 2.3 Addition: giving an output tensor"
      ]
    },
    {
      "cell_type": "code",
      "metadata": {
        "colab_type": "code",
        "id": "oc1pKzz6v5ME",
        "colab": {}
      },
      "source": [
        "result = torch.Tensor(5, 3)"
      ],
      "execution_count": 0,
      "outputs": []
    },
    {
      "cell_type": "code",
      "metadata": {
        "colab_type": "code",
        "id": "Ie7h_EMHv5MH",
        "outputId": "61cf2a0f-cb4f-40a5-b7bd-d4f2d199d761",
        "colab": {
          "base_uri": "https://localhost:8080/",
          "height": 98
        }
      },
      "source": [
        "torch.add(x, y, out = result)\n",
        "print(result)"
      ],
      "execution_count": 15,
      "outputs": [
        {
          "output_type": "stream",
          "text": [
            "tensor([[1.4241, 1.1791, 1.5346],\n",
            "        [1.3759, 1.8715, 1.6152],\n",
            "        [0.8215, 0.3799, 1.0801],\n",
            "        [1.1879, 0.7859, 1.5794],\n",
            "        [0.6839, 0.7466, 0.6055]])\n"
          ],
          "name": "stdout"
        }
      ]
    },
    {
      "cell_type": "markdown",
      "metadata": {
        "colab_type": "text",
        "id": "jv7Q6W08v5MK"
      },
      "source": [
        "### 2.4 Addition: in-place\n",
        "\n",
        "adds `x`to `y`"
      ]
    },
    {
      "cell_type": "code",
      "metadata": {
        "colab_type": "code",
        "id": "6gdzhjapv5ML",
        "outputId": "4456faf5-fe09-4fc4-f1c3-987866819858",
        "colab": {
          "base_uri": "https://localhost:8080/",
          "height": 98
        }
      },
      "source": [
        "y"
      ],
      "execution_count": 16,
      "outputs": [
        {
          "output_type": "execute_result",
          "data": {
            "text/plain": [
              "tensor([[0.6249, 0.7633, 0.7144],\n",
              "        [0.8244, 0.9282, 0.9051],\n",
              "        [0.5706, 0.0629, 0.2631],\n",
              "        [0.3322, 0.7416, 0.6741],\n",
              "        [0.1751, 0.0328, 0.5106]])"
            ]
          },
          "metadata": {
            "tags": []
          },
          "execution_count": 16
        }
      ]
    },
    {
      "cell_type": "code",
      "metadata": {
        "colab_type": "code",
        "id": "6KJUsaQLv5MO",
        "outputId": "d14b82e2-54e0-4e3e-87a9-cdf65439ca08",
        "colab": {
          "base_uri": "https://localhost:8080/",
          "height": 98
        }
      },
      "source": [
        "y.add_(x)\n",
        "print(y)"
      ],
      "execution_count": 17,
      "outputs": [
        {
          "output_type": "stream",
          "text": [
            "tensor([[1.4241, 1.1791, 1.5346],\n",
            "        [1.3759, 1.8715, 1.6152],\n",
            "        [0.8215, 0.3799, 1.0801],\n",
            "        [1.1879, 0.7859, 1.5794],\n",
            "        [0.6839, 0.7466, 0.6055]])\n"
          ],
          "name": "stdout"
        }
      ]
    },
    {
      "cell_type": "markdown",
      "metadata": {
        "colab_type": "text",
        "id": "T0nG6Vnyv5MR"
      },
      "source": [
        "**NOTE** Any operation that mutates a tensor in-place is post-fixed with an `_`. For example: `x.copy_(y)`, `x.t_()`, will change `x`."
      ]
    },
    {
      "cell_type": "markdown",
      "metadata": {
        "colab_type": "text",
        "id": "lNKcvhdrv5MR"
      },
      "source": [
        "You can use standard numpy-like indexing with all bells and whistles!"
      ]
    },
    {
      "cell_type": "code",
      "metadata": {
        "colab_type": "code",
        "id": "iHbTgdYlv5MS",
        "outputId": "051871d6-2371-42a4-c741-6a497dbcf796",
        "colab": {
          "base_uri": "https://localhost:8080/",
          "height": 32
        }
      },
      "source": [
        "print(x[:, 1])"
      ],
      "execution_count": 18,
      "outputs": [
        {
          "output_type": "stream",
          "text": [
            "tensor([0.4158, 0.9433, 0.3170, 0.0443, 0.7137])\n"
          ],
          "name": "stdout"
        }
      ]
    },
    {
      "cell_type": "code",
      "metadata": {
        "colab_type": "code",
        "id": "rf5HoNfAv5MV",
        "outputId": "35b8cdd4-aa05-4696-b4c2-c384a12a538d",
        "colab": {
          "base_uri": "https://localhost:8080/",
          "height": 32
        }
      },
      "source": [
        "print(x.shape)"
      ],
      "execution_count": 19,
      "outputs": [
        {
          "output_type": "stream",
          "text": [
            "torch.Size([5, 3])\n"
          ],
          "name": "stdout"
        }
      ]
    },
    {
      "cell_type": "code",
      "metadata": {
        "colab_type": "code",
        "id": "GAJUzIsCv5MY",
        "outputId": "be7c4bcf-65af-4485-9a25-4e855e09ea0a",
        "colab": {
          "base_uri": "https://localhost:8080/",
          "height": 32
        }
      },
      "source": [
        "print(y.shape)"
      ],
      "execution_count": 20,
      "outputs": [
        {
          "output_type": "stream",
          "text": [
            "torch.Size([5, 3])\n"
          ],
          "name": "stdout"
        }
      ]
    },
    {
      "cell_type": "code",
      "metadata": {
        "colab_type": "code",
        "id": "3EPJGJUfv5Mb",
        "colab": {}
      },
      "source": [
        "y.mul_?"
      ],
      "execution_count": 0,
      "outputs": []
    },
    {
      "cell_type": "markdown",
      "metadata": {
        "colab_type": "text",
        "id": "EZtnSX9pv5Me"
      },
      "source": [
        "**Read later** 100+ Tensor operations, including transposing, indexing, slicing, mathematical operations, linear algebra, random numbers, etc are described here <http://pytorch.org/docs/torch>"
      ]
    },
    {
      "cell_type": "markdown",
      "metadata": {
        "colab_type": "text",
        "id": "t-rK-UGCv5Mf"
      },
      "source": [
        "----\n",
        "### Part 1 - Assignment (b)\n",
        "\n",
        "1. multiply of two tensors (see [torch.Tensor.mul](http://pytorch.org/docs/master/tensors.html#torch.Tensor.mul))\n",
        "2. do the same, but inplace\n",
        "3. division of two tensors (see [torch.Tensor.div](http://pytorch.org/docs/master/tensors.html#torch.Tensor.div))\n",
        "4. perform a matrix multiplication of two tensors of size (2, 4) and (4, 2)"
      ]
    },
    {
      "cell_type": "code",
      "metadata": {
        "id": "B6dO93Bffa_w",
        "colab_type": "code",
        "outputId": "c9a8573c-25f4-49b1-a23f-3ca90c57760a",
        "colab": {
          "base_uri": "https://localhost:8080/",
          "height": 263
        }
      },
      "source": [
        "a = torch.rand(5,2)\n",
        "b = torch.rand(5,2)\n",
        "c = torch.Tensor.mul(a,b)\n",
        "print(a)\n",
        "print(b)\n",
        "print(c)"
      ],
      "execution_count": 22,
      "outputs": [
        {
          "output_type": "stream",
          "text": [
            "tensor([[0.8976, 0.1775],\n",
            "        [0.9366, 0.4049],\n",
            "        [0.0182, 0.8532],\n",
            "        [0.5404, 0.5055],\n",
            "        [0.6561, 0.0252]])\n",
            "tensor([[0.6356, 0.8230],\n",
            "        [0.2488, 0.3499],\n",
            "        [0.4427, 0.9982],\n",
            "        [0.1888, 0.5783],\n",
            "        [0.6888, 0.7235]])\n",
            "tensor([[0.5705, 0.1461],\n",
            "        [0.2330, 0.1417],\n",
            "        [0.0081, 0.8516],\n",
            "        [0.1020, 0.2924],\n",
            "        [0.4519, 0.0182]])\n"
          ],
          "name": "stdout"
        }
      ]
    },
    {
      "cell_type": "code",
      "metadata": {
        "id": "36Zap8cA_vrV",
        "colab_type": "code",
        "outputId": "ff1d73ce-7ae3-4def-b01f-e4a47cf880a1",
        "colab": {
          "base_uri": "https://localhost:8080/",
          "height": 98
        }
      },
      "source": [
        "a.mul_(b)"
      ],
      "execution_count": 23,
      "outputs": [
        {
          "output_type": "execute_result",
          "data": {
            "text/plain": [
              "tensor([[0.5705, 0.1461],\n",
              "        [0.2330, 0.1417],\n",
              "        [0.0081, 0.8516],\n",
              "        [0.1020, 0.2924],\n",
              "        [0.4519, 0.0182]])"
            ]
          },
          "metadata": {
            "tags": []
          },
          "execution_count": 23
        }
      ]
    },
    {
      "cell_type": "code",
      "metadata": {
        "id": "QeLEeVrTAMuO",
        "colab_type": "code",
        "outputId": "56dc3e6c-87d9-44ba-f615-2d980d3d5a62",
        "colab": {
          "base_uri": "https://localhost:8080/",
          "height": 181
        }
      },
      "source": [
        "a = torch.rand(5,2)\n",
        "div = torch.Tensor.div(a,0.5)\n",
        "print(a, div, sep = '\\n')"
      ],
      "execution_count": 24,
      "outputs": [
        {
          "output_type": "stream",
          "text": [
            "tensor([[0.6834, 0.3212],\n",
            "        [0.5094, 0.9670],\n",
            "        [0.8121, 0.7622],\n",
            "        [0.8239, 0.9244],\n",
            "        [0.2379, 0.0857]])\n",
            "tensor([[1.3669, 0.6423],\n",
            "        [1.0188, 1.9339],\n",
            "        [1.6241, 1.5243],\n",
            "        [1.6477, 1.8487],\n",
            "        [0.4758, 0.1714]])\n"
          ],
          "name": "stdout"
        }
      ]
    },
    {
      "cell_type": "code",
      "metadata": {
        "id": "5PH1Q02hAM8L",
        "colab_type": "code",
        "colab": {}
      },
      "source": [
        ""
      ],
      "execution_count": 0,
      "outputs": []
    },
    {
      "cell_type": "markdown",
      "metadata": {
        "colab_type": "text",
        "id": "2Q_cODdov5Mf"
      },
      "source": [
        "---------\n",
        "## 3. Numpy Bridge\n",
        "\n",
        "Converting a torch Tensor to a numpy array and vice versa is a breeze.\n",
        "\n",
        "The torch Tensor and numpy array will share their underlying memory locations, and changing one will change the other.\n",
        "\n",
        "### 3.1 Converting torch Tensor to numpy Array"
      ]
    },
    {
      "cell_type": "code",
      "metadata": {
        "colab_type": "code",
        "id": "Gos7UqVfv5Mg",
        "outputId": "ca571ac0-9286-4762-bff1-f2f371940013",
        "colab": {
          "base_uri": "https://localhost:8080/",
          "height": 49
        }
      },
      "source": [
        "a = torch.ones(5)\n",
        "print(a)\n",
        "type(a)"
      ],
      "execution_count": 25,
      "outputs": [
        {
          "output_type": "stream",
          "text": [
            "tensor([1., 1., 1., 1., 1.])\n"
          ],
          "name": "stdout"
        },
        {
          "output_type": "execute_result",
          "data": {
            "text/plain": [
              "torch.Tensor"
            ]
          },
          "metadata": {
            "tags": []
          },
          "execution_count": 25
        }
      ]
    },
    {
      "cell_type": "code",
      "metadata": {
        "colab_type": "code",
        "id": "4s8-vXihv5Mj",
        "colab": {}
      },
      "source": [
        "x = a"
      ],
      "execution_count": 0,
      "outputs": []
    },
    {
      "cell_type": "code",
      "metadata": {
        "colab_type": "code",
        "id": "-9Yd3W7ev5Ml",
        "outputId": "4f8bb898-e8b8-4a4b-90bf-bc9021c67847",
        "colab": {
          "base_uri": "https://localhost:8080/",
          "height": 32
        }
      },
      "source": [
        "type(x)"
      ],
      "execution_count": 27,
      "outputs": [
        {
          "output_type": "execute_result",
          "data": {
            "text/plain": [
              "torch.Tensor"
            ]
          },
          "metadata": {
            "tags": []
          },
          "execution_count": 27
        }
      ]
    },
    {
      "cell_type": "code",
      "metadata": {
        "colab_type": "code",
        "id": "o4Vrki8dv5Mo",
        "outputId": "7b54c233-9264-4782-d6fa-15288d992b16",
        "colab": {
          "base_uri": "https://localhost:8080/",
          "height": 32
        }
      },
      "source": [
        "x.numpy()"
      ],
      "execution_count": 28,
      "outputs": [
        {
          "output_type": "execute_result",
          "data": {
            "text/plain": [
              "array([1., 1., 1., 1., 1.], dtype=float32)"
            ]
          },
          "metadata": {
            "tags": []
          },
          "execution_count": 28
        }
      ]
    },
    {
      "cell_type": "code",
      "metadata": {
        "colab_type": "code",
        "id": "dKvyCvJpv5Mr",
        "outputId": "12793378-6266-4f9b-d78b-27a315af4c7a",
        "colab": {
          "base_uri": "https://localhost:8080/",
          "height": 49
        }
      },
      "source": [
        "b = a.numpy()\n",
        "\n",
        "print(b)\n",
        "type(b)"
      ],
      "execution_count": 29,
      "outputs": [
        {
          "output_type": "stream",
          "text": [
            "[1. 1. 1. 1. 1.]\n"
          ],
          "name": "stdout"
        },
        {
          "output_type": "execute_result",
          "data": {
            "text/plain": [
              "numpy.ndarray"
            ]
          },
          "metadata": {
            "tags": []
          },
          "execution_count": 29
        }
      ]
    },
    {
      "cell_type": "markdown",
      "metadata": {
        "colab_type": "text",
        "id": "x_Bnt8-Bv5Mt"
      },
      "source": [
        "See how the numpy array changed in value."
      ]
    },
    {
      "cell_type": "code",
      "metadata": {
        "colab_type": "code",
        "id": "fT12Pz5Jv5Mu",
        "outputId": "8083d7eb-3fe2-4100-bcf4-3d39c45c9b00",
        "colab": {
          "base_uri": "https://localhost:8080/",
          "height": 49
        }
      },
      "source": [
        "# in place addition \n",
        "a.add_(1)\n",
        "\n",
        "print(a)\n",
        "print(b)"
      ],
      "execution_count": 30,
      "outputs": [
        {
          "output_type": "stream",
          "text": [
            "tensor([2., 2., 2., 2., 2.])\n",
            "[2. 2. 2. 2. 2.]\n"
          ],
          "name": "stdout"
        }
      ]
    },
    {
      "cell_type": "code",
      "metadata": {
        "colab_type": "code",
        "id": "9Ceo1QMev5Mx",
        "outputId": "b1d1f846-6a5e-4fc4-8aff-51b6745b3148",
        "colab": {
          "base_uri": "https://localhost:8080/",
          "height": 32
        }
      },
      "source": [
        "b\n",
        "#b = a.numpy()\n",
        "#a changed, b changed too - copy constructor"
      ],
      "execution_count": 31,
      "outputs": [
        {
          "output_type": "execute_result",
          "data": {
            "text/plain": [
              "array([2., 2., 2., 2., 2.], dtype=float32)"
            ]
          },
          "metadata": {
            "tags": []
          },
          "execution_count": 31
        }
      ]
    },
    {
      "cell_type": "markdown",
      "metadata": {
        "colab_type": "text",
        "id": "uMGD4l7Qv5M1"
      },
      "source": [
        "### 3.2 Converting numpy Array to torch Tensor\n",
        "\n",
        "See how changing the np array changed the torch Tensor automatically"
      ]
    },
    {
      "cell_type": "code",
      "metadata": {
        "colab_type": "code",
        "id": "jZG0mBGnv5M1",
        "outputId": "cc202bbe-9f71-45f9-86f5-46920019b9ba",
        "colab": {
          "base_uri": "https://localhost:8080/",
          "height": 65
        }
      },
      "source": [
        "import numpy as np\n",
        "xx = np.random.rand(16, 153, 100)\n",
        "print(xx.shape)\n",
        "\n",
        "# convert to a pytorch tensor \n",
        "b = torch.from_numpy(xx)\n",
        "print(b.shape)\n",
        "\n",
        "# add ones - this happens in place \n",
        "a1  = np.add(a.numpy(), 1)\n",
        "type(a1)\n",
        "\n",
        "a2 = torch.from_numpy(a1)\n",
        "type(a2)"
      ],
      "execution_count": 32,
      "outputs": [
        {
          "output_type": "stream",
          "text": [
            "(16, 153, 100)\n",
            "torch.Size([16, 153, 100])\n"
          ],
          "name": "stdout"
        },
        {
          "output_type": "execute_result",
          "data": {
            "text/plain": [
              "torch.Tensor"
            ]
          },
          "metadata": {
            "tags": []
          },
          "execution_count": 32
        }
      ]
    },
    {
      "cell_type": "markdown",
      "metadata": {
        "colab_type": "text",
        "id": "-zJsqWh3v5M4"
      },
      "source": [
        "---- \n",
        "### Part 1 - Assignment (c)\n",
        "\n",
        "1. create a tensor of size (5, 2) containing ones\n",
        "2. now convert it to a numpy array\n",
        "3. now convert it back to a torch tensor\n",
        "___"
      ]
    },
    {
      "cell_type": "code",
      "metadata": {
        "id": "YjfW12RVBnxl",
        "colab_type": "code",
        "outputId": "2da6dac8-8043-4d01-de99-500c82cbab7b",
        "colab": {
          "base_uri": "https://localhost:8080/",
          "height": 296
        }
      },
      "source": [
        "a = torch.Tensor(5,2)\n",
        "a[:] = 1\n",
        "print(a)\n",
        "a = a.numpy()\n",
        "print(type(a))\n",
        "print(a)\n",
        "a = torch.from_numpy(a)\n",
        "print(type(a))\n",
        "print(a)"
      ],
      "execution_count": 33,
      "outputs": [
        {
          "output_type": "stream",
          "text": [
            "tensor([[1., 1.],\n",
            "        [1., 1.],\n",
            "        [1., 1.],\n",
            "        [1., 1.],\n",
            "        [1., 1.]])\n",
            "<class 'numpy.ndarray'>\n",
            "[[1. 1.]\n",
            " [1. 1.]\n",
            " [1. 1.]\n",
            " [1. 1.]\n",
            " [1. 1.]]\n",
            "<class 'torch.Tensor'>\n",
            "tensor([[1., 1.],\n",
            "        [1., 1.],\n",
            "        [1., 1.],\n",
            "        [1., 1.],\n",
            "        [1., 1.]])\n"
          ],
          "name": "stdout"
        }
      ]
    },
    {
      "cell_type": "markdown",
      "metadata": {
        "colab_type": "text",
        "id": "H126kezZv5M5"
      },
      "source": [
        "All the Tensors on the CPU except a CharTensor support converting to NumPy and back.\n",
        "\n",
        "## 4 CUDA Tensors\n",
        "\n",
        "Tensors can be moved onto GPU using the `.cuda` function."
      ]
    },
    {
      "cell_type": "code",
      "metadata": {
        "colab_type": "code",
        "id": "fLF4cCjlv5M5",
        "outputId": "4a64d191-62e6-4eb1-c125-ceb5e270e001",
        "colab": {
          "base_uri": "https://localhost:8080/",
          "height": 32
        }
      },
      "source": [
        "torch.cuda.is_available()"
      ],
      "execution_count": 34,
      "outputs": [
        {
          "output_type": "execute_result",
          "data": {
            "text/plain": [
              "False"
            ]
          },
          "metadata": {
            "tags": []
          },
          "execution_count": 34
        }
      ]
    },
    {
      "cell_type": "code",
      "metadata": {
        "colab_type": "code",
        "id": "kF7w1tzCv5M7",
        "outputId": "aae51e85-c8b6-4c76-8138-d31de94b8d7a",
        "colab": {
          "base_uri": "https://localhost:8080/",
          "height": 32
        }
      },
      "source": [
        "# let us run this cell only if CUDA is available\n",
        "if torch.cuda.is_available():    \n",
        "    x = x.cuda()\n",
        "    y = y.cuda()    \n",
        "    z = x + y\n",
        "    # notice that the tensors are now of type torch.cuda.FloatTensor (notice the cuda in there)\n",
        "    # this is meant as a tensor to be run on the GPU.\n",
        "    # the .cuda() does this to any parameter it is applied to\n",
        "    print(x)\n",
        "    print(y)\n",
        "    print(z)\n",
        "else:\n",
        "    print(\"CUDA not available on your machine.\")"
      ],
      "execution_count": 35,
      "outputs": [
        {
          "output_type": "stream",
          "text": [
            "CUDA not available on your machine.\n"
          ],
          "name": "stdout"
        }
      ]
    },
    {
      "cell_type": "markdown",
      "metadata": {
        "colab_type": "text",
        "id": "OtHwLisDv5M_"
      },
      "source": [
        "-----\n",
        "\n",
        "# PART 2 - Autograd: automatic differentiation\n",
        "\n",
        "Central to all neural networks in PyTorch is the ``autograd`` package.\n",
        "Let’s first briefly visit this, and we will then go to training our first neural network.\n",
        "\n",
        "The `autograd` package provides automatic differentiation for all operations on Tensors.\n",
        "It is a define-by-run framework, which means that your backprop is defined by how your code is run, and that every single iteration can be different.\n",
        "\n",
        "Let us see this in more simple terms with some examples."
      ]
    },
    {
      "cell_type": "markdown",
      "metadata": {
        "colab_type": "text",
        "id": "LQaHQZwBv5NA"
      },
      "source": [
        "## 1. Variable\n",
        "\n",
        "`autograd.Variable` is the central class of the package. It wraps a Tensor, and supports nearly all of operations defined on it.\n",
        "Once you finish your computation you can call `.backward()` and have all the gradients computed automatically.\n",
        "\n",
        "You can access the raw tensor through the `.data` attribute, while the gradient w.r.t. this variable is accumulated into `.grad`.\n",
        "\n",
        "There’s one more class which is very important for autograd implementation - a `Function`.\n",
        "\n",
        "`Variable` and `Function` are interconnected and build up an `acyclic graph`, that encodes a complete history of computation. Each variable has a `.grad_fn` attribute that references a `Function` that has created the `Variable` (except for `Variable`s created by the user - their `grad_fn` is `None`).\n",
        "\n",
        "If you want to compute the derivatives, you can call `.backward()` on a `Variable`. If `Variable` is a scalar (i.e. it holds a one element data), you don’t need to specify any arguments to `backward()`, however if it has more elements, you need to specify a `grad_output` argument that is a tensor of matching shape."
      ]
    },
    {
      "cell_type": "code",
      "metadata": {
        "colab_type": "code",
        "id": "B_W1Ghv5v5NA",
        "colab": {}
      },
      "source": [
        "import torch\n",
        "from torch.autograd import Variable"
      ],
      "execution_count": 0,
      "outputs": []
    },
    {
      "cell_type": "code",
      "metadata": {
        "colab_type": "code",
        "id": "D3WCl8N_v5ND",
        "colab": {}
      },
      "source": [
        "%matplotlib inline"
      ],
      "execution_count": 0,
      "outputs": []
    },
    {
      "cell_type": "markdown",
      "metadata": {
        "colab_type": "text",
        "id": "58SQwMwyv5NF"
      },
      "source": [
        "Create a variable"
      ]
    },
    {
      "cell_type": "code",
      "metadata": {
        "colab_type": "code",
        "id": "V0leAXjcv5NF",
        "colab": {}
      },
      "source": [
        "#f(x) = Wx + b"
      ],
      "execution_count": 0,
      "outputs": []
    },
    {
      "cell_type": "code",
      "metadata": {
        "colab_type": "code",
        "id": "38XBXxF5v5NI",
        "outputId": "3c982fc0-6b6a-4dfe-907a-372060ad8261",
        "colab": {
          "base_uri": "https://localhost:8080/",
          "height": 49
        }
      },
      "source": [
        "x = Variable(torch.ones(2, 2), \n",
        "             requires_grad=True)\n",
        "print(x)"
      ],
      "execution_count": 39,
      "outputs": [
        {
          "output_type": "stream",
          "text": [
            "tensor([[1., 1.],\n",
            "        [1., 1.]], requires_grad=True)\n"
          ],
          "name": "stdout"
        }
      ]
    },
    {
      "cell_type": "markdown",
      "metadata": {
        "colab_type": "text",
        "id": "nM3prbjJv5NK"
      },
      "source": [
        "Do an operation of variable:"
      ]
    },
    {
      "cell_type": "code",
      "metadata": {
        "colab_type": "code",
        "id": "4RNZB9V_v5NL",
        "outputId": "6f95521e-cd41-4e1f-9507-a4a7c9ba5148",
        "colab": {
          "base_uri": "https://localhost:8080/",
          "height": 49
        }
      },
      "source": [
        "y = x + 2\n",
        "print(y)"
      ],
      "execution_count": 40,
      "outputs": [
        {
          "output_type": "stream",
          "text": [
            "tensor([[3., 3.],\n",
            "        [3., 3.]], grad_fn=<AddBackward0>)\n"
          ],
          "name": "stdout"
        }
      ]
    },
    {
      "cell_type": "markdown",
      "metadata": {
        "colab_type": "text",
        "id": "tDIew5kvv5NO"
      },
      "source": [
        "`y` was created as a result of an operation, so it has a `grad_fn`."
      ]
    },
    {
      "cell_type": "code",
      "metadata": {
        "colab_type": "code",
        "id": "2S7FKit5v5NO",
        "outputId": "e8d900ba-5a08-4e33-a131-572d3b2abbb0",
        "colab": {
          "base_uri": "https://localhost:8080/",
          "height": 32
        }
      },
      "source": [
        "print(y.grad_fn)"
      ],
      "execution_count": 41,
      "outputs": [
        {
          "output_type": "stream",
          "text": [
            "<AddBackward0 object at 0x7f5000040898>\n"
          ],
          "name": "stdout"
        }
      ]
    },
    {
      "cell_type": "markdown",
      "metadata": {
        "colab_type": "text",
        "id": "VCsuAy_5v5NR"
      },
      "source": [
        "Do more operations on y"
      ]
    },
    {
      "cell_type": "markdown",
      "metadata": {
        "colab_type": "text",
        "id": "xhBbbHCZv5NR"
      },
      "source": [
        "$z = 3*(x+2)^2$"
      ]
    },
    {
      "cell_type": "markdown",
      "metadata": {
        "colab_type": "text",
        "id": "luLJNRbPv5NS"
      },
      "source": [
        "y = x + 2"
      ]
    },
    {
      "cell_type": "code",
      "metadata": {
        "colab_type": "code",
        "id": "OthlM28qv5NS",
        "outputId": "7425f6d0-ae40-4ebe-c216-0068a97054bb",
        "colab": {
          "base_uri": "https://localhost:8080/",
          "height": 49
        }
      },
      "source": [
        "z = 3 * y * y \n",
        "print(z) "
      ],
      "execution_count": 42,
      "outputs": [
        {
          "output_type": "stream",
          "text": [
            "tensor([[27., 27.],\n",
            "        [27., 27.]], grad_fn=<MulBackward0>)\n"
          ],
          "name": "stdout"
        }
      ]
    },
    {
      "cell_type": "markdown",
      "metadata": {
        "colab_type": "text",
        "id": "R1xaMYqav5NV"
      },
      "source": [
        "$out = \\frac{1}{N}\\sum_{i}^{N} 3(x_{i} + 2)^2$"
      ]
    },
    {
      "cell_type": "code",
      "metadata": {
        "colab_type": "code",
        "id": "rdA1We0cv5NV",
        "colab": {}
      },
      "source": [
        "out = z.mean()"
      ],
      "execution_count": 0,
      "outputs": []
    },
    {
      "cell_type": "code",
      "metadata": {
        "colab_type": "code",
        "id": "DSuQT-x_v5NY",
        "outputId": "4bb2b97e-3390-432c-e98e-d64a8058d090",
        "colab": {
          "base_uri": "https://localhost:8080/",
          "height": 65
        }
      },
      "source": [
        "print(z)\n",
        "print(out)"
      ],
      "execution_count": 44,
      "outputs": [
        {
          "output_type": "stream",
          "text": [
            "tensor([[27., 27.],\n",
            "        [27., 27.]], grad_fn=<MulBackward0>)\n",
            "tensor(27., grad_fn=<MeanBackward0>)\n"
          ],
          "name": "stdout"
        }
      ]
    },
    {
      "cell_type": "markdown",
      "metadata": {
        "colab_type": "text",
        "id": "gUfXgBCpv5Na"
      },
      "source": [
        "## 2. Gradients\n",
        "\n",
        "Let’s backprop now `out.backward()` is equivalent to doing `out.backward(torch.Tensor([1.0]))`"
      ]
    },
    {
      "cell_type": "code",
      "metadata": {
        "colab_type": "code",
        "id": "JLZteEbzv5Nb",
        "colab": {}
      },
      "source": [
        "out.backward(retain_graph=True)"
      ],
      "execution_count": 0,
      "outputs": []
    },
    {
      "cell_type": "code",
      "metadata": {
        "colab_type": "code",
        "id": "lsLMzz2qv5Nd",
        "outputId": "c17f6208-79eb-48b3-b2b0-9ac19609e012",
        "colab": {
          "base_uri": "https://localhost:8080/",
          "height": 65
        }
      },
      "source": [
        "print(out)\n",
        "print(x)"
      ],
      "execution_count": 46,
      "outputs": [
        {
          "output_type": "stream",
          "text": [
            "tensor(27., grad_fn=<MeanBackward0>)\n",
            "tensor([[1., 1.],\n",
            "        [1., 1.]], requires_grad=True)\n"
          ],
          "name": "stdout"
        }
      ]
    },
    {
      "cell_type": "markdown",
      "metadata": {
        "colab_type": "text",
        "id": "T7zW9Kikv5Ng"
      },
      "source": [
        "print gradients d(out)/dx"
      ]
    },
    {
      "cell_type": "code",
      "metadata": {
        "colab_type": "code",
        "id": "G9FktoLwv5Nh",
        "outputId": "35cadd77-858a-402a-f020-150f32cca95f",
        "colab": {
          "base_uri": "https://localhost:8080/",
          "height": 49
        }
      },
      "source": [
        "print(x.grad)"
      ],
      "execution_count": 47,
      "outputs": [
        {
          "output_type": "stream",
          "text": [
            "tensor([[4.5000, 4.5000],\n",
            "        [4.5000, 4.5000]])\n"
          ],
          "name": "stdout"
        }
      ]
    },
    {
      "cell_type": "markdown",
      "metadata": {
        "colab_type": "text",
        "id": "VD87kbEdv5Nj"
      },
      "source": [
        "You should have got a matrix of `4.5`. Let’s call the `out` *Variable* $o$.\n",
        "\n",
        "We have that $o = \\frac{1}{4}\\sum_i z_i$,\n",
        "$z_i = 3(x_i+2)^2$ and $z_i\\bigr\\rvert_{x_i=1} = 27$.\n",
        "\n",
        "Therefore, $\\frac{\\partial o}{\\partial x_i} = \\frac{3}{2}(x_i+2)$,\n",
        "hence $\\frac{\\partial o}{\\partial x_i}\\bigr\\rvert_{x_i=1} = \\frac{9}{2} = 4.5$.\n",
        "\n",
        "`You can do many crazy things with autograd!`"
      ]
    },
    {
      "cell_type": "code",
      "metadata": {
        "colab_type": "code",
        "id": "xP4REes2v5Nk",
        "outputId": "f44a952f-e99a-42a1-b71a-769953d5e0f9",
        "colab": {
          "base_uri": "https://localhost:8080/",
          "height": 32
        }
      },
      "source": [
        "x = torch.randn(3)\n",
        "x = Variable(x, requires_grad=True)\n",
        "\n",
        "y = x * 2\n",
        "while y.data.norm() < 1000:\n",
        "    y = y * 2\n",
        "\n",
        "print(y)"
      ],
      "execution_count": 48,
      "outputs": [
        {
          "output_type": "stream",
          "text": [
            "tensor([  909.8808,    39.3277, -1545.9276], grad_fn=<MulBackward0>)\n"
          ],
          "name": "stdout"
        }
      ]
    },
    {
      "cell_type": "code",
      "metadata": {
        "colab_type": "code",
        "id": "U0TR1SIcv5Nm",
        "outputId": "3fb0283e-778b-42dd-fc95-0193d1ecca1f",
        "colab": {
          "base_uri": "https://localhost:8080/",
          "height": 32
        }
      },
      "source": [
        "gradients = torch.FloatTensor([0.1, 1.0, 0.0001])\n",
        "y.backward(gradients)\n",
        "\n",
        "print(x.grad)"
      ],
      "execution_count": 49,
      "outputs": [
        {
          "output_type": "stream",
          "text": [
            "tensor([1.0240e+02, 1.0240e+03, 1.0240e-01])\n"
          ],
          "name": "stdout"
        }
      ]
    },
    {
      "cell_type": "markdown",
      "metadata": {
        "colab_type": "text",
        "id": "L-MFF2Avv5No"
      },
      "source": [
        "**Read later**\n",
        "Documentation of `Variable` and `Function` is at http://pytorch.org/docs/autograd"
      ]
    },
    {
      "cell_type": "markdown",
      "metadata": {
        "colab_type": "text",
        "id": "0Q37_Rd_v5No"
      },
      "source": [
        "----------\n",
        "### Part 2 - Assignments (a)\n",
        "\n",
        "1. Define a tensor\n",
        "2. Convert the tensor to a torch.Variable that requires_grad\n",
        "3. Multiply the torch.Variable with 2 and assign the result to a new python variable (i.e. `x = result`)\n",
        "4. Sum the variable's elements and assign to a new python variable\n",
        "5. Print the gradients of all the variables\n",
        "6. Now perform a backward pass on the last variable\n",
        "7. Print all gradients again\n",
        "  - what did you notice?"
      ]
    },
    {
      "cell_type": "code",
      "metadata": {
        "id": "jG5y-RAsW044",
        "colab_type": "code",
        "colab": {}
      },
      "source": [
        ""
      ],
      "execution_count": 0,
      "outputs": []
    },
    {
      "cell_type": "code",
      "metadata": {
        "id": "gPAZonPhW1Xb",
        "colab_type": "code",
        "outputId": "ea825ca8-de2b-420f-8815-e099c884320c",
        "colab": {
          "base_uri": "https://localhost:8080/",
          "height": 82
        }
      },
      "source": [
        "# 1. Define a tensor\n",
        "x = torch.ones(2,2)\n",
        "print(x)\n",
        "\n",
        "# 2. Convert the tensor to a torch.Variable that requires_grad\n",
        "x = Variable(x, requires_grad = True)\n",
        "print(x)"
      ],
      "execution_count": 50,
      "outputs": [
        {
          "output_type": "stream",
          "text": [
            "tensor([[1., 1.],\n",
            "        [1., 1.]])\n",
            "tensor([[1., 1.],\n",
            "        [1., 1.]], requires_grad=True)\n"
          ],
          "name": "stdout"
        }
      ]
    },
    {
      "cell_type": "code",
      "metadata": {
        "id": "w92-fbsGbhZU",
        "colab_type": "code",
        "outputId": "297dd504-f0a5-4b5d-e49d-5267146528d5",
        "colab": {
          "base_uri": "https://localhost:8080/",
          "height": 65
        }
      },
      "source": [
        "# 3. Multiply the torch.Variable with 2 and assign the result to a new python variable (i.e. x = result)\n",
        "result = x*2\n",
        "print(result)\n",
        "\n",
        "# 4. Sum the variable's elements and assign to a new python variable\n",
        "sum_result = result.sum()\n",
        "print(sum_result)"
      ],
      "execution_count": 51,
      "outputs": [
        {
          "output_type": "stream",
          "text": [
            "tensor([[2., 2.],\n",
            "        [2., 2.]], grad_fn=<MulBackward0>)\n",
            "tensor(8., grad_fn=<SumBackward0>)\n"
          ],
          "name": "stdout"
        }
      ]
    },
    {
      "cell_type": "code",
      "metadata": {
        "id": "m8OVSCTrbh5V",
        "colab_type": "code",
        "outputId": "fedd8317-96b8-46a4-a447-321fd7ba34df",
        "colab": {
          "base_uri": "https://localhost:8080/",
          "height": 32
        }
      },
      "source": [
        "#5. Print the gradients of all the variables\n",
        "print(x.grad)"
      ],
      "execution_count": 52,
      "outputs": [
        {
          "output_type": "stream",
          "text": [
            "None\n"
          ],
          "name": "stdout"
        }
      ]
    },
    {
      "cell_type": "code",
      "metadata": {
        "id": "eH4yxpj2bnhr",
        "colab_type": "code",
        "outputId": "1131002f-dae9-447d-8e4b-515442a579a5",
        "colab": {
          "base_uri": "https://localhost:8080/",
          "height": 49
        }
      },
      "source": [
        "#6. Now perform a backward pass on the last variable\n",
        "sum_result.backward(retain_graph=True)\n",
        "\n",
        "#7. Print all gradients again\n",
        "print(x.grad)"
      ],
      "execution_count": 53,
      "outputs": [
        {
          "output_type": "stream",
          "text": [
            "tensor([[2., 2.],\n",
            "        [2., 2.]])\n"
          ],
          "name": "stdout"
        }
      ]
    },
    {
      "cell_type": "markdown",
      "metadata": {
        "id": "AZwq_W8VccRN",
        "colab_type": "text"
      },
      "source": [
        "Before we executed sum_result.backward, x.grad() was empty because there were no derivatives \n",
        "calculated. However, as we did it once, x.grad recorded the computations."
      ]
    },
    {
      "cell_type": "markdown",
      "metadata": {
        "colab_type": "text",
        "id": "cERr4wbPv5Np"
      },
      "source": [
        "---------------\n"
      ]
    },
    {
      "cell_type": "markdown",
      "metadata": {
        "colab_type": "text",
        "id": "xNJzNf69v5Nq"
      },
      "source": [
        "# PART 3 - MULTILAYER PERCEPTRONS\n",
        "In the following notebook you will implement a simple neural network in PyTorch.\n",
        "\n",
        "The building blocks of `PyTorch` are `Tensors`, `Variables` and `Operations`, with these we can form `dynamic computational graphs` that form neural networks.\n",
        "\n",
        "In this exercise we'll start right away by defining a logistic regression model using these simple building blocks.\n",
        "\n",
        "We'll initially start with a simple 2D and two-class classification problem where the class decision boundary can be visualized.\n",
        "\n",
        "Initially we show that logistic regression can only separate classes linearly.\n",
        "Adding a nonlinear hidden layer to the algorithm permits nonlinear class separation.\n",
        "\n",
        "In this notebook you should:\n",
        "* **First** run the code as is, and see what it does.\n",
        "* **Then** modify the code, following the instructions in the bottom of the notebook.\n",
        "* **Lastly** play a round a bit, and do some small experiments that you come up with.\n",
        "\n",
        "> We assume that you are already familiar with backpropagation (if not please see [Andrej Karpathy](http://cs.stanford.edu/people/karpathy/) or [Michal Nielsen](http://neuralnetworksanddeeplearning.com/chap2.html))."
      ]
    },
    {
      "cell_type": "markdown",
      "metadata": {
        "colab_type": "text",
        "id": "-0KKU5Nwv5Nq"
      },
      "source": [
        "## Dependancies and supporting functions\n",
        "Loading dependancies and supporting functions by running the code block below."
      ]
    },
    {
      "cell_type": "code",
      "metadata": {
        "colab_type": "code",
        "id": "OXULXx5dv5Nr",
        "colab": {}
      },
      "source": [
        "%matplotlib inline\n",
        "import matplotlib\n",
        "import numpy as np\n",
        "import matplotlib.pyplot as plt\n",
        "import sklearn.datasets\n",
        "\n",
        "# Do not worry about the code below for now, it is used for plotting later\n",
        "def plot_decision_boundary(pred_func, X, y):\n",
        "    #from https://github.com/dennybritz/nn-from-scratch/blob/master/nn-from-scratch.ipynb\n",
        "    #Set min and max values and give it some padding\n",
        "    x_min, x_max = X[:, 0].min() - .5, X[:, 0].max() + .5\n",
        "    y_min, y_max = X[:, 1].min() - .5, X[:, 1].max() + .5\n",
        "    h = 0.01\n",
        "    # Generate a grid of points with distance h between them\n",
        "    xx, yy = np.meshgrid(np.arange(x_min, x_max, h), np.arange(y_min, y_max, h))\n",
        "    # Predict the function value for the whole gid\n",
        "    Z = pred_func(np.c_[xx.ravel(), yy.ravel()])\n",
        "    Z = Z.reshape(xx.shape)\n",
        "    # Plot the contour and training examples\n",
        "    plt.contourf(xx, yy, Z, cmap=plt.cm.Spectral)\n",
        "    plt.scatter(X[:, 0], X[:, 1], c=y, cmap=plt.cm.Spectral)"
      ],
      "execution_count": 0,
      "outputs": []
    },
    {
      "cell_type": "code",
      "metadata": {
        "colab_type": "code",
        "id": "KhRqVuFnv5Nt",
        "colab": {}
      },
      "source": [
        "def onehot(t, num_classes):    \n",
        "    out = np.zeros((t.shape[0], num_classes))    \n",
        "    for row, col in enumerate(t):\n",
        "        out[row, col] = 1\n",
        "    return out"
      ],
      "execution_count": 0,
      "outputs": []
    },
    {
      "cell_type": "markdown",
      "metadata": {
        "colab_type": "text",
        "id": "ne9QoO8Ev5Nv"
      },
      "source": [
        "## Problem \n",
        "We'll initally demonstrate the that Multi-layer Perceptrons (MLPs) can classify nonlinear problems, whereas simple logistic regression cannot.\n",
        "For ease of visualization and computationl speed we initially experiment on the simple 2D half-moon dataset, visualized below."
      ]
    },
    {
      "cell_type": "code",
      "metadata": {
        "colab_type": "code",
        "id": "fd46IyNMv5Nv",
        "outputId": "ad3e0c0c-d2ac-47d3-f59a-1118ff62c7ff",
        "colab": {
          "base_uri": "https://localhost:8080/",
          "height": 49
        }
      },
      "source": [
        "# Generate a dataset and plot it\n",
        "np.random.seed(0)\n",
        "num_samples = 300\n",
        "\n",
        "X, y = sklearn.datasets.make_moons(num_samples, noise=0.20)\n",
        "\n",
        "print(X.shape)\n",
        "print(y.shape)"
      ],
      "execution_count": 56,
      "outputs": [
        {
          "output_type": "stream",
          "text": [
            "(300, 2)\n",
            "(300,)\n"
          ],
          "name": "stdout"
        }
      ]
    },
    {
      "cell_type": "markdown",
      "metadata": {
        "colab_type": "text",
        "id": "5S3Q2V82v5Nx"
      },
      "source": [
        "### Define train, validation, and test sets"
      ]
    },
    {
      "cell_type": "code",
      "metadata": {
        "colab_type": "code",
        "id": "GdGSIBbsv5Nx",
        "outputId": "38716566-6ba2-4dcf-c9eb-47fa80700e36",
        "colab": {
          "base_uri": "https://localhost:8080/",
          "height": 65
        }
      },
      "source": [
        "X_tr = X[:100].astype('float32')\n",
        "print('Train set:', X_tr.shape)\n",
        "\n",
        "X_val = X[100:200].astype('float32')\n",
        "print('Validation set:', X_val.shape)\n",
        "\n",
        "X_te = X[200:].astype('float32')\n",
        "print('Test set:', X_te.shape)"
      ],
      "execution_count": 57,
      "outputs": [
        {
          "output_type": "stream",
          "text": [
            "Train set: (100, 2)\n",
            "Validation set: (100, 2)\n",
            "Test set: (100, 2)\n"
          ],
          "name": "stdout"
        }
      ]
    },
    {
      "cell_type": "code",
      "metadata": {
        "colab_type": "code",
        "id": "fd6qy_Z_v5N0",
        "colab": {}
      },
      "source": [
        "# and labels\n",
        "y_tr = y[:100].astype('int32')\n",
        "y_val = y[100:200].astype('int32')\n",
        "y_te = y[200:].astype('int32')"
      ],
      "execution_count": 0,
      "outputs": []
    },
    {
      "cell_type": "code",
      "metadata": {
        "colab_type": "code",
        "id": "SQleUdcwv5N3",
        "outputId": "721f7cad-f85a-41b9-9d6b-a8b67a09aecf",
        "colab": {
          "base_uri": "https://localhost:8080/",
          "height": 312
        }
      },
      "source": [
        "plt.scatter(X_tr[:,0], X_tr[:,1], s=40, c=y_tr, cmap=plt.cm.Spectral)\n",
        "print(X.shape, y.shape)\n",
        "\n",
        "num_features = X_tr.shape[-1]\n",
        "print('Number of features:>>', num_features)\n",
        "\n",
        "num_output = 2\n",
        "print('Number of outputs:>>', num_output)"
      ],
      "execution_count": 59,
      "outputs": [
        {
          "output_type": "stream",
          "text": [
            "(300, 2) (300,)\n",
            "Number of features:>> 2\n",
            "Number of outputs:>> 2\n"
          ],
          "name": "stdout"
        },
        {
          "output_type": "display_data",
          "data": {
            "image/png": "[encoded data removed]",
            "text/plain": [
              "<Figure size 432x288 with 1 Axes>"
            ]
          },
          "metadata": {
            "tags": [],
            "needs_background": "light"
          }
        }
      ]
    },
    {
      "cell_type": "markdown",
      "metadata": {
        "colab_type": "text",
        "id": "CMSRuOTnv5N5"
      },
      "source": [
        "## From Logistic Regression to \"Deep Learning\"\n",
        "The code implements logistic regression. In section [__Assignments Half Moon__](#Assignments-Half-Moon) (bottom of this notebook) you are asked to modify the code into a neural network.\n",
        "\n",
        "The standard building block for neural networks are layers.\n",
        "The simplest of which is called a `dense feed forward layer`, and it is computed as follows:\n",
        "\n",
        "$$y = \\mathrm{nonlinearity}(xW + b)$$\n",
        "\n",
        "where $x$ is the input vector, $y$ is the output vector, and $W, b$ are the weights (a matrix and vector respectively).\n",
        "The *dense* part of the name comes from the fact that every element of $x$ contributes to every element of $y$.\n",
        "And the *feed forward* part of the name means that the layer processes each input independently. \n",
        "If we were to draw the layer it would be acyclical.\n",
        "Later we will se layers that break both of these conventions."
      ]
    },
    {
      "cell_type": "markdown",
      "metadata": {
        "colab_type": "text",
        "id": "dRy5zaVGv5N6"
      },
      "source": [
        "- $x$ has shape `[batch_size, num_features]`,\n",
        "- $W$ has shape `[num_features, num_units]`,\n",
        "- $b$ has `[num_units]`, and\n",
        "- $y$ has then `[batch_size, num_units]`"
      ]
    },
    {
      "cell_type": "markdown",
      "metadata": {
        "colab_type": "text",
        "id": "eLaq9p37v5N6"
      },
      "source": [
        "## PyTorch 101\n",
        "\n",
        "In this first exercise we will use basic PyTorch functions so that you can learn how to build it from scratch. This will help you later if you want to build your own custom operations."
      ]
    },
    {
      "cell_type": "code",
      "metadata": {
        "colab_type": "code",
        "id": "xpHvvqBEv5N7",
        "colab": {}
      },
      "source": [
        "import torch\n",
        "from torch.autograd import Variable\n",
        "from torch.nn.parameter import Parameter # A kind of Tensor that is to be considered a module parameter.\n",
        "\n",
        "import torch.nn as nn # Base class for all neural network modules.\n",
        "import torch.nn.functional as F # Functional interface  "
      ],
      "execution_count": 0,
      "outputs": []
    },
    {
      "cell_type": "markdown",
      "metadata": {
        "colab_type": "text",
        "id": "I9cHNrNnv5N_"
      },
      "source": [
        "[`Parameters`](http://pytorch.org/docs/0.1.12/nn.html#torch.nn.Parameter) are [`Variable`](http://pytorch.org/docs/0.1.12/autograd.html#torch.autograd.Variable) subclasses, that have a very special property when used with [`Module`](http://pytorch.org/docs/0.1.12/nn.html#torch.nn.Module)'s - when they’re assigned as `Module` attributes they are automatically added to the list of its parameters, and will appear e.g. in [`.parameters()`](http://pytorch.org/docs/0.1.12/nn.html#torch.nn.Module.parameters) iterator.\n",
        "Assigning a Variable doesn’t have such effect.\n",
        "This is because one might want to cache some temporary state (more on this later) in the model.\n",
        "If there was no such class as `Parameter`, these temporaries would get registered too."
      ]
    },
    {
      "cell_type": "markdown",
      "metadata": {
        "colab_type": "text",
        "id": "zXZiEztjv5N_"
      },
      "source": [
        "#### nn.Linear(in_features, out_features, bias=True)\n",
        "#### Applies a linear transformation to the incoming data: :math:`y = xA^T + b`\n",
        "\n",
        "Args:\n",
        "    in_features: size of each input sample\n",
        "    out_features: size of each output sample\n",
        "    bias: If set to False, the layer will not learn an additive bias.\n",
        "        Default: ``True``\n",
        "\n",
        "Shape:\n",
        "    - Input: :math:`(N, *, in\\_features)` where :math:`*` means any number of\n",
        "      additional dimensions\n",
        "    - Output: :math:`(N, *, out\\_features)` where all but the last dimension\n",
        "      are the same shape as the input.\n",
        "\n",
        "Attributes:\n",
        "    weight: the learnable weights of the module of shape\n",
        "        `(out_features x in_features)`\n",
        "    bias:   the learnable bias of the module of shape `(out_features)`\n",
        "\n",
        "Examples::\n",
        "\n",
        "    >>> m = nn.Linear(20, 30)\n",
        "    >>> input = torch.randn(128, 20)\n",
        "    >>> output = m(input)\n",
        "    >>> print(output.size())"
      ]
    },
    {
      "cell_type": "code",
      "metadata": {
        "colab_type": "code",
        "id": "bX1dc_MFv5OA",
        "colab": {}
      },
      "source": [
        "class LogisticRegression(nn.Module):    \n",
        "    def __init__(self):                 \n",
        "        super(LogisticRegression, self).__init__()              \n",
        "        self.W_1 = Parameter(torch.randn(num_output, num_features)) \n",
        "        self.b_1 = Parameter(torch.randn(num_output))\n",
        "        \n",
        "    def forward(self, x):             \n",
        "        # Applies a linear transformation :math:`y = xW^T + b` \n",
        "        x = F.linear(x, self.W_1, self.b_1)\n",
        "        x = F.softmax(x, dim = 1)\n",
        "        return x    "
      ],
      "execution_count": 0,
      "outputs": []
    },
    {
      "cell_type": "code",
      "metadata": {
        "colab_type": "code",
        "id": "OGWYtX2sv5OD",
        "outputId": "c1e6c2ce-388d-49a0-c080-b00346c44843",
        "colab": {
          "base_uri": "https://localhost:8080/",
          "height": 52
        }
      },
      "source": [
        "net = LogisticRegression() \n",
        "#initializes random W and x, then makes a linear transformation and returns softmax (x)\n",
        "print(net)"
      ],
      "execution_count": 62,
      "outputs": [
        {
          "output_type": "stream",
          "text": [
            "LogisticRegression()\n"
          ],
          "name": "stdout"
        }
      ]
    },
    {
      "cell_type": "markdown",
      "metadata": {
        "colab_type": "text",
        "id": "GOJIF1U_v5OF"
      },
      "source": [
        "------\n",
        "## A softmax function.\n",
        "\n",
        "Softmax is defined as:\n",
        "\n",
        "$\\text{Softmax}(x_{i}) = \\frac{exp(x_i)}{\\sum_j exp(x_j)}$\n",
        "\n",
        "It is applied to all slices along dim, and will re-scale them so that the elements\n",
        "lie in the range `(0, 1)` and sum to 1.\n",
        "\n",
        "See :class:`~torch.nn.Softmax` for more details.\n",
        "\n",
        "Arguments:\n",
        "    input (Tensor): input\n",
        "    dim (int): A dimension along which softmax will be computed.\n",
        "\n",
        ".. note::\n",
        "    This function doesn't work directly with NLLLoss,\n",
        "    which expects the Log to be computed between the Softmax and itself.\n",
        "    Use log_softmax instead (it's faster and has better numerical properties).\n",
        "    \n"
      ]
    },
    {
      "cell_type": "markdown",
      "metadata": {
        "colab_type": "text",
        "id": "of0kGvUpv5OF"
      },
      "source": [
        "Knowing how to print your tensors is useful"
      ]
    },
    {
      "cell_type": "code",
      "metadata": {
        "colab_type": "code",
        "id": "mNV_y9ybv5OF",
        "outputId": "c12194b9-2729-4b8d-80a8-34171c275759",
        "colab": {
          "base_uri": "https://localhost:8080/",
          "height": 98
        }
      },
      "source": [
        "print(\"NAMED PARAMETERS\")\n",
        "print(list(net.named_parameters()))"
      ],
      "execution_count": 63,
      "outputs": [
        {
          "output_type": "stream",
          "text": [
            "NAMED PARAMETERS\n",
            "[('W_1', Parameter containing:\n",
            "tensor([[ 0.1262, -0.1811],\n",
            "        [ 0.4881,  0.5192]], requires_grad=True)), ('b_1', Parameter containing:\n",
            "tensor([ 0.8262, -1.4498], requires_grad=True))]\n"
          ],
          "name": "stdout"
        }
      ]
    },
    {
      "cell_type": "code",
      "metadata": {
        "colab_type": "code",
        "id": "xyqO4_GAv5OH",
        "outputId": "68c4c55b-ce19-4a02-ae98-5a4099a979af",
        "colab": {
          "base_uri": "https://localhost:8080/",
          "height": 115
        }
      },
      "source": [
        "# the parameters() method simply gives the Tensors in the list\n",
        "print(\"PARAMETERS\")\n",
        "print(list(net.parameters()))\n",
        "print()"
      ],
      "execution_count": 64,
      "outputs": [
        {
          "output_type": "stream",
          "text": [
            "PARAMETERS\n",
            "[Parameter containing:\n",
            "tensor([[ 0.1262, -0.1811],\n",
            "        [ 0.4881,  0.5192]], requires_grad=True), Parameter containing:\n",
            "tensor([ 0.8262, -1.4498], requires_grad=True)]\n",
            "\n"
          ],
          "name": "stdout"
        }
      ]
    },
    {
      "cell_type": "code",
      "metadata": {
        "colab_type": "code",
        "id": "V4wPKEmWv5OK",
        "outputId": "b66f5fbc-e090-44bf-c08f-f750150194f3",
        "colab": {
          "base_uri": "https://localhost:8080/",
          "height": 98
        }
      },
      "source": [
        "# list individual parameters by name\n",
        "print('WEIGHTS')\n",
        "print(net.W_1)\n",
        "print(net.W_1.size())"
      ],
      "execution_count": 65,
      "outputs": [
        {
          "output_type": "stream",
          "text": [
            "WEIGHTS\n",
            "Parameter containing:\n",
            "tensor([[ 0.1262, -0.1811],\n",
            "        [ 0.4881,  0.5192]], requires_grad=True)\n",
            "torch.Size([2, 2])\n"
          ],
          "name": "stdout"
        }
      ]
    },
    {
      "cell_type": "code",
      "metadata": {
        "colab_type": "code",
        "id": "aaNfswkuv5OM",
        "outputId": "18eddc11-2487-4653-c06d-9e4ba7ee04f7",
        "colab": {
          "base_uri": "https://localhost:8080/",
          "height": 98
        }
      },
      "source": [
        "print('\\nBIAS')\n",
        "print(net.b_1)\n",
        "print(net.b_1.size())"
      ],
      "execution_count": 66,
      "outputs": [
        {
          "output_type": "stream",
          "text": [
            "\n",
            "BIAS\n",
            "Parameter containing:\n",
            "tensor([ 0.8262, -1.4498], requires_grad=True)\n",
            "torch.Size([2])\n"
          ],
          "name": "stdout"
        }
      ]
    },
    {
      "cell_type": "markdown",
      "metadata": {
        "id": "dcNpVgB1q3Pi",
        "colab_type": "text"
      },
      "source": [
        "- $x$ has shape `[batch_size, num_features]`,\n",
        "- $W$ has shape `[num_features, num_units]`,\n",
        "- $b$ has `[num_units]`, and\n",
        "- $y$ has then `[batch_size, num_units]`"
      ]
    },
    {
      "cell_type": "markdown",
      "metadata": {
        "colab_type": "text",
        "id": "QgL2FlQ6v5OO"
      },
      "source": [
        "## Exploring Parameter\n",
        "\n",
        "Ok, let's investigate what a `Parameter`/`Variable` is"
      ]
    },
    {
      "cell_type": "code",
      "metadata": {
        "colab_type": "code",
        "id": "XWRUN6Qsv5OO",
        "outputId": "2a1c0c44-9451-4e6c-c21b-8f45bfeb0b4a",
        "colab": {
          "base_uri": "https://localhost:8080/",
          "height": 65
        }
      },
      "source": [
        "param = net.W_1\n",
        "print(param)"
      ],
      "execution_count": 67,
      "outputs": [
        {
          "output_type": "stream",
          "text": [
            "Parameter containing:\n",
            "tensor([[ 0.1262, -0.1811],\n",
            "        [ 0.4881,  0.5192]], requires_grad=True)\n"
          ],
          "name": "stdout"
        }
      ]
    },
    {
      "cell_type": "code",
      "metadata": {
        "colab_type": "code",
        "id": "2HTWFlL-v5OQ",
        "outputId": "e86be2d3-5e6b-4459-9f5c-985d33a9ee84",
        "colab": {
          "base_uri": "https://localhost:8080/",
          "height": 164
        }
      },
      "source": [
        "print(\"## this is the tensor\")\n",
        "print(param.data)\n",
        "\n",
        "print(\"\\n## this is the tensor's gradient\")\n",
        "print(param.grad)\n",
        "# notice, the gradient is undefined because we have not yet run a backward pass\n",
        "\n",
        "print(\"\\n## is it a leaf in the graph?\")\n",
        "print(param.is_leaf)"
      ],
      "execution_count": 68,
      "outputs": [
        {
          "output_type": "stream",
          "text": [
            "## this is the tensor\n",
            "tensor([[ 0.1262, -0.1811],\n",
            "        [ 0.4881,  0.5192]])\n",
            "\n",
            "## this is the tensor's gradient\n",
            "None\n",
            "\n",
            "## is it a leaf in the graph?\n",
            "True\n"
          ],
          "name": "stdout"
        }
      ]
    },
    {
      "cell_type": "markdown",
      "metadata": {
        "colab_type": "text",
        "id": "twEBABbjv5OR"
      },
      "source": [
        "## Excluding subgraphs from backward propagation\n",
        "\n",
        "`Variable`s have two properties which allow you to define if a graph is going to be used for training or inference, `requires_grad` and `volatile`.\n",
        "During training we might not want to compute the gradients for all layers, e.g. if we have a pretrained model or embeddings that we do not want to change the values of.\n",
        "\n",
        "To compute gradients we need to store activations and compute the backward pass for the given layer.\n",
        "Setting `requires_grad = False` will allow you to circumvent these properties.\n",
        "If any paramater in an operation / layer requires gradient then the entire output of the operation will also require gradient.\n",
        "\n",
        "The `volatile` property is mostly used when you want to run inference with your model, and if it is set to `True` the entire graph will not require gradient. This means that you expect to never call `.backward()` on the network.\n",
        "\n",
        "See http://pytorch.org/docs/master/notes/autograd.html for an in-depth explanation."
      ]
    },
    {
      "cell_type": "markdown",
      "metadata": {
        "colab_type": "text",
        "id": "hAB8jV8rv5OS"
      },
      "source": [
        "## Test network\n",
        "\n",
        "To use our network we can simply call our graph, and it will dynamically be created. Here is an example of running the network's forward pass."
      ]
    },
    {
      "cell_type": "markdown",
      "metadata": {
        "id": "e9EKTYiSw0FK",
        "colab_type": "text"
      },
      "source": [
        "- $x$ has shape `[batch_size, num_features]`,\n",
        "- $W$ has shape `[num_features, num_units]`,\n",
        "- $b$ has `[num_units]`, and\n",
        "- $y$ has then `[batch_size, num_units]`"
      ]
    },
    {
      "cell_type": "code",
      "metadata": {
        "colab_type": "code",
        "id": "WRlvEFN8v5OS",
        "outputId": "e80a8846-9dc2-4889-c76f-65352d143b49",
        "colab": {
          "base_uri": "https://localhost:8080/",
          "height": 131
        }
      },
      "source": [
        "num_neurons = 5\n",
        "X = Variable(torch.randn(num_neurons, num_features))\n",
        "\n",
        "print('input')\n",
        "print(X)\n",
        "print(X.shape)"
      ],
      "execution_count": 69,
      "outputs": [
        {
          "output_type": "stream",
          "text": [
            "input\n",
            "tensor([[ 1.2723, -0.0497],\n",
            "        [-1.1837, -1.5522],\n",
            "        [-0.0375,  0.3644],\n",
            "        [ 0.2134,  0.8103],\n",
            "        [-0.0078,  1.1788]])\n",
            "torch.Size([5, 2])\n"
          ],
          "name": "stdout"
        }
      ]
    },
    {
      "cell_type": "code",
      "metadata": {
        "colab_type": "code",
        "id": "NJvxq4nPv5OT",
        "outputId": "68ad12d6-293d-41c7-dfd0-42e5ac7969fe",
        "colab": {
          "base_uri": "https://localhost:8080/",
          "height": 131
        }
      },
      "source": [
        "# pass through the NN\n",
        "print('\\noutput')\n",
        "print(net(X))"
      ],
      "execution_count": 70,
      "outputs": [
        {
          "output_type": "stream",
          "text": [
            "\n",
            "output\n",
            "tensor([[0.8642, 0.1358],\n",
            "        [0.9779, 0.0221],\n",
            "        [0.8844, 0.1156],\n",
            "        [0.8364, 0.1636],\n",
            "        [0.8105, 0.1895]], grad_fn=<SoftmaxBackward>)\n"
          ],
          "name": "stdout"
        }
      ]
    },
    {
      "cell_type": "code",
      "metadata": {
        "colab_type": "code",
        "id": "kzkPxipPv5OV",
        "outputId": "e399dec8-d793-4d9f-8ac9-b9600459bd71",
        "colab": {
          "base_uri": "https://localhost:8080/",
          "height": 164
        }
      },
      "source": [
        "print('\\nWEIGHT')\n",
        "\n",
        "param = net.W_1\n",
        "print(param)\n",
        "\n",
        "print('\\nBIAS')\n",
        "print(net.b_1)"
      ],
      "execution_count": 71,
      "outputs": [
        {
          "output_type": "stream",
          "text": [
            "\n",
            "WEIGHT\n",
            "Parameter containing:\n",
            "tensor([[ 0.1262, -0.1811],\n",
            "        [ 0.4881,  0.5192]], requires_grad=True)\n",
            "\n",
            "BIAS\n",
            "Parameter containing:\n",
            "tensor([ 0.8262, -1.4498], requires_grad=True)\n"
          ],
          "name": "stdout"
        }
      ]
    },
    {
      "cell_type": "markdown",
      "metadata": {
        "colab_type": "text",
        "id": "5Y-ghqHwv5OW"
      },
      "source": [
        "Parameters is a special case of Variable "
      ]
    },
    {
      "cell_type": "code",
      "metadata": {
        "colab_type": "code",
        "id": "SJ9DVgyvv5OX",
        "outputId": "1d24e613-2e3c-4143-c509-558156d8ec0b",
        "colab": {
          "base_uri": "https://localhost:8080/",
          "height": 131
        }
      },
      "source": [
        "# let's take a look at the gradients\n",
        "for p in net.parameters():\n",
        "    print('DATA >>>', p.data)\n",
        "    print('GRADIENT >>>', p.grad)\n",
        "    print()"
      ],
      "execution_count": 72,
      "outputs": [
        {
          "output_type": "stream",
          "text": [
            "DATA >>> tensor([[ 0.1262, -0.1811],\n",
            "        [ 0.4881,  0.5192]])\n",
            "GRADIENT >>> None\n",
            "\n",
            "DATA >>> tensor([ 0.8262, -1.4498])\n",
            "GRADIENT >>> None\n",
            "\n"
          ],
          "name": "stdout"
        }
      ]
    },
    {
      "cell_type": "code",
      "metadata": {
        "colab_type": "code",
        "id": "lWplTQY7v5OY",
        "outputId": "bf7ca4f7-1a02-4dc3-cc56-d7a0e2c5c174",
        "colab": {
          "base_uri": "https://localhost:8080/",
          "height": 131
        }
      },
      "source": [
        "X = Variable(torch.randn(7, num_features))\n",
        "out = net(X)\n",
        "print(out)"
      ],
      "execution_count": 73,
      "outputs": [
        {
          "output_type": "stream",
          "text": [
            "tensor([[0.8717, 0.1283],\n",
            "        [0.9698, 0.0302],\n",
            "        [0.9652, 0.0348],\n",
            "        [0.9357, 0.0643],\n",
            "        [0.7075, 0.2925],\n",
            "        [0.9713, 0.0287],\n",
            "        [0.9550, 0.0450]], grad_fn=<SoftmaxBackward>)\n"
          ],
          "name": "stdout"
        }
      ]
    },
    {
      "cell_type": "code",
      "metadata": {
        "colab_type": "code",
        "id": "h8CpjE_lv5Oa",
        "colab": {}
      },
      "source": [
        "# we need to give a tensor of gradients to .backward,\n",
        "# we give a dummy tensor\n",
        "out.backward(torch.randn(7, num_features))"
      ],
      "execution_count": 0,
      "outputs": []
    },
    {
      "cell_type": "markdown",
      "metadata": {
        "colab_type": "text",
        "id": "PiFEfL0jv5Ob"
      },
      "source": [
        "for details on `.backward()`, see http://pytorch.org/docs/master/autograd.html#torch.autograd.backward"
      ]
    },
    {
      "cell_type": "code",
      "metadata": {
        "colab_type": "code",
        "id": "P9B-P5kwv5Ob",
        "outputId": "7fc50c28-36f3-44dd-a9aa-98b4ebfd8131",
        "colab": {
          "base_uri": "https://localhost:8080/",
          "height": 148
        }
      },
      "source": [
        "# let's take a look at the gradients\n",
        "for p in net.parameters():\n",
        "    print('DATA >>>', p.data)\n",
        "    print('GRADIENT >>>', p.grad)\n",
        "    print()"
      ],
      "execution_count": 75,
      "outputs": [
        {
          "output_type": "stream",
          "text": [
            "DATA >>> tensor([[ 0.1262, -0.1811],\n",
            "        [ 0.4881,  0.5192]])\n",
            "GRADIENT >>> tensor([[ 0.1451, -0.0379],\n",
            "        [-0.1451,  0.0379]])\n",
            "\n",
            "DATA >>> tensor([ 0.8262, -1.4498])\n",
            "GRADIENT >>> tensor([ 0.2905, -0.2905])\n",
            "\n"
          ],
          "name": "stdout"
        }
      ]
    },
    {
      "cell_type": "code",
      "metadata": {
        "colab_type": "code",
        "id": "t6lbgoN4v5Of",
        "outputId": "bb422cb6-4092-47c4-8f8b-5d377b580178",
        "colab": {
          "base_uri": "https://localhost:8080/",
          "height": 148
        }
      },
      "source": [
        "# ok, let's try and zero the accumulated gradients\n",
        "net.zero_grad()\n",
        "for p in net.parameters():\n",
        "    print('DATA >>>', p.data)\n",
        "    print('GRADIENT >>>', p.grad)\n",
        "    print()"
      ],
      "execution_count": 76,
      "outputs": [
        {
          "output_type": "stream",
          "text": [
            "DATA >>> tensor([[ 0.1262, -0.1811],\n",
            "        [ 0.4881,  0.5192]])\n",
            "GRADIENT >>> tensor([[0., 0.],\n",
            "        [0., 0.]])\n",
            "\n",
            "DATA >>> tensor([ 0.8262, -1.4498])\n",
            "GRADIENT >>> tensor([0., 0.])\n",
            "\n"
          ],
          "name": "stdout"
        }
      ]
    },
    {
      "cell_type": "markdown",
      "metadata": {
        "colab_type": "text",
        "id": "oyrqFc4qv5Og"
      },
      "source": [
        "## Loss function\n",
        "\n",
        "Let's define a custom loss function to compute how good our graph is doing."
      ]
    },
    {
      "cell_type": "code",
      "metadata": {
        "colab_type": "code",
        "id": "GRFM-ssWv5Og",
        "colab": {}
      },
      "source": [
        "# ys - estimated # ts - target output \n",
        "def cross_entropy(ys, ts):      \n",
        "    # computing cross entropy per sample\n",
        "    cross_entropy = -torch.sum(ts * torch.log(ys), dim=1, keepdim=False)        \n",
        "    # averaging over samples\n",
        "    average = torch.mean(cross_entropy)        \n",
        "    return average"
      ],
      "execution_count": 0,
      "outputs": []
    },
    {
      "cell_type": "markdown",
      "metadata": {
        "colab_type": "text",
        "id": "dnlM_iHHv5Oi"
      },
      "source": [
        "To train our neural network we need to update the parameters in direction of the negative gradient w.r.t the cost function we defined earlier.\n",
        "We can use [`torch.optim`](http://pytorch.org/docs/master/optim.html) to get the gradients with some update rule for all parameters in the network.\n",
        "\n",
        "Heres a small animation of gradient descent: http://imgur.com/a/Hqolp, which also illustrates which challenges optimizers might face, e.g. saddle points."
      ]
    },
    {
      "cell_type": "code",
      "metadata": {
        "colab_type": "code",
        "id": "hbTamG-7v5Oi",
        "colab": {}
      },
      "source": [
        "import torch.optim as optim\n",
        "optimizer = optim.SGD(net.parameters(), lr = 0.01)"
      ],
      "execution_count": 0,
      "outputs": []
    },
    {
      "cell_type": "markdown",
      "metadata": {
        "colab_type": "text",
        "id": "brZjiOLqv5Ok"
      },
      "source": [
        "Next, we make the prediction functions, such that we can get an accuracy measure over a batch"
      ]
    },
    {
      "cell_type": "code",
      "metadata": {
        "colab_type": "code",
        "id": "wLJvpyS9v5Ok",
        "colab": {}
      },
      "source": [
        "def accuracy(ys, ts):    \n",
        "    # making a one-hot encoded vector of correct (1) and incorrect (0) predictions\n",
        "    correct_prediction = torch.eq(torch.max(ys, 1)[1], torch.max(ts, 1)[1])        \n",
        "    # averaging the one-hot encoded vector\n",
        "    Average = torch.mean(correct_prediction.float())\n",
        "    return Average"
      ],
      "execution_count": 0,
      "outputs": []
    },
    {
      "cell_type": "markdown",
      "metadata": {
        "colab_type": "text",
        "id": "QBFhIJBGv5Om"
      },
      "source": [
        "The next step is to utilize our `optimizer` repeatedly in order to optimize our weights `W_1` and `b_1` to make the best possible linear seperation of the half moon dataset."
      ]
    },
    {
      "cell_type": "code",
      "metadata": {
        "colab_type": "code",
        "id": "9bXkX32Nv5Om",
        "colab": {}
      },
      "source": [
        "# number of training passses\n",
        "num_epochs = 1000\n",
        "\n",
        "# store loss and accuracy for information\n",
        "train_losses, val_losses, train_accs, val_accs = [], [], [], []\n",
        "\n",
        "def pred(X):\n",
        "    \"\"\" Compute graph's prediction and return numpy array    \n",
        "    Parameters\n",
        "    ----------\n",
        "    X : numpy.ndarray    \n",
        "    Returns\n",
        "    -------\n",
        "    numpy.ndarray\n",
        "    \"\"\"\n",
        "    X = Variable(torch.from_numpy(X))\n",
        "         \n",
        "    # forward pass \n",
        "    y = net(X)    \n",
        "    return y.data.numpy()"
      ],
      "execution_count": 0,
      "outputs": []
    },
    {
      "cell_type": "code",
      "metadata": {
        "colab_type": "code",
        "id": "R7blwIUHv5On",
        "outputId": "a6b34d10-0a8c-4cc9-ca34-32b4af795d47",
        "colab": {
          "base_uri": "https://localhost:8080/",
          "height": 331
        }
      },
      "source": [
        "# plot boundary on testset before training session\n",
        "\n",
        "plot_decision_boundary(lambda x: pred(x), X_te, y_te)\n",
        "plt.title(\"Untrained Classifier\")"
      ],
      "execution_count": 83,
      "outputs": [
        {
          "output_type": "error",
          "ename": "RuntimeError",
          "evalue": "ignored",
          "traceback": [
            "\u001b[0;31m---------------------------------------------------------------------------\u001b[0m",
            "\u001b[0;31mRuntimeError\u001b[0m                              Traceback (most recent call last)",
            "\u001b[0;32m<ipython-input-83-505f50cc1177>\u001b[0m in \u001b[0;36m<module>\u001b[0;34m()\u001b[0m\n\u001b[1;32m      1\u001b[0m \u001b[0;34m\u001b[0m\u001b[0m\n\u001b[0;32m----> 2\u001b[0;31m \u001b[0mplot_decision_boundary\u001b[0m\u001b[0;34m(\u001b[0m\u001b[0;32mlambda\u001b[0m \u001b[0mx\u001b[0m\u001b[0;34m:\u001b[0m \u001b[0mpred\u001b[0m\u001b[0;34m(\u001b[0m\u001b[0mx\u001b[0m\u001b[0;34m)\u001b[0m\u001b[0;34m,\u001b[0m \u001b[0mX_te\u001b[0m\u001b[0;34m,\u001b[0m \u001b[0my_te\u001b[0m\u001b[0;34m)\u001b[0m\u001b[0;34m\u001b[0m\u001b[0;34m\u001b[0m\u001b[0m\n\u001b[0m\u001b[1;32m      3\u001b[0m \u001b[0mplt\u001b[0m\u001b[0;34m.\u001b[0m\u001b[0mtitle\u001b[0m\u001b[0;34m(\u001b[0m\u001b[0;34m\"Untrained Classifier\"\u001b[0m\u001b[0;34m)\u001b[0m\u001b[0;34m\u001b[0m\u001b[0;34m\u001b[0m\u001b[0m\n",
            "\u001b[0;32m<ipython-input-54-950cf0dc8642>\u001b[0m in \u001b[0;36mplot_decision_boundary\u001b[0;34m(pred_func, X, y)\u001b[0m\n\u001b[1;32m     15\u001b[0m     \u001b[0mxx\u001b[0m\u001b[0;34m,\u001b[0m \u001b[0myy\u001b[0m \u001b[0;34m=\u001b[0m \u001b[0mnp\u001b[0m\u001b[0;34m.\u001b[0m\u001b[0mmeshgrid\u001b[0m\u001b[0;34m(\u001b[0m\u001b[0mnp\u001b[0m\u001b[0;34m.\u001b[0m\u001b[0marange\u001b[0m\u001b[0;34m(\u001b[0m\u001b[0mx_min\u001b[0m\u001b[0;34m,\u001b[0m \u001b[0mx_max\u001b[0m\u001b[0;34m,\u001b[0m \u001b[0mh\u001b[0m\u001b[0;34m)\u001b[0m\u001b[0;34m,\u001b[0m \u001b[0mnp\u001b[0m\u001b[0;34m.\u001b[0m\u001b[0marange\u001b[0m\u001b[0;34m(\u001b[0m\u001b[0my_min\u001b[0m\u001b[0;34m,\u001b[0m \u001b[0my_max\u001b[0m\u001b[0;34m,\u001b[0m \u001b[0mh\u001b[0m\u001b[0;34m)\u001b[0m\u001b[0;34m)\u001b[0m\u001b[0;34m\u001b[0m\u001b[0;34m\u001b[0m\u001b[0m\n\u001b[1;32m     16\u001b[0m     \u001b[0;31m# Predict the function value for the whole gid\u001b[0m\u001b[0;34m\u001b[0m\u001b[0;34m\u001b[0m\u001b[0;34m\u001b[0m\u001b[0m\n\u001b[0;32m---> 17\u001b[0;31m     \u001b[0mZ\u001b[0m \u001b[0;34m=\u001b[0m \u001b[0mpred_func\u001b[0m\u001b[0;34m(\u001b[0m\u001b[0mnp\u001b[0m\u001b[0;34m.\u001b[0m\u001b[0mc_\u001b[0m\u001b[0;34m[\u001b[0m\u001b[0mxx\u001b[0m\u001b[0;34m.\u001b[0m\u001b[0mravel\u001b[0m\u001b[0;34m(\u001b[0m\u001b[0;34m)\u001b[0m\u001b[0;34m,\u001b[0m \u001b[0myy\u001b[0m\u001b[0;34m.\u001b[0m\u001b[0mravel\u001b[0m\u001b[0;34m(\u001b[0m\u001b[0;34m)\u001b[0m\u001b[0;34m]\u001b[0m\u001b[0;34m)\u001b[0m\u001b[0;34m\u001b[0m\u001b[0;34m\u001b[0m\u001b[0m\n\u001b[0m\u001b[1;32m     18\u001b[0m     \u001b[0mZ\u001b[0m \u001b[0;34m=\u001b[0m \u001b[0mZ\u001b[0m\u001b[0;34m.\u001b[0m\u001b[0mreshape\u001b[0m\u001b[0;34m(\u001b[0m\u001b[0mxx\u001b[0m\u001b[0;34m.\u001b[0m\u001b[0mshape\u001b[0m\u001b[0;34m)\u001b[0m\u001b[0;34m\u001b[0m\u001b[0;34m\u001b[0m\u001b[0m\n\u001b[1;32m     19\u001b[0m     \u001b[0;31m# Plot the contour and training examples\u001b[0m\u001b[0;34m\u001b[0m\u001b[0;34m\u001b[0m\u001b[0;34m\u001b[0m\u001b[0m\n",
            "\u001b[0;32m<ipython-input-83-505f50cc1177>\u001b[0m in \u001b[0;36m<lambda>\u001b[0;34m(x)\u001b[0m\n\u001b[1;32m      1\u001b[0m \u001b[0;34m\u001b[0m\u001b[0m\n\u001b[0;32m----> 2\u001b[0;31m \u001b[0mplot_decision_boundary\u001b[0m\u001b[0;34m(\u001b[0m\u001b[0;32mlambda\u001b[0m \u001b[0mx\u001b[0m\u001b[0;34m:\u001b[0m \u001b[0mpred\u001b[0m\u001b[0;34m(\u001b[0m\u001b[0mx\u001b[0m\u001b[0;34m)\u001b[0m\u001b[0;34m,\u001b[0m \u001b[0mX_te\u001b[0m\u001b[0;34m,\u001b[0m \u001b[0my_te\u001b[0m\u001b[0;34m)\u001b[0m\u001b[0;34m\u001b[0m\u001b[0;34m\u001b[0m\u001b[0m\n\u001b[0m\u001b[1;32m      3\u001b[0m \u001b[0mplt\u001b[0m\u001b[0;34m.\u001b[0m\u001b[0mtitle\u001b[0m\u001b[0;34m(\u001b[0m\u001b[0;34m\"Untrained Classifier\"\u001b[0m\u001b[0;34m)\u001b[0m\u001b[0;34m\u001b[0m\u001b[0;34m\u001b[0m\u001b[0m\n",
            "\u001b[0;32m<ipython-input-80-3e624d70592b>\u001b[0m in \u001b[0;36mpred\u001b[0;34m(X)\u001b[0m\n\u001b[1;32m     16\u001b[0m \u001b[0;34m\u001b[0m\u001b[0m\n\u001b[1;32m     17\u001b[0m     \u001b[0;31m# forward pass\u001b[0m\u001b[0;34m\u001b[0m\u001b[0;34m\u001b[0m\u001b[0;34m\u001b[0m\u001b[0m\n\u001b[0;32m---> 18\u001b[0;31m     \u001b[0my\u001b[0m \u001b[0;34m=\u001b[0m \u001b[0mnet\u001b[0m\u001b[0;34m(\u001b[0m\u001b[0mX\u001b[0m\u001b[0;34m)\u001b[0m\u001b[0;34m\u001b[0m\u001b[0;34m\u001b[0m\u001b[0m\n\u001b[0m\u001b[1;32m     19\u001b[0m     \u001b[0;32mreturn\u001b[0m \u001b[0my\u001b[0m\u001b[0;34m.\u001b[0m\u001b[0mdata\u001b[0m\u001b[0;34m.\u001b[0m\u001b[0mnumpy\u001b[0m\u001b[0;34m(\u001b[0m\u001b[0;34m)\u001b[0m\u001b[0;34m\u001b[0m\u001b[0;34m\u001b[0m\u001b[0m\n",
            "\u001b[0;32m/usr/local/lib/python3.6/dist-packages/torch/nn/modules/module.py\u001b[0m in \u001b[0;36m__call__\u001b[0;34m(self, *input, **kwargs)\u001b[0m\n\u001b[1;32m    530\u001b[0m             \u001b[0mresult\u001b[0m \u001b[0;34m=\u001b[0m \u001b[0mself\u001b[0m\u001b[0;34m.\u001b[0m\u001b[0m_slow_forward\u001b[0m\u001b[0;34m(\u001b[0m\u001b[0;34m*\u001b[0m\u001b[0minput\u001b[0m\u001b[0;34m,\u001b[0m \u001b[0;34m**\u001b[0m\u001b[0mkwargs\u001b[0m\u001b[0;34m)\u001b[0m\u001b[0;34m\u001b[0m\u001b[0;34m\u001b[0m\u001b[0m\n\u001b[1;32m    531\u001b[0m         \u001b[0;32melse\u001b[0m\u001b[0;34m:\u001b[0m\u001b[0;34m\u001b[0m\u001b[0;34m\u001b[0m\u001b[0m\n\u001b[0;32m--> 532\u001b[0;31m             \u001b[0mresult\u001b[0m \u001b[0;34m=\u001b[0m \u001b[0mself\u001b[0m\u001b[0;34m.\u001b[0m\u001b[0mforward\u001b[0m\u001b[0;34m(\u001b[0m\u001b[0;34m*\u001b[0m\u001b[0minput\u001b[0m\u001b[0;34m,\u001b[0m \u001b[0;34m**\u001b[0m\u001b[0mkwargs\u001b[0m\u001b[0;34m)\u001b[0m\u001b[0;34m\u001b[0m\u001b[0;34m\u001b[0m\u001b[0m\n\u001b[0m\u001b[1;32m    533\u001b[0m         \u001b[0;32mfor\u001b[0m \u001b[0mhook\u001b[0m \u001b[0;32min\u001b[0m \u001b[0mself\u001b[0m\u001b[0;34m.\u001b[0m\u001b[0m_forward_hooks\u001b[0m\u001b[0;34m.\u001b[0m\u001b[0mvalues\u001b[0m\u001b[0;34m(\u001b[0m\u001b[0;34m)\u001b[0m\u001b[0;34m:\u001b[0m\u001b[0;34m\u001b[0m\u001b[0;34m\u001b[0m\u001b[0m\n\u001b[1;32m    534\u001b[0m             \u001b[0mhook_result\u001b[0m \u001b[0;34m=\u001b[0m \u001b[0mhook\u001b[0m\u001b[0;34m(\u001b[0m\u001b[0mself\u001b[0m\u001b[0;34m,\u001b[0m \u001b[0minput\u001b[0m\u001b[0;34m,\u001b[0m \u001b[0mresult\u001b[0m\u001b[0;34m)\u001b[0m\u001b[0;34m\u001b[0m\u001b[0;34m\u001b[0m\u001b[0m\n",
            "\u001b[0;32m<ipython-input-61-c8ea0cff590e>\u001b[0m in \u001b[0;36mforward\u001b[0;34m(self, x)\u001b[0m\n\u001b[1;32m      7\u001b[0m     \u001b[0;32mdef\u001b[0m \u001b[0mforward\u001b[0m\u001b[0;34m(\u001b[0m\u001b[0mself\u001b[0m\u001b[0;34m,\u001b[0m \u001b[0mx\u001b[0m\u001b[0;34m)\u001b[0m\u001b[0;34m:\u001b[0m\u001b[0;34m\u001b[0m\u001b[0;34m\u001b[0m\u001b[0m\n\u001b[1;32m      8\u001b[0m         \u001b[0;31m# Applies a linear transformation :math:`y = xW^T + b`\u001b[0m\u001b[0;34m\u001b[0m\u001b[0;34m\u001b[0m\u001b[0;34m\u001b[0m\u001b[0m\n\u001b[0;32m----> 9\u001b[0;31m         \u001b[0mx\u001b[0m \u001b[0;34m=\u001b[0m \u001b[0mF\u001b[0m\u001b[0;34m.\u001b[0m\u001b[0mlinear\u001b[0m\u001b[0;34m(\u001b[0m\u001b[0mx\u001b[0m\u001b[0;34m,\u001b[0m \u001b[0mself\u001b[0m\u001b[0;34m.\u001b[0m\u001b[0mW_1\u001b[0m\u001b[0;34m,\u001b[0m \u001b[0mself\u001b[0m\u001b[0;34m.\u001b[0m\u001b[0mb_1\u001b[0m\u001b[0;34m)\u001b[0m\u001b[0;34m\u001b[0m\u001b[0;34m\u001b[0m\u001b[0m\n\u001b[0m\u001b[1;32m     10\u001b[0m         \u001b[0mx\u001b[0m \u001b[0;34m=\u001b[0m \u001b[0mF\u001b[0m\u001b[0;34m.\u001b[0m\u001b[0msoftmax\u001b[0m\u001b[0;34m(\u001b[0m\u001b[0mx\u001b[0m\u001b[0;34m,\u001b[0m \u001b[0mdim\u001b[0m \u001b[0;34m=\u001b[0m \u001b[0;36m1\u001b[0m\u001b[0;34m)\u001b[0m\u001b[0;34m\u001b[0m\u001b[0;34m\u001b[0m\u001b[0m\n\u001b[1;32m     11\u001b[0m         \u001b[0;32mreturn\u001b[0m \u001b[0mx\u001b[0m\u001b[0;34m\u001b[0m\u001b[0;34m\u001b[0m\u001b[0m\n",
            "\u001b[0;32m/usr/local/lib/python3.6/dist-packages/torch/nn/functional.py\u001b[0m in \u001b[0;36mlinear\u001b[0;34m(input, weight, bias)\u001b[0m\n\u001b[1;32m   1368\u001b[0m     \u001b[0;32mif\u001b[0m \u001b[0minput\u001b[0m\u001b[0;34m.\u001b[0m\u001b[0mdim\u001b[0m\u001b[0;34m(\u001b[0m\u001b[0;34m)\u001b[0m \u001b[0;34m==\u001b[0m \u001b[0;36m2\u001b[0m \u001b[0;32mand\u001b[0m \u001b[0mbias\u001b[0m \u001b[0;32mis\u001b[0m \u001b[0;32mnot\u001b[0m \u001b[0;32mNone\u001b[0m\u001b[0;34m:\u001b[0m\u001b[0;34m\u001b[0m\u001b[0;34m\u001b[0m\u001b[0m\n\u001b[1;32m   1369\u001b[0m         \u001b[0;31m# fused op is marginally faster\u001b[0m\u001b[0;34m\u001b[0m\u001b[0;34m\u001b[0m\u001b[0;34m\u001b[0m\u001b[0m\n\u001b[0;32m-> 1370\u001b[0;31m         \u001b[0mret\u001b[0m \u001b[0;34m=\u001b[0m \u001b[0mtorch\u001b[0m\u001b[0;34m.\u001b[0m\u001b[0maddmm\u001b[0m\u001b[0;34m(\u001b[0m\u001b[0mbias\u001b[0m\u001b[0;34m,\u001b[0m \u001b[0minput\u001b[0m\u001b[0;34m,\u001b[0m \u001b[0mweight\u001b[0m\u001b[0;34m.\u001b[0m\u001b[0mt\u001b[0m\u001b[0;34m(\u001b[0m\u001b[0;34m)\u001b[0m\u001b[0;34m)\u001b[0m\u001b[0;34m\u001b[0m\u001b[0;34m\u001b[0m\u001b[0m\n\u001b[0m\u001b[1;32m   1371\u001b[0m     \u001b[0;32melse\u001b[0m\u001b[0;34m:\u001b[0m\u001b[0;34m\u001b[0m\u001b[0;34m\u001b[0m\u001b[0m\n\u001b[1;32m   1372\u001b[0m         \u001b[0moutput\u001b[0m \u001b[0;34m=\u001b[0m \u001b[0minput\u001b[0m\u001b[0;34m.\u001b[0m\u001b[0mmatmul\u001b[0m\u001b[0;34m(\u001b[0m\u001b[0mweight\u001b[0m\u001b[0;34m.\u001b[0m\u001b[0mt\u001b[0m\u001b[0;34m(\u001b[0m\u001b[0;34m)\u001b[0m\u001b[0;34m)\u001b[0m\u001b[0;34m\u001b[0m\u001b[0;34m\u001b[0m\u001b[0m\n",
            "\u001b[0;31mRuntimeError\u001b[0m: Expected object of scalar type Float but got scalar type Double for argument #2 'mat1' in call to _th_addmm"
          ]
        }
      ]
    },
    {
      "cell_type": "code",
      "metadata": {
        "colab_type": "code",
        "id": "u8OB8xGCv5Op",
        "colab": {}
      },
      "source": [
        "import pdb"
      ],
      "execution_count": 0,
      "outputs": []
    },
    {
      "cell_type": "code",
      "metadata": {
        "colab_type": "code",
        "id": "UDNi7mqLv5Oq",
        "colab": {
          "base_uri": "https://localhost:8080/",
          "height": 181
        },
        "outputId": "e5844cbf-ecf8-4648-9553-397b8aef253b"
      },
      "source": [
        "# training loop\n",
        "for e in range(num_epochs):\n",
        "    # get training input and expected output as torch Variables and \n",
        "    # make sure type is correct\n",
        "    \n",
        "    tr_input = Variable(torch.from_numpy(X_tr))\n",
        "    tr_targets = Variable(torch.from_numpy(onehot(y_tr, num_output))).float()\n",
        "    \n",
        "    # zero accumulated gradients in parameters\n",
        "    optimizer.zero_grad()\n",
        "    \n",
        "    #+++++++++++ TRAIN STEP ++++++++++++++++\n",
        "    # predict by running forward pass\n",
        "    tr_output = net(tr_input)     \n",
        "    # pdb.set_trace()\n",
        "    \n",
        "    # compute cross entropy loss\n",
        "    tr_loss = cross_entropy(tr_output, tr_targets)    \n",
        "   \n",
        "    # compute gradients given loss\n",
        "    tr_loss.backward()   \n",
        "    \n",
        "    # update the parameters given the computed gradients\n",
        "    # Performs a single optimization step\n",
        "    optimizer.step()\n",
        "    \n",
        "    train_acc = accuracy(tr_output, tr_targets)\n",
        "    \n",
        "    # store training loss\n",
        "    train_losses.append(tr_loss.data.numpy())\n",
        "    train_accs.append(train_acc)\n",
        "    #+++++++++++++++++++++++++++++++++++++++\n",
        "    \"\"\"    at each step/epoch USE the trained net() \n",
        "    to evaluate it on the validation set\n",
        "    - Note however that the update is not happening\n",
        "    after the validation step.\n",
        "    \n",
        "    tr_loss.backward() ->>> does the backprop \n",
        "    optimizer.step() ->>> does the weight update    \n",
        "    \"\"\"    \n",
        "    #+++++++++++ VALIDATION STEP ++++++++++++++++\n",
        "    # get validation input and expected output as torch Variables \n",
        "    # and make sure type is correct\n",
        "    val_input = Variable(torch.from_numpy(X_val))\n",
        "    val_targets = Variable(torch.from_numpy(onehot(y_val, num_output))).float()\n",
        "    \n",
        "    # predict with validation input\n",
        "    val_output = net(val_input)\n",
        "    \n",
        "    # compute loss and accuracy\n",
        "    val_loss = cross_entropy(val_output, val_targets)\n",
        "    val_acc = accuracy(val_output, val_targets)\n",
        "    \n",
        "    # store loss and accuracy\n",
        "    val_losses.append(val_loss.data.numpy())\n",
        "    val_accs.append(val_acc.data.numpy())\n",
        "    #+++++++++++++++++++++++++++++++++++++++\n",
        "        \n",
        "    if e % 100 == 0:\n",
        "        print(\"Epoch %i, \"\n",
        "              \"Train Cost: %0.3f\"\n",
        "              \"\\tVal Cost: %0.3f\"\n",
        "              \"\\t Val acc: %0.3f\" % (e, \n",
        "                                     train_losses[-1],\n",
        "                                     val_losses[-1],\n",
        "                                     val_accs[-1]))        "
      ],
      "execution_count": 84,
      "outputs": [
        {
          "output_type": "stream",
          "text": [
            "Epoch 0, Train Cost: 1.253\tVal Cost: 1.120\t Val acc: 0.520\n",
            "Epoch 100, Train Cost: 0.768\tVal Cost: 0.710\t Val acc: 0.630\n",
            "Epoch 200, Train Cost: 0.601\tVal Cost: 0.577\t Val acc: 0.650\n",
            "Epoch 300, Train Cost: 0.533\tVal Cost: 0.525\t Val acc: 0.680\n",
            "Epoch 400, Train Cost: 0.495\tVal Cost: 0.495\t Val acc: 0.700\n",
            "Epoch 500, Train Cost: 0.469\tVal Cost: 0.474\t Val acc: 0.710\n",
            "Epoch 600, Train Cost: 0.450\tVal Cost: 0.457\t Val acc: 0.720\n",
            "Epoch 700, Train Cost: 0.434\tVal Cost: 0.443\t Val acc: 0.730\n",
            "Epoch 800, Train Cost: 0.420\tVal Cost: 0.431\t Val acc: 0.740\n",
            "Epoch 900, Train Cost: 0.409\tVal Cost: 0.421\t Val acc: 0.750\n"
          ],
          "name": "stdout"
        }
      ]
    },
    {
      "cell_type": "code",
      "metadata": {
        "id": "EsMFzojlUdDi",
        "colab_type": "code",
        "colab": {
          "base_uri": "https://localhost:8080/",
          "height": 32
        },
        "outputId": "576daaac-d967-4048-a668-31ce5fe65aea"
      },
      "source": [
        "pwd"
      ],
      "execution_count": 86,
      "outputs": [
        {
          "output_type": "execute_result",
          "data": {
            "text/plain": [
              "'/content'"
            ]
          },
          "metadata": {
            "tags": []
          },
          "execution_count": 86
        }
      ]
    },
    {
      "cell_type": "code",
      "metadata": {
        "colab_type": "code",
        "id": "qog6d9lkv5Os",
        "colab": {
          "base_uri": "https://localhost:8080/",
          "height": 397
        },
        "outputId": "437053fc-c5f5-4080-9755-858cc0f07db4"
      },
      "source": [
        "# get test input and expected output\n",
        "te_input = Variable(torch.from_numpy(X_te))\n",
        "te_targets = Variable(torch.from_numpy(onehot(y_te, num_output))).float()\n",
        "\n",
        "# predict on testset\n",
        "te_output = net(te_input)\n",
        "\n",
        "# compute loss and accuracy\n",
        "te_loss = cross_entropy(te_output, te_targets)\n",
        "te_acc = accuracy(te_output, te_targets)\n",
        "print(\"\\nTest Cost: %0.3f\\tTest Accuracy: %0.3f\" % (te_loss.data.numpy(), te_acc.data.numpy()))\n",
        "\n",
        "# plot boundary on testset after training session\n",
        "plot_decision_boundary(lambda x: pred(x), X_te, y_te)\n",
        "plt.title(\"Trained Classifier\")\n",
        "\n",
        "plt.figure()\n",
        "epoch = np.arange(len(train_losses))\n",
        "plt.plot(epoch, train_losses, 'r', label='Train Loss')\n",
        "plt.plot(epoch, val_losses, 'b', label='Val Loss')\n",
        "plt.legend()\n",
        "plt.xlabel('Updates')\n",
        "plt.ylabel('Loss')\n",
        "plt.show()\n",
        "\n",
        "plt.figure()\n",
        "plt.plot(epoch, train_accs, 'r', label='Train Acc')\n",
        "plt.plot(epoch, val_accs, 'b', label='Val Acc')\n",
        "plt.legend()\n",
        "plt.xlabel('Updates')\n",
        "plt.ylabel('Accuracy')\n",
        "plt.show()"
      ],
      "execution_count": 87,
      "outputs": [
        {
          "output_type": "stream",
          "text": [
            "\n",
            "Test Cost: 0.371\tTest Accuracy: 0.770\n"
          ],
          "name": "stdout"
        },
        {
          "output_type": "error",
          "ename": "RuntimeError",
          "evalue": "ignored",
          "traceback": [
            "\u001b[0;31m---------------------------------------------------------------------------\u001b[0m",
            "\u001b[0;31mRuntimeError\u001b[0m                              Traceback (most recent call last)",
            "\u001b[0;32m<ipython-input-87-f1bffc5872f9>\u001b[0m in \u001b[0;36m<module>\u001b[0;34m()\u001b[0m\n\u001b[1;32m     11\u001b[0m \u001b[0;34m\u001b[0m\u001b[0m\n\u001b[1;32m     12\u001b[0m \u001b[0;31m# plot boundary on testset after training session\u001b[0m\u001b[0;34m\u001b[0m\u001b[0;34m\u001b[0m\u001b[0;34m\u001b[0m\u001b[0m\n\u001b[0;32m---> 13\u001b[0;31m \u001b[0mplot_decision_boundary\u001b[0m\u001b[0;34m(\u001b[0m\u001b[0;32mlambda\u001b[0m \u001b[0mx\u001b[0m\u001b[0;34m:\u001b[0m \u001b[0mpred\u001b[0m\u001b[0;34m(\u001b[0m\u001b[0mx\u001b[0m\u001b[0;34m)\u001b[0m\u001b[0;34m,\u001b[0m \u001b[0mX_te\u001b[0m\u001b[0;34m,\u001b[0m \u001b[0my_te\u001b[0m\u001b[0;34m)\u001b[0m\u001b[0;34m\u001b[0m\u001b[0;34m\u001b[0m\u001b[0m\n\u001b[0m\u001b[1;32m     14\u001b[0m \u001b[0mplt\u001b[0m\u001b[0;34m.\u001b[0m\u001b[0mtitle\u001b[0m\u001b[0;34m(\u001b[0m\u001b[0;34m\"Trained Classifier\"\u001b[0m\u001b[0;34m)\u001b[0m\u001b[0;34m\u001b[0m\u001b[0;34m\u001b[0m\u001b[0m\n\u001b[1;32m     15\u001b[0m \u001b[0;34m\u001b[0m\u001b[0m\n",
            "\u001b[0;32m<ipython-input-54-950cf0dc8642>\u001b[0m in \u001b[0;36mplot_decision_boundary\u001b[0;34m(pred_func, X, y)\u001b[0m\n\u001b[1;32m     15\u001b[0m     \u001b[0mxx\u001b[0m\u001b[0;34m,\u001b[0m \u001b[0myy\u001b[0m \u001b[0;34m=\u001b[0m \u001b[0mnp\u001b[0m\u001b[0;34m.\u001b[0m\u001b[0mmeshgrid\u001b[0m\u001b[0;34m(\u001b[0m\u001b[0mnp\u001b[0m\u001b[0;34m.\u001b[0m\u001b[0marange\u001b[0m\u001b[0;34m(\u001b[0m\u001b[0mx_min\u001b[0m\u001b[0;34m,\u001b[0m \u001b[0mx_max\u001b[0m\u001b[0;34m,\u001b[0m \u001b[0mh\u001b[0m\u001b[0;34m)\u001b[0m\u001b[0;34m,\u001b[0m \u001b[0mnp\u001b[0m\u001b[0;34m.\u001b[0m\u001b[0marange\u001b[0m\u001b[0;34m(\u001b[0m\u001b[0my_min\u001b[0m\u001b[0;34m,\u001b[0m \u001b[0my_max\u001b[0m\u001b[0;34m,\u001b[0m \u001b[0mh\u001b[0m\u001b[0;34m)\u001b[0m\u001b[0;34m)\u001b[0m\u001b[0;34m\u001b[0m\u001b[0;34m\u001b[0m\u001b[0m\n\u001b[1;32m     16\u001b[0m     \u001b[0;31m# Predict the function value for the whole gid\u001b[0m\u001b[0;34m\u001b[0m\u001b[0;34m\u001b[0m\u001b[0;34m\u001b[0m\u001b[0m\n\u001b[0;32m---> 17\u001b[0;31m     \u001b[0mZ\u001b[0m \u001b[0;34m=\u001b[0m \u001b[0mpred_func\u001b[0m\u001b[0;34m(\u001b[0m\u001b[0mnp\u001b[0m\u001b[0;34m.\u001b[0m\u001b[0mc_\u001b[0m\u001b[0;34m[\u001b[0m\u001b[0mxx\u001b[0m\u001b[0;34m.\u001b[0m\u001b[0mravel\u001b[0m\u001b[0;34m(\u001b[0m\u001b[0;34m)\u001b[0m\u001b[0;34m,\u001b[0m \u001b[0myy\u001b[0m\u001b[0;34m.\u001b[0m\u001b[0mravel\u001b[0m\u001b[0;34m(\u001b[0m\u001b[0;34m)\u001b[0m\u001b[0;34m]\u001b[0m\u001b[0;34m)\u001b[0m\u001b[0;34m\u001b[0m\u001b[0;34m\u001b[0m\u001b[0m\n\u001b[0m\u001b[1;32m     18\u001b[0m     \u001b[0mZ\u001b[0m \u001b[0;34m=\u001b[0m \u001b[0mZ\u001b[0m\u001b[0;34m.\u001b[0m\u001b[0mreshape\u001b[0m\u001b[0;34m(\u001b[0m\u001b[0mxx\u001b[0m\u001b[0;34m.\u001b[0m\u001b[0mshape\u001b[0m\u001b[0;34m)\u001b[0m\u001b[0;34m\u001b[0m\u001b[0;34m\u001b[0m\u001b[0m\n\u001b[1;32m     19\u001b[0m     \u001b[0;31m# Plot the contour and training examples\u001b[0m\u001b[0;34m\u001b[0m\u001b[0;34m\u001b[0m\u001b[0;34m\u001b[0m\u001b[0m\n",
            "\u001b[0;32m<ipython-input-87-f1bffc5872f9>\u001b[0m in \u001b[0;36m<lambda>\u001b[0;34m(x)\u001b[0m\n\u001b[1;32m     11\u001b[0m \u001b[0;34m\u001b[0m\u001b[0m\n\u001b[1;32m     12\u001b[0m \u001b[0;31m# plot boundary on testset after training session\u001b[0m\u001b[0;34m\u001b[0m\u001b[0;34m\u001b[0m\u001b[0;34m\u001b[0m\u001b[0m\n\u001b[0;32m---> 13\u001b[0;31m \u001b[0mplot_decision_boundary\u001b[0m\u001b[0;34m(\u001b[0m\u001b[0;32mlambda\u001b[0m \u001b[0mx\u001b[0m\u001b[0;34m:\u001b[0m \u001b[0mpred\u001b[0m\u001b[0;34m(\u001b[0m\u001b[0mx\u001b[0m\u001b[0;34m)\u001b[0m\u001b[0;34m,\u001b[0m \u001b[0mX_te\u001b[0m\u001b[0;34m,\u001b[0m \u001b[0my_te\u001b[0m\u001b[0;34m)\u001b[0m\u001b[0;34m\u001b[0m\u001b[0;34m\u001b[0m\u001b[0m\n\u001b[0m\u001b[1;32m     14\u001b[0m \u001b[0mplt\u001b[0m\u001b[0;34m.\u001b[0m\u001b[0mtitle\u001b[0m\u001b[0;34m(\u001b[0m\u001b[0;34m\"Trained Classifier\"\u001b[0m\u001b[0;34m)\u001b[0m\u001b[0;34m\u001b[0m\u001b[0;34m\u001b[0m\u001b[0m\n\u001b[1;32m     15\u001b[0m \u001b[0;34m\u001b[0m\u001b[0m\n",
            "\u001b[0;32m<ipython-input-80-3e624d70592b>\u001b[0m in \u001b[0;36mpred\u001b[0;34m(X)\u001b[0m\n\u001b[1;32m     16\u001b[0m \u001b[0;34m\u001b[0m\u001b[0m\n\u001b[1;32m     17\u001b[0m     \u001b[0;31m# forward pass\u001b[0m\u001b[0;34m\u001b[0m\u001b[0;34m\u001b[0m\u001b[0;34m\u001b[0m\u001b[0m\n\u001b[0;32m---> 18\u001b[0;31m     \u001b[0my\u001b[0m \u001b[0;34m=\u001b[0m \u001b[0mnet\u001b[0m\u001b[0;34m(\u001b[0m\u001b[0mX\u001b[0m\u001b[0;34m)\u001b[0m\u001b[0;34m\u001b[0m\u001b[0;34m\u001b[0m\u001b[0m\n\u001b[0m\u001b[1;32m     19\u001b[0m     \u001b[0;32mreturn\u001b[0m \u001b[0my\u001b[0m\u001b[0;34m.\u001b[0m\u001b[0mdata\u001b[0m\u001b[0;34m.\u001b[0m\u001b[0mnumpy\u001b[0m\u001b[0;34m(\u001b[0m\u001b[0;34m)\u001b[0m\u001b[0;34m\u001b[0m\u001b[0;34m\u001b[0m\u001b[0m\n",
            "\u001b[0;32m/usr/local/lib/python3.6/dist-packages/torch/nn/modules/module.py\u001b[0m in \u001b[0;36m__call__\u001b[0;34m(self, *input, **kwargs)\u001b[0m\n\u001b[1;32m    530\u001b[0m             \u001b[0mresult\u001b[0m \u001b[0;34m=\u001b[0m \u001b[0mself\u001b[0m\u001b[0;34m.\u001b[0m\u001b[0m_slow_forward\u001b[0m\u001b[0;34m(\u001b[0m\u001b[0;34m*\u001b[0m\u001b[0minput\u001b[0m\u001b[0;34m,\u001b[0m \u001b[0;34m**\u001b[0m\u001b[0mkwargs\u001b[0m\u001b[0;34m)\u001b[0m\u001b[0;34m\u001b[0m\u001b[0;34m\u001b[0m\u001b[0m\n\u001b[1;32m    531\u001b[0m         \u001b[0;32melse\u001b[0m\u001b[0;34m:\u001b[0m\u001b[0;34m\u001b[0m\u001b[0;34m\u001b[0m\u001b[0m\n\u001b[0;32m--> 532\u001b[0;31m             \u001b[0mresult\u001b[0m \u001b[0;34m=\u001b[0m \u001b[0mself\u001b[0m\u001b[0;34m.\u001b[0m\u001b[0mforward\u001b[0m\u001b[0;34m(\u001b[0m\u001b[0;34m*\u001b[0m\u001b[0minput\u001b[0m\u001b[0;34m,\u001b[0m \u001b[0;34m**\u001b[0m\u001b[0mkwargs\u001b[0m\u001b[0;34m)\u001b[0m\u001b[0;34m\u001b[0m\u001b[0;34m\u001b[0m\u001b[0m\n\u001b[0m\u001b[1;32m    533\u001b[0m         \u001b[0;32mfor\u001b[0m \u001b[0mhook\u001b[0m \u001b[0;32min\u001b[0m \u001b[0mself\u001b[0m\u001b[0;34m.\u001b[0m\u001b[0m_forward_hooks\u001b[0m\u001b[0;34m.\u001b[0m\u001b[0mvalues\u001b[0m\u001b[0;34m(\u001b[0m\u001b[0;34m)\u001b[0m\u001b[0;34m:\u001b[0m\u001b[0;34m\u001b[0m\u001b[0;34m\u001b[0m\u001b[0m\n\u001b[1;32m    534\u001b[0m             \u001b[0mhook_result\u001b[0m \u001b[0;34m=\u001b[0m \u001b[0mhook\u001b[0m\u001b[0;34m(\u001b[0m\u001b[0mself\u001b[0m\u001b[0;34m,\u001b[0m \u001b[0minput\u001b[0m\u001b[0;34m,\u001b[0m \u001b[0mresult\u001b[0m\u001b[0;34m)\u001b[0m\u001b[0;34m\u001b[0m\u001b[0;34m\u001b[0m\u001b[0m\n",
            "\u001b[0;32m<ipython-input-61-c8ea0cff590e>\u001b[0m in \u001b[0;36mforward\u001b[0;34m(self, x)\u001b[0m\n\u001b[1;32m      7\u001b[0m     \u001b[0;32mdef\u001b[0m \u001b[0mforward\u001b[0m\u001b[0;34m(\u001b[0m\u001b[0mself\u001b[0m\u001b[0;34m,\u001b[0m \u001b[0mx\u001b[0m\u001b[0;34m)\u001b[0m\u001b[0;34m:\u001b[0m\u001b[0;34m\u001b[0m\u001b[0;34m\u001b[0m\u001b[0m\n\u001b[1;32m      8\u001b[0m         \u001b[0;31m# Applies a linear transformation :math:`y = xW^T + b`\u001b[0m\u001b[0;34m\u001b[0m\u001b[0;34m\u001b[0m\u001b[0;34m\u001b[0m\u001b[0m\n\u001b[0;32m----> 9\u001b[0;31m         \u001b[0mx\u001b[0m \u001b[0;34m=\u001b[0m \u001b[0mF\u001b[0m\u001b[0;34m.\u001b[0m\u001b[0mlinear\u001b[0m\u001b[0;34m(\u001b[0m\u001b[0mx\u001b[0m\u001b[0;34m,\u001b[0m \u001b[0mself\u001b[0m\u001b[0;34m.\u001b[0m\u001b[0mW_1\u001b[0m\u001b[0;34m,\u001b[0m \u001b[0mself\u001b[0m\u001b[0;34m.\u001b[0m\u001b[0mb_1\u001b[0m\u001b[0;34m)\u001b[0m\u001b[0;34m\u001b[0m\u001b[0;34m\u001b[0m\u001b[0m\n\u001b[0m\u001b[1;32m     10\u001b[0m         \u001b[0mx\u001b[0m \u001b[0;34m=\u001b[0m \u001b[0mF\u001b[0m\u001b[0;34m.\u001b[0m\u001b[0msoftmax\u001b[0m\u001b[0;34m(\u001b[0m\u001b[0mx\u001b[0m\u001b[0;34m,\u001b[0m \u001b[0mdim\u001b[0m \u001b[0;34m=\u001b[0m \u001b[0;36m1\u001b[0m\u001b[0;34m)\u001b[0m\u001b[0;34m\u001b[0m\u001b[0;34m\u001b[0m\u001b[0m\n\u001b[1;32m     11\u001b[0m         \u001b[0;32mreturn\u001b[0m \u001b[0mx\u001b[0m\u001b[0;34m\u001b[0m\u001b[0;34m\u001b[0m\u001b[0m\n",
            "\u001b[0;32m/usr/local/lib/python3.6/dist-packages/torch/nn/functional.py\u001b[0m in \u001b[0;36mlinear\u001b[0;34m(input, weight, bias)\u001b[0m\n\u001b[1;32m   1368\u001b[0m     \u001b[0;32mif\u001b[0m \u001b[0minput\u001b[0m\u001b[0;34m.\u001b[0m\u001b[0mdim\u001b[0m\u001b[0;34m(\u001b[0m\u001b[0;34m)\u001b[0m \u001b[0;34m==\u001b[0m \u001b[0;36m2\u001b[0m \u001b[0;32mand\u001b[0m \u001b[0mbias\u001b[0m \u001b[0;32mis\u001b[0m \u001b[0;32mnot\u001b[0m \u001b[0;32mNone\u001b[0m\u001b[0;34m:\u001b[0m\u001b[0;34m\u001b[0m\u001b[0;34m\u001b[0m\u001b[0m\n\u001b[1;32m   1369\u001b[0m         \u001b[0;31m# fused op is marginally faster\u001b[0m\u001b[0;34m\u001b[0m\u001b[0;34m\u001b[0m\u001b[0;34m\u001b[0m\u001b[0m\n\u001b[0;32m-> 1370\u001b[0;31m         \u001b[0mret\u001b[0m \u001b[0;34m=\u001b[0m \u001b[0mtorch\u001b[0m\u001b[0;34m.\u001b[0m\u001b[0maddmm\u001b[0m\u001b[0;34m(\u001b[0m\u001b[0mbias\u001b[0m\u001b[0;34m,\u001b[0m \u001b[0minput\u001b[0m\u001b[0;34m,\u001b[0m \u001b[0mweight\u001b[0m\u001b[0;34m.\u001b[0m\u001b[0mt\u001b[0m\u001b[0;34m(\u001b[0m\u001b[0;34m)\u001b[0m\u001b[0;34m)\u001b[0m\u001b[0;34m\u001b[0m\u001b[0;34m\u001b[0m\u001b[0m\n\u001b[0m\u001b[1;32m   1371\u001b[0m     \u001b[0;32melse\u001b[0m\u001b[0;34m:\u001b[0m\u001b[0;34m\u001b[0m\u001b[0;34m\u001b[0m\u001b[0m\n\u001b[1;32m   1372\u001b[0m         \u001b[0moutput\u001b[0m \u001b[0;34m=\u001b[0m \u001b[0minput\u001b[0m\u001b[0;34m.\u001b[0m\u001b[0mmatmul\u001b[0m\u001b[0;34m(\u001b[0m\u001b[0mweight\u001b[0m\u001b[0;34m.\u001b[0m\u001b[0mt\u001b[0m\u001b[0;34m(\u001b[0m\u001b[0;34m)\u001b[0m\u001b[0;34m)\u001b[0m\u001b[0;34m\u001b[0m\u001b[0;34m\u001b[0m\u001b[0m\n",
            "\u001b[0;31mRuntimeError\u001b[0m: Expected object of scalar type Float but got scalar type Double for argument #2 'mat1' in call to _th_addmm"
          ]
        }
      ]
    },
    {
      "cell_type": "markdown",
      "metadata": {
        "colab_type": "text",
        "id": "LhqUk6wDv5Ot"
      },
      "source": [
        "-----------\n",
        "### Part 3 - Assignments\n",
        "\n",
        "1. A linear logistic classifier is only able to create a linear decision boundary. Change the Logistic classifier into a (nonlinear) Neural network by inserting a dense hidden layer between the input and output layers of the model\n",
        " \n",
        "2. Experiment with multiple hidden layers or more / less hidden units. What happens to the decision boundary?\n",
        " \n",
        "3. Overfitting: When increasing the number of hidden layers / units the neural network will fit the training data better by creating a highly nonlinear decision boundary. If the model is to complex it will often generalize poorly to new data (validation and test set). Can you observe this from the training and validation errors? \n",
        " \n",
        "4. We used the vanilla stocastic gradient descent algorithm for parameter updates. This is usually slow to converge and more sophisticated pseudo-second-order methods usually works better. Try changing the optimizer to [adam or momentum](http://pytorch.org/docs/master/optim.html#torch.optim.Adam)"
      ]
    },
    {
      "cell_type": "markdown",
      "metadata": {
        "id": "7WgH0u3oCqeT",
        "colab_type": "text"
      },
      "source": [
        "𝑥  has shape [batch_size, num_features],\n",
        "\n",
        "𝑊  has shape [num_features, num_units],\n",
        "\n",
        "𝑏  has [num_units], and\n",
        "\n",
        "𝑦  has then [batch_size, num_units]"
      ]
    },
    {
      "cell_type": "markdown",
      "metadata": {
        "id": "29MBNacTYCix",
        "colab_type": "text"
      },
      "source": [
        "As we add a new layer here, we need to choose the activation function. I chose to stick with sigmoid function.\n",
        "So at the beginning we have our input, x. Then we multiply it with our randomly chosen weights to get z1. Then we use our activation function; after plugging in the values and multiplying the results by W2, we normalize it by softmax and get our final probability.\n",
        "\n",
        "As we should create a binary classifier, output layer should have size of 2. Input layer and hidden layer should have the size of our input size."
      ]
    },
    {
      "cell_type": "markdown",
      "metadata": {
        "id": "2tvCwfjUVQ3O",
        "colab_type": "text"
      },
      "source": [
        "Applying the backpropagation formula we find the following:\n",
        "$$\n",
        "\\begin{aligned}\n",
        " \\delta_3 = \\hat{y} - y \\\\\n",
        " \\delta_2 = sigmoid(z1)*(1-sigmoid(z)) \\circ \\delta_3W_2^T \\\\\n",
        " \\frac{\\partial{L}}{\\partial{W_2}} = a_1^T \\delta_3  \\\\\n",
        " \\frac{\\partial{L}}{\\partial{b_2}} = \\delta_3\\\\\n",
        " \\frac{\\partial{L}}{\\partial{W_1}} = x^T \\delta_2\\\\\n",
        "\\frac{\\partial{L}}{\\partial{b_1}} = \\delta_2 \\\\\n",
        "\\end{aligned}\n",
        "$$"
      ]
    },
    {
      "cell_type": "code",
      "metadata": {
        "id": "LGfKdRH7Cs0z",
        "colab_type": "code",
        "colab": {}
      },
      "source": [
        ""
      ],
      "execution_count": 0,
      "outputs": []
    },
    {
      "cell_type": "code",
      "metadata": {
        "id": "1zUFNSjFDiVe",
        "colab_type": "code",
        "outputId": "69cc79af-2db4-4873-d871-c110acfdcd04",
        "colab": {
          "base_uri": "https://localhost:8080/",
          "height": 65
        }
      },
      "source": [
        "import numpy as np\n",
        "import random\n",
        "\n",
        "# Generate a dataset and plot it\n",
        "np.random.seed(0)\n",
        "num_samples = 300\n",
        "\n",
        "X, y = sklearn.datasets.make_moons(num_samples, noise=0.20)\n",
        "\n",
        "X_tr = X[:100].astype('float32')\n",
        "print('Train set:', X_tr.shape)\n",
        "\n",
        "X_val = X[100:200].astype('float32')\n",
        "print('Validation set:', X_val.shape)\n",
        "\n",
        "X_te = X[200:].astype('float32')\n",
        "print('Test set:', X_te.shape)\n",
        "\n",
        "y_tr = y[:100].astype('int32')\n",
        "y_val = y[100:200].astype('int32')\n",
        "y_te = y[200:].astype('int32')\n",
        "\n",
        "\n",
        "# Sigmoid function\n",
        "def sigmoid(z):\n",
        "  return 1 / (1 + np.exp(-z))\n",
        "\n",
        "# Helper function to evaluate the total loss on the dataset\n",
        "def calculate_loss(model, X, y):\n",
        "    W1, b1, W2, b2 = model['W1'], model['b1'], model['W2'], model['b2']\n",
        "    # Forward propagation to calculate our predictions\n",
        "    z1 = X.dot(W1) + b1\n",
        "    a1 = sigmoid(z1)\n",
        "    z2 = a1.dot(W2) + b2\n",
        "    exponents = np.exp(z2)\n",
        "    probs = exponents / np.sum(exponents, axis=1, keepdims=True)\n",
        "    # Calculating the loss\n",
        "    corect_logprobs = -np.log(probs[range(100), y])\n",
        "    data_loss = np.sum(corect_logprobs)\n",
        "    return 1./100 * data_loss\n",
        "\n",
        "def pred(model, x):\n",
        "    W1, b1, W2, b2 = model['W1'], model['b1'], model['W2'], model['b2']\n",
        "    # Forward propagation\n",
        "    z1 = x.dot(W1) + b1\n",
        "    a1 = sigmoid(z1)\n",
        "    z2 = a1.dot(W2) + b2\n",
        "    exponents = np.exp(z2)\n",
        "    probs = exponents / np.sum(exponents, axis=1, keepdims=True)\n",
        "    return np.argmax(probs, axis=1)\n",
        "\n",
        "def train_model(hidden_layer_size, X_tr, y_tr, learning_rate = 0.01, iterations = 20001):\n",
        "  #np.random.seed(0)\n",
        "  model = {}\n",
        "  #Need to initialize W1,W2,b1,b2\n",
        "  W1 = np.random.randn(2, hidden_layer_size) \n",
        "  b1 = np.zeros((1, hidden_layer_size))\n",
        "\n",
        "  #a1 = sigmoid(X_tr.dot(W1) + b1)\n",
        "\n",
        "  W2 = np.random.randn(hidden_layer_size, 2) \n",
        "  b2 = np.zeros((1, 2))\n",
        "\n",
        "\n",
        "  # Initial forward propagation\n",
        "  z1 = X_tr.dot(W1) + b1\n",
        "  a1 = sigmoid(z1)\n",
        "  z2 = a1.dot(W2) + b2\n",
        "  exp_scores = np.exp(z2)\n",
        "  probs = exp_scores / np.sum(exp_scores, axis=1, keepdims=True)\n",
        "\n",
        "  print(\"LOSSES:                   TRAIN    TEST     VALIDATION\")\n",
        "  for i in range(iterations):\n",
        "    #Pick a random input instance\n",
        "    ind = np.random.randint(100)\n",
        "\n",
        "    z1[ind][:] = X_tr[ind][:].dot(W1) + b1\n",
        "    a1 = sigmoid (z1)\n",
        "    z2 = a1.dot(W2) + b2 \n",
        "    exp_scores = np.exp(z2)\n",
        "    a2 = exp_scores/np.sum(exp_scores, axis=1, keepdims=True)\n",
        "\n",
        "    #Backpropagation\n",
        "    delta3 = a2 #shape = 100x2\n",
        "    delta3[range(100), y_tr] -= 1\n",
        "\n",
        "    dW2 = (a1.T).dot(delta3)\n",
        "    db2 = np.sum(delta3, axis=0, keepdims=True)\n",
        "    delta2 = delta3.dot(W2.T) * (1 - a1) * a1\n",
        "    \n",
        "    dW1 = np.dot(X_tr.T, delta2)\n",
        "    db1 = np.sum(delta2, axis=0)  \n",
        "\n",
        "\n",
        "    W1 += -learning_rate * dW1\n",
        "    b1 += -learning_rate * db1\n",
        "    W2 += -learning_rate * dW2\n",
        "    b2 += -learning_rate * db2\n",
        "    model = { 'W1': W1, 'b1': b1, 'W2': W2, 'b2': b2}\n",
        "\n",
        "    if i % 1000 == 0:\n",
        "        print(\"Loss after iteration %i: %f %f %f\" %(i, calculate_loss(model, X_tr, y_tr), calculate_loss(model, X_te, y_te), calculate_loss(model, X_val, y_val)))\n",
        "  return model\n",
        "\n",
        "\n"
      ],
      "execution_count": 139,
      "outputs": [
        {
          "output_type": "stream",
          "text": [
            "Train set: (100, 2)\n",
            "Validation set: (100, 2)\n",
            "Test set: (100, 2)\n"
          ],
          "name": "stdout"
        }
      ]
    },
    {
      "cell_type": "code",
      "metadata": {
        "id": "Ln22AOPFliuX",
        "colab_type": "code",
        "outputId": "776bb18d-68f5-43eb-8ab8-6838db1e137a",
        "colab": {
          "base_uri": "https://localhost:8080/",
          "height": 658
        }
      },
      "source": [
        "# Build a model with a 3-dimensional hidden layer\n",
        "hidden_layer_size = 5\n",
        "model = train_model(hidden_layer_size, X_tr, y_tr, 0.01, 20001)\n",
        "\n",
        "z = lambda x: pred(model, x)\n",
        "# Plot the decision boundary\n",
        "plot_decision_boundary(z, X_tr, y_tr)\n",
        "plt.title(\"Train data Decision Boundary for hidden layer size 5\")\n",
        "\n"
      ],
      "execution_count": 140,
      "outputs": [
        {
          "output_type": "stream",
          "text": [
            "LOSSES:                   TRAIN    TEST     VALIDATION\n",
            "Loss after iteration 0: 0.652728 0.652819 0.667475\n",
            "Loss after iteration 1000: 0.285452 0.264628 0.332724\n",
            "Loss after iteration 2000: 0.097217 0.106038 0.146205\n",
            "Loss after iteration 3000: 0.017857 0.061417 0.155097\n",
            "Loss after iteration 4000: 0.010039 0.048204 0.197218\n",
            "Loss after iteration 5000: 0.151681 0.185675 0.348635\n",
            "Loss after iteration 6000: 0.016528 0.051055 0.215143\n",
            "Loss after iteration 7000: 0.052986 0.114300 0.284735\n",
            "Loss after iteration 8000: 0.002851 0.048231 0.298430\n",
            "Loss after iteration 9000: 0.002274 0.049941 0.300123\n",
            "Loss after iteration 10000: 0.001979 0.051408 0.305687\n",
            "Loss after iteration 11000: 0.001757 0.052076 0.311727\n",
            "Loss after iteration 12000: 0.001580 0.052838 0.318011\n",
            "Loss after iteration 13000: 0.001436 0.053622 0.323563\n",
            "Loss after iteration 14000: 0.001315 0.054271 0.328792\n",
            "Loss after iteration 15000: 0.001212 0.054696 0.333931\n",
            "Loss after iteration 16000: 0.001124 0.055250 0.338616\n",
            "Loss after iteration 17000: 0.001047 0.055735 0.343049\n",
            "Loss after iteration 18000: 0.000980 0.056204 0.347221\n",
            "Loss after iteration 19000: 0.000921 0.056742 0.351065\n",
            "Loss after iteration 20000: 0.000868 0.057219 0.354754\n"
          ],
          "name": "stdout"
        },
        {
          "output_type": "execute_result",
          "data": {
            "text/plain": [
              "Text(0.5, 1.0, 'Train data Decision Boundary for hidden layer size 5')"
            ]
          },
          "metadata": {
            "tags": []
          },
          "execution_count": 140
        },
        {
          "output_type": "display_data",
          "data": {
            "image/png": "[encoded data removed]",
            "text/plain": [
              "<Figure size 432x288 with 1 Axes>"
            ]
          },
          "metadata": {
            "tags": [],
            "needs_background": "light"
          }
        }
      ]
    },
    {
      "cell_type": "code",
      "metadata": {
        "id": "9SFkHxitNVIB",
        "colab_type": "code",
        "colab": {
          "base_uri": "https://localhost:8080/",
          "height": 312
        },
        "outputId": "80359196-089c-45fc-9ca0-9178d23fc86c"
      },
      "source": [
        "z = lambda x: pred(model, x)\n",
        "# Plot the decision boundary\n",
        "print(\"Test set error: %f\" %(calculate_loss(model, X_te, y_te)))\n",
        "plot_decision_boundary(z, X_te, y_te)\n",
        "plt.title(\"Test data Decision Boundary for hidden layer size 5\")"
      ],
      "execution_count": 109,
      "outputs": [
        {
          "output_type": "stream",
          "text": [
            "Test set error: 0.059114\n"
          ],
          "name": "stdout"
        },
        {
          "output_type": "execute_result",
          "data": {
            "text/plain": [
              "Text(0.5, 1.0, 'Test data Decision Boundary for hidden layer size 5')"
            ]
          },
          "metadata": {
            "tags": []
          },
          "execution_count": 109
        },
        {
          "output_type": "display_data",
          "data": {
            "image/png": "[encoded data removed]",
            "text/plain": [
              "<Figure size 432x288 with 1 Axes>"
            ]
          },
          "metadata": {
            "tags": [],
            "needs_background": "light"
          }
        }
      ]
    },
    {
      "cell_type": "code",
      "metadata": {
        "id": "Msbx0O8tlhnA",
        "colab_type": "code",
        "colab": {
          "base_uri": "https://localhost:8080/",
          "height": 312
        },
        "outputId": "6dcf2d33-e541-4a67-fad5-97abeabeda1c"
      },
      "source": [
        "z = lambda x: pred(model, x)\n",
        "# Plot the decision boundary\n",
        "print(\"Validation set error: %f\" %(calculate_loss(model, X_val, y_val)))\n",
        "plot_decision_boundary(z, X_val, y_val)\n",
        "plt.title(\"Validation data Decision Boundary for hidden layer size 5\")"
      ],
      "execution_count": 105,
      "outputs": [
        {
          "output_type": "stream",
          "text": [
            "Validation set error: 0.160490\n"
          ],
          "name": "stdout"
        },
        {
          "output_type": "execute_result",
          "data": {
            "text/plain": [
              "Text(0.5, 1.0, 'Validation data Decision Boundary for hidden layer size 5')"
            ]
          },
          "metadata": {
            "tags": []
          },
          "execution_count": 105
        },
        {
          "output_type": "display_data",
          "data": {
            "image/png": "[encoded data removed]",
            "text/plain": [
              "<Figure size 432x288 with 1 Axes>"
            ]
          },
          "metadata": {
            "tags": [],
            "needs_background": "light"
          }
        }
      ]
    },
    {
      "cell_type": "code",
      "metadata": {
        "id": "dfOxz5ZbDjHI",
        "colab_type": "code",
        "colab": {
          "base_uri": "https://localhost:8080/",
          "height": 658
        },
        "outputId": "45e676aa-9378-402b-f48b-6d598ec84438"
      },
      "source": [
        "#Now what if we add more neurons to hidden layer?\n",
        "hidden_layer_size = 20\n",
        "model = train_model(hidden_layer_size, X_tr, y_tr, 0.01, 20001)\n",
        "\n",
        "z = lambda x: pred(model, x)\n",
        "# Plot the decision boundary\n",
        "plot_decision_boundary(z, X_tr, y_tr)\n",
        "plt.title(\"Train data Decision Boundary for hidden layer size 20\")"
      ],
      "execution_count": 141,
      "outputs": [
        {
          "output_type": "stream",
          "text": [
            "LOSSES:                   TRAIN    TEST     VALIDATION\n",
            "Loss after iteration 0: 1.515632 1.667429 1.743362\n",
            "Loss after iteration 1000: 0.071736 0.084774 0.145405\n",
            "Loss after iteration 2000: 0.029810 0.048990 0.165497\n",
            "Loss after iteration 3000: 0.017474 0.040263 0.203412\n",
            "Loss after iteration 4000: 0.011479 0.038898 0.229907\n",
            "Loss after iteration 5000: 0.008251 0.040771 0.248302\n",
            "Loss after iteration 6000: 0.006352 0.044369 0.258679\n",
            "Loss after iteration 7000: 0.005026 0.047294 0.263391\n",
            "Loss after iteration 8000: 0.004145 0.050930 0.267342\n",
            "Loss after iteration 9000: 0.003466 0.050312 0.271301\n",
            "Loss after iteration 10000: 0.002981 0.053630 0.273276\n",
            "Loss after iteration 11000: 0.002600 0.056321 0.274629\n",
            "Loss after iteration 12000: 0.002297 0.057587 0.276326\n",
            "Loss after iteration 13000: 0.002054 0.058201 0.278376\n",
            "Loss after iteration 14000: 0.001848 0.061355 0.279183\n",
            "Loss after iteration 15000: 0.001676 0.062848 0.280875\n",
            "Loss after iteration 16000: 0.001533 0.063547 0.282464\n",
            "Loss after iteration 17000: 0.001412 0.064448 0.284294\n",
            "Loss after iteration 18000: 0.001306 0.067019 0.285405\n",
            "Loss after iteration 19000: 0.001213 0.068047 0.287126\n",
            "Loss after iteration 20000: 0.001132 0.068996 0.288725\n"
          ],
          "name": "stdout"
        },
        {
          "output_type": "execute_result",
          "data": {
            "text/plain": [
              "Text(0.5, 1.0, 'Train data Decision Boundary for hidden layer size 20')"
            ]
          },
          "metadata": {
            "tags": []
          },
          "execution_count": 141
        },
        {
          "output_type": "display_data",
          "data": {
            "image/png": "[encoded data removed]",
            "text/plain": [
              "<Figure size 432x288 with 1 Axes>"
            ]
          },
          "metadata": {
            "tags": [],
            "needs_background": "light"
          }
        }
      ]
    },
    {
      "cell_type": "code",
      "metadata": {
        "id": "Xk41slPGDixq",
        "colab_type": "code",
        "colab": {
          "base_uri": "https://localhost:8080/",
          "height": 312
        },
        "outputId": "4f5369af-380c-4b84-858f-098b823fe558"
      },
      "source": [
        "z = lambda x: pred(model, x)\n",
        "# Plot the decision boundary\n",
        "print(\"Test set error: %f\" %(calculate_loss(model, X_te, y_te)))\n",
        "plot_decision_boundary(z, X_te, y_te)\n",
        "plt.title(\"Test data Decision Boundary for hidden layer size 20\")"
      ],
      "execution_count": 108,
      "outputs": [
        {
          "output_type": "stream",
          "text": [
            "Test set error: 0.059114\n"
          ],
          "name": "stdout"
        },
        {
          "output_type": "execute_result",
          "data": {
            "text/plain": [
              "Text(0.5, 1.0, 'Test data Decision Boundary for hidden layer size 20')"
            ]
          },
          "metadata": {
            "tags": []
          },
          "execution_count": 108
        },
        {
          "output_type": "display_data",
          "data": {
            "image/png": "[encoded data removed]",
            "text/plain": [
              "<Figure size 432x288 with 1 Axes>"
            ]
          },
          "metadata": {
            "tags": [],
            "needs_background": "light"
          }
        }
      ]
    },
    {
      "cell_type": "code",
      "metadata": {
        "id": "TzrTviaADitu",
        "colab_type": "code",
        "colab": {
          "base_uri": "https://localhost:8080/",
          "height": 312
        },
        "outputId": "128036bf-1b29-4f5f-a57f-97190f509bfd"
      },
      "source": [
        "z = lambda x: pred(model, x)\n",
        "# Plot the decision boundary\n",
        "print(\"Validation set error: %f\" %(calculate_loss(model, X_val, y_val)))\n",
        "plot_decision_boundary(z, X_val, y_val)\n",
        "plt.title(\"Validation data Decision Boundary for hidden layer size 20\")"
      ],
      "execution_count": 111,
      "outputs": [
        {
          "output_type": "stream",
          "text": [
            "Validation set error: 0.265797\n"
          ],
          "name": "stdout"
        },
        {
          "output_type": "execute_result",
          "data": {
            "text/plain": [
              "Text(0.5, 1.0, 'Validation data Decision Boundary for hidden layer size 20')"
            ]
          },
          "metadata": {
            "tags": []
          },
          "execution_count": 111
        },
        {
          "output_type": "display_data",
          "data": {
            "image/png": "[encoded data removed]",
            "text/plain": [
              "<Figure size 432x288 with 1 Axes>"
            ]
          },
          "metadata": {
            "tags": [],
            "needs_background": "light"
          }
        }
      ]
    },
    {
      "cell_type": "markdown",
      "metadata": {
        "id": "pse0MHowPaE4",
        "colab_type": "text"
      },
      "source": [
        "\n",
        "When increasing hidden layer size, validation error grows significantly - overfitting.\n",
        "\n",
        "P.S. I understand I haven't used PyTorch here, but I think my decision boundary is still good.\n",
        "\n",
        "P.P.S. I looked up some codes on GitHub as a foundation, but I still did great deal of work to make it work correctly (especially SGD!)"
      ]
    },
    {
      "cell_type": "markdown",
      "metadata": {
        "colab_type": "text",
        "id": "iB573xhGv5Ou"
      },
      "source": [
        "--------------------------------------\n",
        "# PART 4 - MNIST Feed-Forward Neural Networks "
      ]
    },
    {
      "cell_type": "code",
      "metadata": {
        "colab_type": "code",
        "id": "zIz9b-7pv5Ov",
        "colab": {}
      },
      "source": [
        "import torch\n",
        "from torch.autograd import Variable\n",
        "from torch.nn.parameter import Parameter\n",
        "\n",
        "import torch.nn as nn\n",
        "import torch.nn.functional as F\n",
        "import torch.optim as optim\n",
        "import torch.nn.init as init\n",
        "\n",
        "%matplotlib inline\n",
        "import matplotlib\n",
        "import numpy as np\n",
        "import matplotlib.pyplot as plt"
      ],
      "execution_count": 0,
      "outputs": []
    },
    {
      "cell_type": "markdown",
      "metadata": {
        "colab_type": "text",
        "id": "PYiO8RxZv5Oy"
      },
      "source": [
        "### MNIST dataset\n",
        "MNIST is a dataset that is often used for benchmarking. The MNIST dataset consists of 70,000 images of handwritten digits from 0-9. The dataset is split into a 50,000 images training set, 10,000 images validation set and 10,000 images test set. The images are 28x28 pixels, where each pixel represents a normalised value between 0-255 `(0=black and 255=white)`.\n",
        "\n",
        "http://yann.lecun.com/exdb/mnist/\n",
        "\n",
        "### Primer\n",
        "We use a feedforward neural network to classify the 28x28 mnist images. `num_features` is therefore $28 * 28=784$, i.e. we represent each image as a vector. The ordering of the pixels in the vector does not matter, so we could permutate all images using the same permutation and still get the same performance. (You are of course encouraged to try this using ``numpy.random.permutation`` to get a random permutation. This task is therefore called the _permutation invariant_ MNIST. Obviously this throws away a lot of structure in the data. In the next module we'll fix this with the convolutional neural network wich encodes prior knowledgde about data that has either spatial or temporal structure.  "
      ]
    },
    {
      "cell_type": "markdown",
      "metadata": {
        "colab_type": "text",
        "id": "JZQ44n4Wv5Oy"
      },
      "source": [
        "### MNIST\n",
        "First let's load the MNIST dataset and plot a few examples:"
      ]
    },
    {
      "cell_type": "code",
      "metadata": {
        "colab_type": "code",
        "id": "d8CsyA9rv5Oz",
        "outputId": "0e0a1f0f-ed1f-48c8-bf83-4995d5b52bce",
        "colab": {
          "base_uri": "https://localhost:8080/",
          "height": 181
        }
      },
      "source": [
        "!pip install wget\n",
        "import wget\n",
        "wget.download('https://github.com/berdakh/ROBT407/blob/master/mnist.npz?raw=true')"
      ],
      "execution_count": 115,
      "outputs": [
        {
          "output_type": "stream",
          "text": [
            "Collecting wget\n",
            "  Downloading https://files.pythonhosted.org/packages/47/6a/62e288da7bcda82b935ff0c6cfe542970f04e29c756b0e147251b2fb251f/wget-3.2.zip\n",
            "Building wheels for collected packages: wget\n",
            "  Building wheel for wget (setup.py) ... \u001b[?25l\u001b[?25hdone\n",
            "  Created wheel for wget: filename=wget-3.2-cp36-none-any.whl size=9682 sha256=1451e442b1fc46fbcaab5f9c2e066e36d324e84a8c34f9a568b8527a2fe6b66d\n",
            "  Stored in directory: /root/.cache/pip/wheels/40/15/30/7d8f7cea2902b4db79e3fea550d7d7b85ecb27ef992b618f3f\n",
            "Successfully built wget\n",
            "Installing collected packages: wget\n",
            "Successfully installed wget-3.2\n"
          ],
          "name": "stdout"
        },
        {
          "output_type": "execute_result",
          "data": {
            "text/plain": [
              "'mnist.npz'"
            ]
          },
          "metadata": {
            "tags": []
          },
          "execution_count": 115
        }
      ]
    },
    {
      "cell_type": "code",
      "metadata": {
        "colab_type": "code",
        "id": "0lHm-wd9v5O0",
        "colab": {}
      },
      "source": [
        "#To speed up training we'll only work on a subset of the data\n",
        "data = np.load('mnist.npz')"
      ],
      "execution_count": 0,
      "outputs": []
    },
    {
      "cell_type": "code",
      "metadata": {
        "colab_type": "code",
        "id": "GrGZyZrMUdDn",
        "outputId": "c5901a1a-ca5a-425d-94b5-bce9313e228c",
        "colab": {
          "base_uri": "https://localhost:8080/",
          "height": 32
        }
      },
      "source": [
        "num_classes = 10\n",
        "\n",
        "data['X_train'].shape"
      ],
      "execution_count": 117,
      "outputs": [
        {
          "output_type": "execute_result",
          "data": {
            "text/plain": [
              "(50000, 784)"
            ]
          },
          "metadata": {
            "tags": []
          },
          "execution_count": 117
        }
      ]
    },
    {
      "cell_type": "code",
      "metadata": {
        "colab_type": "code",
        "id": "MUfPbFslv5O1",
        "outputId": "fabfd6e2-b1d8-45bc-fa13-541d3f83fc0e",
        "colab": {
          "base_uri": "https://localhost:8080/",
          "height": 131
        }
      },
      "source": [
        "#To speed up training we'll only work on a subset of the data\n",
        "x_train = data['X_train'][:1000].astype('float32')\n",
        "targets_train = data['y_train'][:1000].astype('int32')\n",
        "\n",
        "x_valid = data['X_valid'][:500].astype('float32')\n",
        "targets_valid = data['y_valid'][:500].astype('int32')\n",
        "\n",
        "x_test = data['X_test'][:500].astype('float32')\n",
        "targets_test = data['y_test'][:500].astype('int32')\n",
        "\n",
        "print(\"Information on dataset\")\n",
        "print(\"x_train\", x_train.shape)\n",
        "print(\"targets_train\", targets_train.shape)\n",
        "print(\"x_valid\", x_valid.shape)\n",
        "print(\"targets_valid\", targets_valid.shape)\n",
        "print(\"x_test\", x_test.shape)\n",
        "print(\"targets_test\", targets_test.shape)"
      ],
      "execution_count": 118,
      "outputs": [
        {
          "output_type": "stream",
          "text": [
            "Information on dataset\n",
            "x_train (1000, 784)\n",
            "targets_train (1000,)\n",
            "x_valid (500, 784)\n",
            "targets_valid (500,)\n",
            "x_test (500, 784)\n",
            "targets_test (500,)\n"
          ],
          "name": "stdout"
        }
      ]
    },
    {
      "cell_type": "code",
      "metadata": {
        "colab_type": "code",
        "id": "E34Z5dFSv5O4",
        "colab": {
          "base_uri": "https://localhost:8080/",
          "height": 262
        },
        "outputId": "5be83b6b-272b-45d5-b058-0f83fe79bf2b"
      },
      "source": [
        "#plot a few MNIST examples\n",
        "idx, dim, classes = 0, 28, 10\n",
        "# create empty canvas\n",
        "canvas = np.zeros((dim*classes, classes*dim))\n",
        "\n",
        "# fill with tensors\n",
        "for i in range(classes):\n",
        "    for j in range(classes):\n",
        "        canvas[i*dim:(i+1)*dim, j*dim:(j+1)*dim] = x_train[idx].reshape((dim, dim))\n",
        "        idx += 1\n",
        "\n",
        "# visualize matrix of tensors as gray scale image\n",
        "plt.figure(figsize=(4, 4))\n",
        "plt.axis('off')\n",
        "plt.imshow(canvas, cmap='gray')\n",
        "plt.title('MNIST handwritten digits')\n",
        "plt.show()"
      ],
      "execution_count": 119,
      "outputs": [
        {
          "output_type": "display_data",
          "data": {
            "image/png": "[encoded data removed]",
            "text/plain": [
              "<Figure size 288x288 with 1 Axes>"
            ]
          },
          "metadata": {
            "tags": [],
            "needs_background": "light"
          }
        }
      ]
    },
    {
      "cell_type": "markdown",
      "metadata": {
        "colab_type": "text",
        "id": "6P2tZLSFv5O5"
      },
      "source": [
        "## Model\n",
        "\n",
        "One of the large challenges in deep learning is the amount of hyperparameters that needs to be selected, and the lack of a good principled way of selecting them.\n",
        "Hyperparameters can be found by experience (guessing) or some search procedure (often quite slow).\n",
        "Random search is easy to implement and performs decent: http://www.jmlr.org/papers/volume13/bergstra12a/bergstra12a.pdf . \n",
        "More advanced search procedures include [Spearmint](https://github.com/JasperSnoek/spearmint) and many others.\n",
        "\n",
        "**In practice a lot of trial and error is almost always involved.** This can be frustrating and time consuming, but the best thing to do is to think as a scientist, and go about it in a ordered manner --> monitor as much as you can, take notes, and be deliberate!\n",
        "\n",
        "Below are some guidelines that you can use as a starting point to some of the most important hyperparameters. \n",
        "(*regularization* is also very important, but will be covered later.)\n",
        "\n",
        "\n",
        "### Ballpark estimates of hyperparameters\n",
        "__Number of hidden units and network structure:__\n",
        "You'll have to experiment. One rarely goes below 512 units for feedforward networks (unless your are training on CPU...).\n",
        "There's some research into stochastic depth networks: https://arxiv.org/pdf/1603.09382v2.pdf, but in general this is trial and error.\n",
        "\n",
        "__Parameter initialization:__\n",
        "Parameter initialization is extremely important.\n",
        "PyTorch has a lot of different initializers, check the [PyTorch API](http://pytorch.org/docs/master/nn.html#torch-nn-init). Often used initializer are\n",
        "1. Kaming He\n",
        "2. Xavier Glorot\n",
        "3. Uniform or Normal with small scale (0.1 - 0.01)\n",
        "4. Orthogonal (this usually works very well for RNNs)\n",
        "\n",
        "Bias is nearly always initialized to zero using the [torch.nn.init.constant(tensor, val)](http://pytorch.org/docs/master/nn.html#torch.nn.init.constant)\n",
        "\n",
        "__Mini-batch size:__\n",
        "Usually people use 16-256. Bigger is not allways better. With smaller mini-batch size you get more updates and your model might converge faster. Also small batch sizes use less memory, which means you can train a model with more parameters.\n",
        "\n",
        "__Nonlinearity:__ [The most commonly used nonliearities are](http://pytorch.org/docs/master/nn.html#non-linear-activations)\n",
        "1. ReLU\n",
        "2. Leaky ReLU\n",
        "3. Elu\n",
        "3. Sigmoid squash the output [0, 1], and are used if your output is binary (not used in the hidden layers)\n",
        "4. Tanh is similar to sigmoid, but squashes in [-1, 1]. It is rarely used any more.\n",
        "4. Softmax normalizes the the output to 1, and is used as output if you have a classification problem\n",
        "\n",
        "See the plot below.\n",
        "\n",
        "__Optimizer and learning rate:__\n",
        "1. SGD + Momentum: learning rate 1.0 - 0.1 \n",
        "2. ADAM: learning rate 3*1e-4 - 1e-5\n",
        "3. RMSPROP: somewhere between SGD and ADAM\n",
        "\n",
        "SGD with momentum is method which helps accelerate gradients vectors in the right directions, thus leading to faster converging. It is one of the most popular optimization algorithms and many state-of-the-art models are trained using it."
      ]
    },
    {
      "cell_type": "code",
      "metadata": {
        "colab_type": "code",
        "id": "d33Yh-a6v5O6",
        "colab": {
          "base_uri": "https://localhost:8080/",
          "height": 356
        },
        "outputId": "d7e9c588-5a97-44f2-dee4-10d65799ae05"
      },
      "source": [
        "# Illustrate different output units\n",
        "x = np.linspace(-6, 6, 100)\n",
        "\n",
        "units = {\n",
        "    \"ReLU\": lambda x: np.maximum(0, x),\n",
        "    \"Leaky ReLU\": lambda x: np.maximum(0, x) + 0.1 * np.minimum(0, x),\n",
        "    \"Elu\": lambda x: (x > 0) * x + (1 - (x > 0)) * (np.exp(x) - 1),\n",
        "    \"Sigmoid\": lambda x: (1 + np.exp(-x))**(-1),\n",
        "    \"tanh\": lambda x: (np.exp(x) - np.exp(-x)) / (np.exp(x) + np.exp(-x))\n",
        "    }\n",
        "\n",
        "plt.figure(figsize=(5, 5))\n",
        "[plt.plot(x, unit(x), label=unit_name, lw=2) for unit_name, unit in units.items()]\n",
        "plt.legend(loc=2, fontsize=16)\n",
        "plt.title('Non-linearities', fontsize=20)\n",
        "plt.ylim([-2, 5])\n",
        "plt.xlim([-6, 6])\n",
        "# assert that all class probablities sum to one\n",
        "softmax = lambda x: np.exp(x) / np.sum(np.exp(x))\n",
        "print(\"softmax should sum to one (approxiamtely):\", np.sum(softmax(x)))"
      ],
      "execution_count": 120,
      "outputs": [
        {
          "output_type": "stream",
          "text": [
            "softmax should sum to one (approxiamtely): 1.0\n"
          ],
          "name": "stdout"
        },
        {
          "output_type": "display_data",
          "data": {
            "image/png": "[encoded data removed]",
            "text/plain": [
              "<Figure size 360x360 with 1 Axes>"
            ]
          },
          "metadata": {
            "tags": [],
            "needs_background": "light"
          }
        }
      ]
    },
    {
      "cell_type": "code",
      "metadata": {
        "colab_type": "code",
        "id": "btZpxH0ev5O7",
        "colab": {}
      },
      "source": [
        "#Hyperparameters\n",
        "num_classes = 10\n",
        "num_l1 = 512\n",
        "num_features = x_train.shape[1]"
      ],
      "execution_count": 0,
      "outputs": []
    },
    {
      "cell_type": "code",
      "metadata": {
        "colab_type": "code",
        "id": "bxSpI4BMv5O9",
        "colab": {
          "base_uri": "https://localhost:8080/",
          "height": 32
        },
        "outputId": "fdaa0f77-df67-489f-a0ec-d9f123b21c59"
      },
      "source": [
        "num_features"
      ],
      "execution_count": 122,
      "outputs": [
        {
          "output_type": "execute_result",
          "data": {
            "text/plain": [
              "784"
            ]
          },
          "metadata": {
            "tags": []
          },
          "execution_count": 122
        }
      ]
    },
    {
      "cell_type": "code",
      "metadata": {
        "colab_type": "code",
        "id": "d8LzPUsQv5O-",
        "colab": {}
      },
      "source": [
        "# define network\n",
        "class Net(nn.Module):\n",
        "    def __init__(self, num_features, num_hidden, num_output):\n",
        "        super(Net, self).__init__()  \n",
        "        \n",
        "        # input layer\n",
        "        self.W_1 = Parameter(init.xavier_normal_(torch.Tensor(num_hidden, num_features)))\n",
        "        self.b_1 = Parameter(init.constant_(torch.Tensor(num_hidden), 0))\n",
        "        \n",
        "        # hidden layer\n",
        "        self.W_2 = Parameter(init.xavier_normal_(torch.Tensor(num_output, num_hidden)))\n",
        "        self.b_2 = Parameter(init.constant_(torch.Tensor(num_output), 0))\n",
        "        \n",
        "        # define activation function in constructor\n",
        "        self.activation = torch.nn.ELU()\n",
        "\n",
        "    def forward(self, x):        \n",
        "        x = F.linear(x, self.W_1, self.b_1)\n",
        "        x = self.activation(x)\n",
        "        \n",
        "        x = F.linear(x, self.W_2, self.b_2)\n",
        "        return F.softmax(x, dim=1)"
      ],
      "execution_count": 0,
      "outputs": []
    },
    {
      "cell_type": "code",
      "metadata": {
        "colab_type": "code",
        "id": "xDvzF9TPv5PA",
        "colab": {}
      },
      "source": [
        "net = Net(num_features, num_l1, num_classes)"
      ],
      "execution_count": 0,
      "outputs": []
    },
    {
      "cell_type": "code",
      "metadata": {
        "colab_type": "code",
        "id": "GQM912xRv5PB",
        "colab": {}
      },
      "source": [
        "optimizer = optim.SGD(net.parameters(), lr=0.1)\n",
        "criterion = nn.CrossEntropyLoss()"
      ],
      "execution_count": 0,
      "outputs": []
    },
    {
      "cell_type": "code",
      "metadata": {
        "colab_type": "code",
        "id": "50V5aBKzv5PC",
        "colab": {}
      },
      "source": [
        "#Test the forward pass with dummy data\n",
        "x = np.random.normal(0, 1, (45, dim*dim)).astype('float32')\n",
        "\n",
        "x = torch.from_numpy(x)\n",
        "\n",
        "out = net(Variable(x)) "
      ],
      "execution_count": 0,
      "outputs": []
    },
    {
      "cell_type": "markdown",
      "metadata": {
        "colab_type": "text",
        "id": "00c-vn_Yv5PD"
      },
      "source": [
        "# Build the training loop\n",
        "\n",
        "We train the network by calculating the gradient w.r.t the cost function and update the parameters in direction of the negative gradient. \n",
        "\n",
        "\n",
        "When training neural network you always use mini batches. Instead of calculating the average gradient using the entire dataset you approximate the gradient using a mini-batch of typically 16 to 256 samples. The paramters are updated after each mini batch. Networks converge much faster using mini batches because the parameters are updated more often.\n",
        "\n",
        "We build a loop that iterates over the training data. Remember that the parameters are updated each time ``optimizer.step()`` is called."
      ]
    },
    {
      "cell_type": "code",
      "metadata": {
        "colab_type": "code",
        "id": "NnSrdMosv5PE",
        "colab": {}
      },
      "source": [
        "# we could have done this ourselves,\n",
        "# but we should be aware of sklearn and it's tools\n",
        "from sklearn.metrics import accuracy_score\n",
        "\n",
        "# setting hyperparameters and gettings epoch sizes\n",
        "batch_size = 100\n",
        "num_epochs = 100\n",
        "\n",
        "num_samples_train = x_train.shape[0]\n",
        "num_batches_train = num_samples_train // batch_size\n",
        "\n",
        "num_samples_valid = x_valid.shape[0]\n",
        "num_batches_valid = num_samples_valid // batch_size"
      ],
      "execution_count": 0,
      "outputs": []
    },
    {
      "cell_type": "code",
      "metadata": {
        "colab_type": "code",
        "id": "ss_wU4lyv5PH",
        "colab": {}
      },
      "source": [
        "# setting up lists for handling loss/accuracy\n",
        "train_acc, train_loss = [], []\n",
        "valid_acc, valid_loss = [], []\n",
        "test_acc, test_loss = [], []\n",
        "cur_loss = 0\n",
        "losses = []\n",
        "\n",
        "get_slice = lambda i, size: range(i * size, (i + 1) * size)"
      ],
      "execution_count": 0,
      "outputs": []
    },
    {
      "cell_type": "code",
      "metadata": {
        "colab_type": "code",
        "id": "CJmQArVSv5PI",
        "colab": {}
      },
      "source": [
        "for epoch in range(num_epochs):\n",
        "    # Forward -> Backprob -> Update weights\n",
        "    ## Train\n",
        "    cur_loss = 0\n",
        "    net.train()    \n",
        "    for i in range(num_batches_train):\n",
        "        slce = get_slice(i, batch_size)\n",
        "        x_batch = Variable(torch.from_numpy(x_train[slce]))\n",
        "        # forward passing \n",
        "        output = net(x_batch)\n",
        "        \n",
        "        # compute gradients given loss\n",
        "        target_batch = Variable(torch.from_numpy(targets_train[slce]).long())\n",
        "        \n",
        "        # loss function \n",
        "        batch_loss  = criterion(output, target_batch)        \n",
        "        optimizer.zero_grad()\n",
        "        \n",
        "        # backpropogate \n",
        "        batch_loss.backward()\n",
        "        \n",
        "        # update weight \n",
        "        optimizer.step()        \n",
        "        cur_loss += batch_loss   \n",
        "        \n",
        "    losses.append(cur_loss / batch_size)\n",
        "    \n",
        "    net.eval()    \n",
        "    ## Evaluate training\n",
        "    train_preds, train_targs = [], []\n",
        "    \n",
        "    for i in range(num_batches_train):\n",
        "        slce = get_slice(i, batch_size)\n",
        "        x_batch = Variable(torch.from_numpy(x_train[slce]))\n",
        "        \n",
        "        output = net(x_batch)\n",
        "        preds = torch.max(output, 1)[1]\n",
        "        \n",
        "        train_targs += list(targets_train[slce])\n",
        "        train_preds += list(preds.data.numpy())\n",
        "    \n",
        "    ## Evaluate validation\n",
        "    val_preds, val_targs = [], []\n",
        "    for i in range(num_batches_valid):\n",
        "        slce = get_slice(i, batch_size)\n",
        "        x_batch = Variable(torch.from_numpy(x_valid[slce]))        \n",
        "        output = net(x_batch)\n",
        "        \n",
        "        preds = torch.max(output, 1)[1]\n",
        "        val_preds += list(preds.data.numpy())\n",
        "        val_targs += list(targets_valid[slce])\n",
        "\n",
        "    train_acc_cur = accuracy_score(train_targs, train_preds)\n",
        "    valid_acc_cur = accuracy_score(val_targs, val_preds)\n",
        "    \n",
        "    train_acc.append(train_acc_cur)\n",
        "    valid_acc.append(valid_acc_cur)\n",
        "    \n",
        "    if epoch % 10 == 0:\n",
        "        print(\"Epoch %2i : Train Loss %f , Train acc %f, Valid acc %f\" % (\n",
        "                epoch+1, losses[-1], train_acc_cur, valid_acc_cur))\n",
        "\n",
        "epoch = np.arange(len(train_acc))\n",
        "plt.figure()\n",
        "plt.plot(epoch, train_acc, 'r', epoch, valid_acc, 'b')\n",
        "plt.legend(['Train Accucary','Validation Accuracy'])\n",
        "plt.xlabel('Updates'), plt.ylabel('Acc')"
      ],
      "execution_count": 0,
      "outputs": []
    },
    {
      "cell_type": "code",
      "metadata": {
        "colab_type": "code",
        "id": "j1ElblEkv5PJ",
        "colab": {}
      },
      "source": [
        "for ii in net.parameters():\n",
        "    print(ii.shape)"
      ],
      "execution_count": 0,
      "outputs": []
    },
    {
      "cell_type": "code",
      "metadata": {
        "colab_type": "code",
        "id": "gxbEJqIwv5PK",
        "colab": {}
      },
      "source": [
        "x_test = data['X_test'][:500].astype('float32')\n",
        "targets_test = data['y_test'][:500].astype('int32')\n",
        "\n",
        "xtest = torch.from_numpy(x_test)\n",
        "\n",
        "tout = net(xtest)\n",
        "\n",
        "tout.shape"
      ],
      "execution_count": 0,
      "outputs": []
    },
    {
      "cell_type": "code",
      "metadata": {
        "colab_type": "code",
        "id": "vssUwYepv5PM",
        "colab": {}
      },
      "source": [
        "y = torch.from_numpy(targets_test)\n",
        "\n",
        "preds = torch.max(tout, 1)[1]\n",
        "testacc = accuracy_score(preds, y)\n",
        "\n",
        "preds[:10]"
      ],
      "execution_count": 0,
      "outputs": []
    },
    {
      "cell_type": "code",
      "metadata": {
        "colab_type": "code",
        "id": "6C4FmQRgv5PN",
        "colab": {}
      },
      "source": [
        "y[:10]"
      ],
      "execution_count": 0,
      "outputs": []
    },
    {
      "cell_type": "markdown",
      "metadata": {
        "colab_type": "text",
        "id": "f45GE5NMv5PO"
      },
      "source": [
        "------------------\n",
        "### Part 4 - Assignments \n",
        "\n",
        "Try and add these modifications (might require some Googleing -- an important skill in deep learning):\n",
        "- Kaiming He initialization instead of Xavier Glorot\n",
        "- add an extra layer\n",
        "- use the relu activation function\n",
        "- add momentum to the optimizer\n",
        "- use the ADAM optimizer instead of stochastic gradient descent\n",
        "\n",
        "### Advanced - Regularization\n",
        "\n",
        "Regularization is VERY important in practice and is used practically every time.\n",
        "Many important results are completely dependent on cleaver use of regularization, and it is something you need to become familiar with if you want to work with deep learning.\n",
        "\n",
        "- add L1 or L2 weight regularization (aka. weight decay) \n",
        "- add dropout to the network (**note** the `net.train()` and `net.eval()` are already in the code)\n",
        "- add batchnorm\n",
        "\n",
        "__Pointers on regularization hyperparameter:__\n",
        "1. L2 and [L1 regularization](http://pytorch.org/docs/master/nn.html#torch.nn.L1Loss) (weight decay of optimization functions) \n",
        "  - Normal ranges: 1e-4  -  1e-8\n",
        "1. [Dropout](http://pytorch.org/docs/master/nn.html?highlight=dropout#torch.nn.Dropout). Dropout rate 0.1-0.5\n",
        "  - Remember to pick the correct version according to the input dimensionality\n",
        "  - **NOTE** call `net.train()` before training to activate random dropout, and call `net.eval()` to deactivate dropout while validating or running inference with model.\n",
        "1. [Batchnorm](http://pytorch.org/docs/master/nn.html#torch.nn.BatchNorm1d): Batchnorm also acts as a regularizer - Often very useful (faster and better convergence)\n",
        "  - Remember to pick the correct version according to the input dimensionality\n",
        "  - **NOTE** call `net.train()` before training to activate, and call `net.eval()` to have a non-stochastic variant while validating or running inference with model.\n",
        "    "
      ]
    },
    {
      "cell_type": "markdown",
      "metadata": {
        "id": "gzrCSkk-U92g",
        "colab_type": "text"
      },
      "source": [
        "At part 3 I haven't really used pytorch but here I do:"
      ]
    },
    {
      "cell_type": "code",
      "metadata": {
        "id": "loSEC-VdSYCE",
        "colab_type": "code",
        "colab": {}
      },
      "source": [
        "\n",
        "\n",
        "# define network\n",
        "class Net(nn.Module):\n",
        "    def __init__(self, num_features, num_hidden1, num_hidden2, num_output):\n",
        "        super(Net, self).__init__()  \n",
        "        \n",
        "        # input layer\n",
        "        self.W_1 = Parameter(init.kaiming_normal_(torch.Tensor(num_hidden1, num_features)))\n",
        "        self.b_1 = Parameter(init.constant_(torch.Tensor(num_hidden1), 0))\n",
        "        \n",
        "        # hidden layer\n",
        "        self.W_2 = Parameter(init.kaiming_normal_(torch.Tensor(bun_hidden2, num_hidden1)))\n",
        "        self.b_2 = Parameter(init.constant_(torch.Tensor(num_hidden2), 0))\n",
        "        \n",
        "        #one more layer\n",
        "        self.W_3 = Parameter(init.kaiming_normal_(torch.Tensor(num_output, num_hidden2)))\n",
        "        self.b_3 = Parameter(init.constant_(torch.Tensor(num_output), 0))\n",
        "\n",
        "        # define activation function in constructor - from ELU to ReLU\n",
        "        self.activation = torch.nn.ReLU()\n",
        "\n",
        "    def forward(self, x):        \n",
        "        z1 = F.linear(x, self.W_1, self.b_1)\n",
        "        a1 = self.activation(z1)\n",
        "        \n",
        "\n",
        "        z2 = F.linear(a1, self.W_2, self.b_2)\n",
        "        a2 = self.activation(z2)\n",
        "        return F.softmax(a2, dim=1)"
      ],
      "execution_count": 0,
      "outputs": []
    },
    {
      "cell_type": "code",
      "metadata": {
        "id": "Fk8mbAxGURVb",
        "colab_type": "code",
        "colab": {}
      },
      "source": [
        "#ADAM optimizer\n",
        "optimizer = optim.Adam(net.parameters(), lr=1e-3, weight_decay=1e-5)\n",
        "criterion = nn.CrossEntropyLoss()"
      ],
      "execution_count": 0,
      "outputs": []
    },
    {
      "cell_type": "markdown",
      "metadata": {
        "id": "Eh4Ln7RNZCFH",
        "colab_type": "text"
      },
      "source": [
        "**Important note here:** \n",
        "It turned out PyTorch is much easier in working with datasets matrices than NumPy."
      ]
    },
    {
      "cell_type": "markdown",
      "metadata": {
        "id": "PFhJgmFZUdDz",
        "colab_type": "text"
      },
      "source": [
        "-----------\n",
        "\n",
        "# PART 5 (OPTIONAL ASSIGNMENT)"
      ]
    },
    {
      "cell_type": "markdown",
      "metadata": {
        "id": "jMbDjpHBUdD0",
        "colab_type": "text"
      },
      "source": [
        "# CIFAR-10\n",
        "\n",
        "In this notebook you need to put what you have learned into practice, and create your own convolutional classifier for the CIFAR-10 dataset.\n",
        "\n",
        "The CIFAR dataset has the following classes: ‘airplane’, ‘automobile’, ‘bird’, ‘cat’, ‘deer’, ‘dog’, ‘frog’, ‘horse’, ‘ship’, ‘truck’.\n",
        "The images in CIFAR-10 are of size 3x32x32, i.e. 3-channel color images of 32x32 pixels in size.\n",
        "\n",
        "![cifar10](https://www.dropbox.com/s/n8g4k0x7dpxt42a/cifar.png?dl=1)"
      ]
    },
    {
      "cell_type": "markdown",
      "metadata": {
        "id": "lLOnAxM_UdD0",
        "colab_type": "text"
      },
      "source": [
        "### To train a classifier the following steps needs to be performed:"
      ]
    },
    {
      "cell_type": "markdown",
      "metadata": {
        "id": "Boli1ZljUdD0",
        "colab_type": "text"
      },
      "source": [
        "1. Load and normalizing the CIFAR10 training and test datasets using\n",
        "   ``torchvision``\n",
        "2. Define a Convolutional Neural Network\n",
        "3. Define a loss function\n",
        "4. Train the network on the training data\n",
        "5. Test the network on the test data\n",
        "\n",
        "Most of these steps are done fore you. \n",
        "You only need to modify the codes with `# Your code here!`.\n",
        "\n",
        "It is recommended to read the entire assignment before you begin coding!"
      ]
    },
    {
      "cell_type": "markdown",
      "metadata": {
        "id": "fvT9njC5UdD0",
        "colab_type": "text"
      },
      "source": [
        "## 1. Loading and normalizing CIFAR10\n",
        "\n",
        "Using ``torchvision``, it’s extremely easy to load CIFAR10."
      ]
    },
    {
      "cell_type": "code",
      "metadata": {
        "id": "5BCUbV2-UdD0",
        "colab_type": "code",
        "colab": {}
      },
      "source": [
        "%matplotlib inline\n",
        "import matplotlib.pyplot as plt\n",
        "import numpy as np\n",
        "\n",
        "import torch\n",
        "import torchvision\n",
        "import torchvision.transforms as transforms"
      ],
      "execution_count": 0,
      "outputs": []
    },
    {
      "cell_type": "markdown",
      "metadata": {
        "id": "GcuM2AdBUdD1",
        "colab_type": "text"
      },
      "source": [
        "The output of torchvision datasets are PILImage images of range [0, 1].\n",
        "We transform them to Tensors of normalized range [-1, 1]\n",
        "\n",
        "**NB** Modify the code below to only use a small part of the dataset if your computer is very slow."
      ]
    },
    {
      "cell_type": "code",
      "metadata": {
        "id": "3DAoUAM4UdD1",
        "colab_type": "code",
        "colab": {}
      },
      "source": [
        "transform = transforms.Compose(\n",
        "    [transforms.ToTensor(),\n",
        "     transforms.Normalize((0.5, 0.5, 0.5),\n",
        "                          (0.5, 0.5, 0.5))]\n",
        ")"
      ],
      "execution_count": 0,
      "outputs": []
    },
    {
      "cell_type": "code",
      "metadata": {
        "id": "XKrgn-w7UdD2",
        "colab_type": "code",
        "colab": {}
      },
      "source": [
        "# Load dataset\n",
        "trainset = torchvision.datasets.CIFAR10(root='./data', train=True, download=True, transform=transform)\n",
        "testset = torchvision.datasets.CIFAR10(root='./data', train=False, download=True, transform=transform)\n",
        "\n",
        "print()\n",
        "classes = ('plane', 'car', 'bird', 'cat', 'deer',\n",
        "           'dog', 'frog', 'horse', 'ship', 'truck')\n",
        "\n",
        "used_categories = range(len(classes))"
      ],
      "execution_count": 0,
      "outputs": []
    },
    {
      "cell_type": "code",
      "metadata": {
        "id": "pZ-2_2hWUdD3",
        "colab_type": "code",
        "colab": {}
      },
      "source": [
        "## USE CODE BELOW IF YOUR COMPUTER IS TOO SLOW\n",
        "reduce_dataset = True\n",
        "\n",
        "if reduce_dataset:\n",
        "    used_categories = (3, 5) # cats and dogs\n",
        "    classes = [classes[i] for i in used_categories]\n",
        "    new_train_data = []\n",
        "    new_train_labels = []\n",
        "\n",
        "    new_test_data = []\n",
        "    new_test_labels = []\n",
        "    \n",
        "    for i, t in enumerate(used_categories):\n",
        "        new_train_data.append(trainset.train_data[np.where(np.array(trainset.train_labels) == t)])\n",
        "        new_train_labels += [i for _ in range(new_train_data[-1].shape[0])]\n",
        "\n",
        "        new_test_data.append(testset.test_data[np.where(np.array(testset.test_labels) == t)])\n",
        "        new_test_labels += [i for _ in range(new_test_data[-1].shape[0])]\n",
        "\n",
        "    new_train_data = np.concatenate(new_train_data, 0)\n",
        "    trainset.train_data = new_train_data\n",
        "    trainset.train_labels = new_train_labels\n",
        "\n",
        "    new_test_data = np.concatenate(new_test_data, 0)\n",
        "    testset.test_data = new_test_data\n",
        "    testset.test_labels = new_test_labels"
      ],
      "execution_count": 0,
      "outputs": []
    },
    {
      "cell_type": "code",
      "metadata": {
        "id": "LQdvOXGCUdD4",
        "colab_type": "code",
        "colab": {}
      },
      "source": [
        "trainloader = torch.utils.data.DataLoader(trainset, batch_size=4,\n",
        "                                          shuffle=True, num_workers=2)\n",
        "\n",
        "testloader = torch.utils.data.DataLoader(testset, batch_size=4,\n",
        "                                         shuffle=True, num_workers=2)\n",
        "train_data_iter = iter(trainloader)\n",
        "test_data_iter = iter(testloader)\n",
        "print('used classes:', classes)"
      ],
      "execution_count": 0,
      "outputs": []
    },
    {
      "cell_type": "code",
      "metadata": {
        "id": "jOSc5d7tUdD4",
        "colab_type": "code",
        "colab": {}
      },
      "source": [
        "print(\"Training data\")\n",
        "print(trainset.train_data.shape)\n",
        "print(len(trainset.train_labels))\n",
        "print()\n",
        "\n",
        "print(\"Test data\")\n",
        "print(testset.test_data.shape)\n",
        "print(len(testset.test_labels))\n",
        "print()"
      ],
      "execution_count": 0,
      "outputs": []
    },
    {
      "cell_type": "markdown",
      "metadata": {
        "id": "SpVkbr7wUdD5",
        "colab_type": "text"
      },
      "source": [
        "Let us show some of the training images, for fun.\n",
        "\n"
      ]
    },
    {
      "cell_type": "code",
      "metadata": {
        "id": "HEtaifp6UdD5",
        "colab_type": "code",
        "colab": {}
      },
      "source": [
        "# Run this cell multiple time to see more samples\n",
        "def imshow(img):\n",
        "    \"\"\" show an image \"\"\"\n",
        "    img = img / 2 + 0.5 # unnormalize\n",
        "    npimg = img.numpy()\n",
        "    plt.imshow(np.transpose(npimg, (1, 2, 0)))\n",
        "\n",
        "# get some random training images\n",
        "images, labels = train_data_iter.next()\n",
        "\n",
        "# show images\n",
        "imshow(torchvision.utils.make_grid(images))\n",
        "\n",
        "# print labels\n",
        "print(' '.join('%10s' % classes[labels[j]] for j in range(4)))"
      ],
      "execution_count": 0,
      "outputs": []
    },
    {
      "cell_type": "markdown",
      "metadata": {
        "id": "Qiy3PReIUdD6",
        "colab_type": "text"
      },
      "source": [
        "## 2. Define a Convolutional Neural Network\n",
        "\n",
        "**Part5 - Assignment 1:** Define a two layer convolutional neural network. We suggest that you start with a small network, and make sure that everything is working. Once you can train successfully come back and improve the architecture"
      ]
    },
    {
      "cell_type": "code",
      "metadata": {
        "id": "IKUzZ9zxUdD6",
        "colab_type": "code",
        "colab": {}
      },
      "source": [
        "from torch.autograd import Variable\n",
        "import torch.nn as nn\n",
        "import torch.nn.functional as F\n",
        "from torch.nn import Linear, Conv2d, BatchNorm2d, MaxPool2d, Dropout2d\n",
        "from torch.nn.functional import relu, elu, relu6\n",
        "\n",
        "class Net(nn.Module):\n",
        "    \n",
        "    def __init__(self, num_classes):\n",
        "        super(Net, self).__init__()\n",
        "        self.num_classes = num_classes\n",
        "        \n",
        "        self.h1 = F.Linear()        \n",
        "        self.maxpool = MaxPool2d()\n",
        "        \n",
        "        self.h2 = F.Linear()\n",
        "        # Your code here!\n",
        "\n",
        "    def forward(self, x):\n",
        "        # Your code here!\n",
        "        \n",
        "        return x\n",
        "    "
      ],
      "execution_count": 0,
      "outputs": []
    },
    {
      "cell_type": "code",
      "metadata": {
        "id": "cJUGKeQSUdD7",
        "colab_type": "code",
        "colab": {}
      },
      "source": [
        "net = Net(len(used_categories))\n",
        "print(net)"
      ],
      "execution_count": 0,
      "outputs": []
    },
    {
      "cell_type": "markdown",
      "metadata": {
        "id": "cVojjJ2VUdD8",
        "colab_type": "text"
      },
      "source": [
        "## 3. Define a Loss function and optimizer\n",
        "\n",
        "**Part5 - Assignment 2:** Implement the criterion and optimizer. \n",
        "We suggest Classification Cross-Entropy loss and SGD with momentum.\n",
        "You might need to experiment a bit with the learning rate."
      ]
    },
    {
      "cell_type": "code",
      "metadata": {
        "id": "5kK5yWb4UdD8",
        "colab_type": "code",
        "colab": {}
      },
      "source": [
        "import torch.optim as optim\n",
        "\n",
        "criterion = None  # Your code here!\n",
        "optimizer = None  # Your code here!"
      ],
      "execution_count": 0,
      "outputs": []
    },
    {
      "cell_type": "markdown",
      "metadata": {
        "id": "xUcp5IdbUdD9",
        "colab_type": "text"
      },
      "source": [
        "## 4. Train the network\n",
        "\n",
        "**Assignment 3:** Finish the training loop below. \n",
        "Start by using a small number of epochs (e.g. 3).\n",
        "Even with a low number of epochs you should be able to see results that are better than chance.\n",
        "When everything is working increase the number of epochs to find out how good your network really is."
      ]
    },
    {
      "cell_type": "code",
      "metadata": {
        "id": "KoHPefEBUdD9",
        "colab_type": "code",
        "colab": {}
      },
      "source": [
        "num_epoch = 3  # Your code here!\n",
        "\n",
        "for epoch in range(num_epoch):  # loop over the dataset multiple times\n",
        "\n",
        "    running_loss = 0.0\n",
        "    for i, data in enumerate(trainloader, 0):\n",
        "        # get the inputs\n",
        "        inputs, labels = data\n",
        "\n",
        "        # wrap them in Variable\n",
        "        inputs, labels = Variable(inputs), Variable(labels)\n",
        "\n",
        "        # zero the parameter gradients\n",
        "        # Your code here!\n",
        "\n",
        "        # forward + backward + optimize\n",
        "        # Your code here!\n",
        "\n",
        "        # print statistics\n",
        "        running_loss += loss.data[0]\n",
        "        if i % 1000 == 999:    # print every 1000 mini-batches\n",
        "            print('[%d, %5d] loss: %.3f' %\n",
        "                  (epoch + 1, i + 1, running_loss / 1000))\n",
        "            running_loss = 0.0\n",
        "\n",
        "print('Finished Training')"
      ],
      "execution_count": 0,
      "outputs": []
    },
    {
      "cell_type": "markdown",
      "metadata": {
        "id": "a7EukRIEUdD-",
        "colab_type": "text"
      },
      "source": [
        "## 5. Test the network on the test data\n",
        "\n",
        "Now we need to check if the network has learnt anything at all.\n",
        "We will check this by predicting the class label that the neural network outputs, and checking it against the ground truth.\n",
        "If the prediction is correct, we add the sample to the list of correct predictions.\n",
        "\n",
        "Okay, first step. Let us display an image from the test set to get familiar."
      ]
    },
    {
      "cell_type": "code",
      "metadata": {
        "id": "Y2nvGCr3UdD-",
        "colab_type": "code",
        "colab": {}
      },
      "source": [
        "images, labels = test_data_iter.next()\n",
        "\n",
        "# print images\n",
        "imshow(torchvision.utils.make_grid(images))\n",
        "plt.show()"
      ],
      "execution_count": 0,
      "outputs": []
    },
    {
      "cell_type": "code",
      "metadata": {
        "id": "eRzpY818UdD_",
        "colab_type": "code",
        "colab": {}
      },
      "source": [
        "print('GroundTruth:  ', ' '.join('%5s' % classes[labels[j]] for j in range(4)))\n",
        "\n",
        "_, predicted = torch.max(outputs.data, 1)\n",
        "print('Predicted:    ', ' '.join('%5s' % classes[predicted[j]] for j in range(4)))"
      ],
      "execution_count": 0,
      "outputs": []
    },
    {
      "cell_type": "markdown",
      "metadata": {
        "id": "_F5ZLMQRUdEA",
        "colab_type": "text"
      },
      "source": [
        "Let us look at how the network performs on the whole dataset."
      ]
    },
    {
      "cell_type": "code",
      "metadata": {
        "id": "rguaVIZPUdEC",
        "colab_type": "code",
        "colab": {}
      },
      "source": [
        "correct = 0\n",
        "total = 0\n",
        "\n",
        "for data in testloader:\n",
        "    images, labels = data\n",
        "    outputs = net(Variable(images))\n",
        "    _, predicted = torch.max(outputs.data, 1)\n",
        "    total += labels.size(0)\n",
        "    correct += (predicted == labels).sum()\n",
        "\n",
        "print('Accuracy of the network on the {} test images: {:4.2f} %'.format(\n",
        "    testset.test_data.shape[0], 100 * correct / total))"
      ],
      "execution_count": 0,
      "outputs": []
    },
    {
      "cell_type": "markdown",
      "metadata": {
        "id": "jHgdiEDXUdEF",
        "colab_type": "text"
      },
      "source": [
        "Hopefully the network is better than chance, which is $\\frac{1}{\\text{number of classes}}$ accuracy (randomly picking\n",
        "a class).\n",
        "\n",
        "\n",
        "We can also examine which class the network found the most difficult (makes more sense if you have many clases):"
      ]
    },
    {
      "cell_type": "code",
      "metadata": {
        "id": "TDZM0PMjUdEF",
        "colab_type": "code",
        "colab": {}
      },
      "source": [
        "class_total = list(0. for i in range(len(classes)))\n",
        "class_correct = list(0. for i in range(len(classes)))\n",
        "\n",
        "for data in testloader:\n",
        "    images, labels = data\n",
        "    outputs = net(Variable(images))\n",
        "    _, predicted = torch.max(outputs.data, 1)\n",
        "    c = (predicted == labels).squeeze()\n",
        "    \n",
        "    for i in range(len(c)):\n",
        "        label = labels[i]\n",
        "        class_correct[label] += c[i].numpy()\n",
        "        class_total[label] += 1\n",
        "\n",
        "for i in range(len(classes)):\n",
        "    print('Accuracy of {:5s} : {:5.2f} %'.format(\n",
        "        classes[i], 100 * class_correct[i] / class_total[i]))"
      ],
      "execution_count": 0,
      "outputs": []
    },
    {
      "cell_type": "markdown",
      "metadata": {
        "id": "j8XkttFoUdEI",
        "colab_type": "text"
      },
      "source": [
        "**Assignment 4:** \n",
        "1. Go back and improve performance of the network. \n",
        " * If you are using all 10 classes you should get a test accuracy above 55%, but see how much further you can get it!\n",
        " * If you are using only 2 classes (e.g. cat and dog) you should get a test accuracy above 60%, but see how much further you can get it!\n",
        "\n",
        "2. Briefly describe what you did and any experiments you did along the way as well as what results you obtained.\n",
        "Did anything surprise you during the exercise?\n",
        "\n",
        "3. Write down key lessons/insights you got (if any) during this exercise.\n",
        "\n",
        "**Answer:**"
      ]
    },
    {
      "cell_type": "markdown",
      "metadata": {
        "id": "XJxjfrmzUdEI",
        "colab_type": "text"
      },
      "source": [
        "# Training on GPU\n",
        "\n",
        "**Part5 - Assignment:**\n",
        "Try and rewrite the code above to run on the GPU (use Google Colab or your PCs should have a GPU).\n",
        "___\n",
        "\n",
        "Just like how you transfer a Tensor on to the GPU, you transfer the neural net onto the GPU.\n",
        "This will recursively go over all modules and convert their parameters and buffers to CUDA tensors:\n",
        "\n",
        "```\n",
        "    net.cuda()\n",
        "```\n",
        "\n",
        "Remember that you will have to send the inputs and targets at every step to the GPU too:\n",
        "\n",
        "```\n",
        "    inputs, labels = Variable(inputs.cuda()), Variable(labels.cuda())\n",
        "```\n",
        "\n",
        "Why dont I notice MASSIVE speedup compared to CPU? \n",
        "Because your network is realllly small.\n",
        "\n",
        "**Exercise:** Try increasing the width of your network (argument 2 of\n",
        "the first ``nn.Conv2d``, and argument 1 of the second ``nn.Conv2d`` –\n",
        "they need to be the same number), see what kind of speedup you get.\n",
        "\n",
        "**Goals achieved**:\n",
        "\n",
        "- Understanding PyTorch's Tensor library and neural networks at a high level.\n",
        "- Train a small neural network to classify images\n",
        "\n",
        "\n"
      ]
    }
  ]
}