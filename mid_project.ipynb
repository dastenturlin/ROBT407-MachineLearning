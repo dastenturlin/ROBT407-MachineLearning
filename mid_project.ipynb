{
 "cells": [
  {
   "cell_type": "code",
   "execution_count": 26,
   "metadata": {},
   "outputs": [],
   "source": [
    "import matplotlib.pyplot as plt\n",
    "import numpy as np\n",
    "import random\n",
    "import seaborn as sns\n",
    "\n",
    "from random import randint\n",
    "from numpy.linalg import inv"
   ]
  },
  {
   "cell_type": "markdown",
   "metadata": {},
   "source": [
    "# MIDTERM PROJECT ROBT 407"
   ]
  },
  {
   "cell_type": "markdown",
   "metadata": {},
   "source": [
    "### Done by Nurdaulet Mukhituly and Dasten Turlin\n",
    "Nurdaulet did 1 and 3, Dasten did 2 and 4, Kaggle problem was solved in collaboration"
   ]
  },
  {
   "cell_type": "markdown",
   "metadata": {},
   "source": [
    "## 1. Linear Regression\n",
    "link to the video presentation: https://youtu.be/eLWPICTTMKE"
   ]
  },
  {
   "cell_type": "markdown",
   "metadata": {},
   "source": [
    "Method of Linear Regression is based on minimization of square root error: \n",
    "$\\underset{w}{min}\\sum\\limits_{n=1}^N[y_{n}-(w^{T}x_{n})]^2$\n",
    "\n",
    "We implemented PLA and linear regression algorithm, as well as their cost functions."
   ]
  },
  {
   "cell_type": "code",
   "execution_count": 17,
   "metadata": {},
   "outputs": [],
   "source": [
    "# pocket learning algorithm\n",
    "\n",
    "#predicting\n",
    "def pla(w, x1, x2):\n",
    "    y = w[0] + w[1] * x1 + w[2] * x2\n",
    "    if y < 0:\n",
    "        return -1\n",
    "    else:\n",
    "        return 1\n",
    "    \n",
    "def sign(num):\n",
    "    if num >= 0:\n",
    "        return 1\n",
    "    else:\n",
    "        return -1\n",
    "\n",
    "#pocket-pla function itself\n",
    "def fit_pocketpla_function(X, Y):\n",
    "    w = [0, 0, 0] \n",
    "    w_pocket = [0, 0, 0]\n",
    "    pocket_errors = len(X) # some large number\n",
    "    iterations = 0\n",
    "    while iterations < len(X)/10:\n",
    "        errors = 0\n",
    "        count = 0\n",
    "        while count != len(X):\n",
    "            predict = pla(w, X[count][1], X[count][2])\n",
    "            if sign(Y[count]) != predict:\n",
    "                errors += 1\n",
    "                w[0]+= sign(Y[count])\n",
    "                w[1] += sign(Y[count]) * X[count][1]\n",
    "                w[2] += sign(Y[count]) * X[count][2]\n",
    "            count += 1\n",
    "        if pocket_errors > errors:\n",
    "            w_pocket[0] = w[0]\n",
    "            w_pocket[1] = w[1]\n",
    "            w_pocket[2] = w[2]\n",
    "            pocket_errors = errors\n",
    "        iterations += 1\n",
    "    return w_pocket"
   ]
  },
  {
   "cell_type": "code",
   "execution_count": 18,
   "metadata": {},
   "outputs": [],
   "source": [
    "#linear regression\n",
    "def linear_regression(X, Y):\n",
    "    x_crest = np.dot(inv(np.dot(X.T, X)), X.T)\n",
    "    coefficient = np.dot(x_crest, Y)\n",
    "    return coefficient"
   ]
  },
  {
   "cell_type": "markdown",
   "metadata": {},
   "source": [
    "## Generating DataSet"
   ]
  },
  {
   "cell_type": "code",
   "execution_count": 19,
   "metadata": {},
   "outputs": [],
   "source": [
    "def generate(size, dim):\n",
    "    X = np.random.rand(size, dim)\n",
    "    W = np.array([0.3, 0.9, -1.9]) # real weights\n",
    "    X[:, 0] = np.ones(size)\n",
    "    Y = np.dot(X, W) # adding linearity\n",
    "    Y = Y.reshape(X.shape[0], 1)\n",
    "    return X, Y\n",
    "\n",
    "# adding noise as required by the exercise\n",
    "def add_noise(noise, data):\n",
    "    new_data = data\n",
    "    if noise <= 1:\n",
    "        temp = 0\n",
    "        max_value = noise * len(new_data)\n",
    "        while temp < max_value:\n",
    "            randval = np.random.randint(0, len(new_data))\n",
    "            randval %= len(data) # to make sure :)\n",
    "            new_data[randval] *= -1\n",
    "            temp += 1\n",
    "    else:\n",
    "        print(\"invalid noise value. should be < 1\")\n",
    "    return new_data"
   ]
  },
  {
   "cell_type": "code",
   "execution_count": 20,
   "metadata": {},
   "outputs": [],
   "source": [
    "# plotting points\n",
    "def plot_graph(X_any, Y_any):\n",
    "    i = 0\n",
    "    while i != len(X_any):\n",
    "        if (Y_any[i] > 0):\n",
    "            plt.scatter(X_any[i, 1], X_any[i,2], color = 'b')\n",
    "        else:\n",
    "            plt.scatter(X_any[i, 1], X_any[i,2], color = 'r')\n",
    "        i += 1"
   ]
  },
  {
   "cell_type": "code",
   "execution_count": 21,
   "metadata": {},
   "outputs": [],
   "source": [
    "# plotting function (either pla or linear regression)\n",
    "def plot_function(X, W):  \n",
    "        plt.plot(X[:, 1],-(W[0] + X[:,1]*W[1])/W[2], color = \"black\", label = \"your function\")"
   ]
  },
  {
   "cell_type": "code",
   "execution_count": 22,
   "metadata": {},
   "outputs": [],
   "source": [
    "X_new, Y_new = generate(1000, 3)\n",
    "Y_new = add_noise(0.1, Y_new)"
   ]
  },
  {
   "cell_type": "code",
   "execution_count": 23,
   "metadata": {},
   "outputs": [],
   "source": [
    "W_pocket = fit_pocketpla_function(X_new[0:300], Y_new[0:300]) #splitting train and test data"
   ]
  },
  {
   "cell_type": "code",
   "execution_count": 27,
   "metadata": {},
   "outputs": [
    {
     "data": {
      "image/png": "[encoded data removed]",
      "text/plain": [
       "<Figure size 432x288 with 1 Axes>"
      ]
     },
     "metadata": {
      "needs_background": "light"
     },
     "output_type": "display_data"
    }
   ],
   "source": [
    "plot_graph(X_new, Y_new)\n",
    "plot_function(X_new, W_pocket)"
   ]
  },
  {
   "cell_type": "code",
   "execution_count": 28,
   "metadata": {},
   "outputs": [],
   "source": [
    "W_linear = linear_regression(X_new[0:300], Y_new[0:300])"
   ]
  },
  {
   "cell_type": "code",
   "execution_count": 29,
   "metadata": {},
   "outputs": [
    {
     "data": {
      "image/png": "[encoded data removed]",
      "text/plain": [
       "<Figure size 432x288 with 1 Axes>"
      ]
     },
     "metadata": {
      "needs_background": "light"
     },
     "output_type": "display_data"
    }
   ],
   "source": [
    "plot_graph(X_new, Y_new)\n",
    "plot_function(X_new, W_linear)"
   ]
  },
  {
   "cell_type": "code",
   "execution_count": 30,
   "metadata": {},
   "outputs": [],
   "source": [
    "#calculating error of each function\n",
    "def e_test(X, Y, W):\n",
    "    errors = 0\n",
    "    count = 0\n",
    "    while count != len(X):\n",
    "        predict = pla(W, X[count][1], X[count][2])\n",
    "        if sign(Y[count]) != predict:\n",
    "            errors += 1\n",
    "        count += 1\n",
    "    return errors/len(X) "
   ]
  },
  {
   "cell_type": "code",
   "execution_count": 31,
   "metadata": {},
   "outputs": [
    {
     "name": "stdout",
     "output_type": "stream",
     "text": [
      "0.148\n",
      "0.106\n"
     ]
    }
   ],
   "source": [
    "e_pocket = e_test(X_new, Y_new, W_pocket)\n",
    "e_linear = e_test(X_new, Y_new, W_linear)\n",
    "print(e_pocket)\n",
    "print(e_linear)"
   ]
  },
  {
   "cell_type": "code",
   "execution_count": 32,
   "metadata": {},
   "outputs": [],
   "source": [
    "# I found how to do versus graphs in MIT's collab\n",
    "def test():\n",
    "    e_pocket_history = []\n",
    "    e_linear_history = []\n",
    "    count = 0\n",
    "    while count != 100:\n",
    "        X_new, Y_new = generate(1000, 3)\n",
    "        Y_new = add_noise(0.1, Y_new)\n",
    "        W_pocket = fit_pocketpla_function(X_new[0:300], Y_new[0:300])\n",
    "        W_linear = linear_regression(X_new[0:300], Y_new[0:300])\n",
    "        e_pocket = e_test(X_new, Y_new, W_pocket)\n",
    "        e_linear = e_test(X_new, Y_new, W_linear)\n",
    "        e_pocket_history.append(e_pocket)\n",
    "        e_linear_history.append(e_linear)\n",
    "        count += 1\n",
    "    plt.plot(e_pocket_history)\n",
    "    plt.plot(e_linear_history)\n",
    "    plt.legend(('e_pocket', 'e_linear'))\n",
    "    plt.xlabel('Iterations')\n",
    "    plt.ylabel('E_test value')"
   ]
  },
  {
   "cell_type": "code",
   "execution_count": 34,
   "metadata": {},
   "outputs": [
    {
     "data": {
      "image/png": "[encoded data removed]",
      "text/plain": [
       "<Figure size 432x288 with 1 Axes>"
      ]
     },
     "metadata": {
      "needs_background": "light"
     },
     "output_type": "display_data"
    }
   ],
   "source": [
    "test()"
   ]
  },
  {
   "cell_type": "markdown",
   "metadata": {},
   "source": [
    "## Conclusion for Task 1"
   ]
  },
  {
   "cell_type": "markdown",
   "metadata": {},
   "source": [
    "Our experiment clearly shows that the pocket algorithm is less useful than linear due to the following reasons:\n",
    "1. It makes a lot of iterations\n",
    "2. In the graph it shows that it performed worse in EVERY experiment\n",
    "3. Pocket algorithm can be very unstable.\n",
    "\n",
    "Theoretically, we could do a laaaaarge-number of iterations, but we are limited by our CPU and GPU.\n",
    "\n",
    "According to the reasons above, linear regression is better in the given situation."
   ]
  },
  {
   "cell_type": "code",
   "execution_count": null,
   "metadata": {},
   "outputs": [],
   "source": []
  },
  {
   "cell_type": "markdown",
   "metadata": {},
   "source": [
    "## 2. Logistic Regression and Stochastic Gradient Descent"
   ]
  },
  {
   "cell_type": "code",
   "execution_count": 35,
   "metadata": {},
   "outputs": [
    {
     "data": {
      "text/html": [
       "<div>\n",
       "<style scoped>\n",
       "    .dataframe tbody tr th:only-of-type {\n",
       "        vertical-align: middle;\n",
       "    }\n",
       "\n",
       "    .dataframe tbody tr th {\n",
       "        vertical-align: top;\n",
       "    }\n",
       "\n",
       "    .dataframe thead th {\n",
       "        text-align: right;\n",
       "    }\n",
       "</style>\n",
       "<table border=\"1\" class=\"dataframe\">\n",
       "  <thead>\n",
       "    <tr style=\"text-align: right;\">\n",
       "      <th></th>\n",
       "      <th>sepal_length</th>\n",
       "      <th>sepal_width</th>\n",
       "      <th>petal_length</th>\n",
       "      <th>petal_width</th>\n",
       "      <th>species</th>\n",
       "    </tr>\n",
       "  </thead>\n",
       "  <tbody>\n",
       "    <tr>\n",
       "      <td>0</td>\n",
       "      <td>5.1</td>\n",
       "      <td>3.5</td>\n",
       "      <td>1.4</td>\n",
       "      <td>0.2</td>\n",
       "      <td>setosa</td>\n",
       "    </tr>\n",
       "    <tr>\n",
       "      <td>1</td>\n",
       "      <td>4.9</td>\n",
       "      <td>3.0</td>\n",
       "      <td>1.4</td>\n",
       "      <td>0.2</td>\n",
       "      <td>setosa</td>\n",
       "    </tr>\n",
       "    <tr>\n",
       "      <td>2</td>\n",
       "      <td>4.7</td>\n",
       "      <td>3.2</td>\n",
       "      <td>1.3</td>\n",
       "      <td>0.2</td>\n",
       "      <td>setosa</td>\n",
       "    </tr>\n",
       "    <tr>\n",
       "      <td>3</td>\n",
       "      <td>4.6</td>\n",
       "      <td>3.1</td>\n",
       "      <td>1.5</td>\n",
       "      <td>0.2</td>\n",
       "      <td>setosa</td>\n",
       "    </tr>\n",
       "    <tr>\n",
       "      <td>4</td>\n",
       "      <td>5.0</td>\n",
       "      <td>3.6</td>\n",
       "      <td>1.4</td>\n",
       "      <td>0.2</td>\n",
       "      <td>setosa</td>\n",
       "    </tr>\n",
       "    <tr>\n",
       "      <td>...</td>\n",
       "      <td>...</td>\n",
       "      <td>...</td>\n",
       "      <td>...</td>\n",
       "      <td>...</td>\n",
       "      <td>...</td>\n",
       "    </tr>\n",
       "    <tr>\n",
       "      <td>145</td>\n",
       "      <td>6.7</td>\n",
       "      <td>3.0</td>\n",
       "      <td>5.2</td>\n",
       "      <td>2.3</td>\n",
       "      <td>virginica</td>\n",
       "    </tr>\n",
       "    <tr>\n",
       "      <td>146</td>\n",
       "      <td>6.3</td>\n",
       "      <td>2.5</td>\n",
       "      <td>5.0</td>\n",
       "      <td>1.9</td>\n",
       "      <td>virginica</td>\n",
       "    </tr>\n",
       "    <tr>\n",
       "      <td>147</td>\n",
       "      <td>6.5</td>\n",
       "      <td>3.0</td>\n",
       "      <td>5.2</td>\n",
       "      <td>2.0</td>\n",
       "      <td>virginica</td>\n",
       "    </tr>\n",
       "    <tr>\n",
       "      <td>148</td>\n",
       "      <td>6.2</td>\n",
       "      <td>3.4</td>\n",
       "      <td>5.4</td>\n",
       "      <td>2.3</td>\n",
       "      <td>virginica</td>\n",
       "    </tr>\n",
       "    <tr>\n",
       "      <td>149</td>\n",
       "      <td>5.9</td>\n",
       "      <td>3.0</td>\n",
       "      <td>5.1</td>\n",
       "      <td>1.8</td>\n",
       "      <td>virginica</td>\n",
       "    </tr>\n",
       "  </tbody>\n",
       "</table>\n",
       "<p>150 rows × 5 columns</p>\n",
       "</div>"
      ],
      "text/plain": [
       "     sepal_length  sepal_width  petal_length  petal_width    species\n",
       "0             5.1          3.5           1.4          0.2     setosa\n",
       "1             4.9          3.0           1.4          0.2     setosa\n",
       "2             4.7          3.2           1.3          0.2     setosa\n",
       "3             4.6          3.1           1.5          0.2     setosa\n",
       "4             5.0          3.6           1.4          0.2     setosa\n",
       "..            ...          ...           ...          ...        ...\n",
       "145           6.7          3.0           5.2          2.3  virginica\n",
       "146           6.3          2.5           5.0          1.9  virginica\n",
       "147           6.5          3.0           5.2          2.0  virginica\n",
       "148           6.2          3.4           5.4          2.3  virginica\n",
       "149           5.9          3.0           5.1          1.8  virginica\n",
       "\n",
       "[150 rows x 5 columns]"
      ]
     },
     "execution_count": 35,
     "metadata": {},
     "output_type": "execute_result"
    }
   ],
   "source": [
    "import matplotlib.pyplot as plt\n",
    "import numpy as np\n",
    "import random\n",
    "import seaborn as sns\n",
    "\n",
    "iris = sns.load_dataset('iris')\n",
    "iris"
   ]
  },
  {
   "cell_type": "markdown",
   "metadata": {},
   "source": [
    "## Some data preprocessing - from DataFrame to NumPy array with a column of ones in the beginnging"
   ]
  },
  {
   "cell_type": "code",
   "execution_count": 36,
   "metadata": {},
   "outputs": [
    {
     "data": {
      "text/plain": [
       "array([[0, 0, 1],\n",
       "       [0, 1, 0],\n",
       "       [0, 0, 1],\n",
       "       [0, 0, 1],\n",
       "       [0, 1, 0],\n",
       "       [0, 0, 1],\n",
       "       [1, 0, 0],\n",
       "       [1, 0, 0],\n",
       "       [1, 0, 0],\n",
       "       [0, 1, 0],\n",
       "       [1, 0, 0],\n",
       "       [0, 0, 1],\n",
       "       [1, 0, 0],\n",
       "       [0, 0, 1],\n",
       "       [0, 0, 1],\n",
       "       [0, 1, 0],\n",
       "       [0, 0, 1],\n",
       "       [1, 0, 0],\n",
       "       [0, 0, 1],\n",
       "       [0, 0, 1],\n",
       "       [1, 0, 0],\n",
       "       [0, 1, 0],\n",
       "       [0, 0, 1],\n",
       "       [0, 1, 0],\n",
       "       [0, 1, 0],\n",
       "       [1, 0, 0],\n",
       "       [0, 0, 1],\n",
       "       [0, 0, 1],\n",
       "       [0, 0, 1],\n",
       "       [0, 0, 1]])"
      ]
     },
     "execution_count": 36,
     "metadata": {},
     "output_type": "execute_result"
    }
   ],
   "source": [
    "\n",
    "\n",
    "features = iris.columns[0:4]\n",
    "X = iris[features].to_numpy()\n",
    "\n",
    "\n",
    "from sklearn.preprocessing import LabelBinarizer\n",
    "species = LabelBinarizer()\n",
    "Y = species.fit_transform(iris.species.values)\n",
    "\n",
    "\n",
    "from sklearn.model_selection import train_test_split\n",
    "X_tr, X_te, y_train, y_test = train_test_split(X, Y, test_size=0.2, random_state=None)\n",
    "\n",
    "y_test"
   ]
  },
  {
   "cell_type": "code",
   "execution_count": 91,
   "metadata": {},
   "outputs": [
    {
     "data": {
      "text/plain": [
       "array([[-1, -1,  1],\n",
       "       [-1,  1, -1],\n",
       "       [-1, -1,  1],\n",
       "       [-1, -1,  1],\n",
       "       [-1,  1, -1],\n",
       "       [-1, -1,  1],\n",
       "       [ 1, -1, -1],\n",
       "       [ 1, -1, -1],\n",
       "       [ 1, -1, -1],\n",
       "       [-1,  1, -1],\n",
       "       [ 1, -1, -1],\n",
       "       [-1, -1,  1],\n",
       "       [ 1, -1, -1],\n",
       "       [-1, -1,  1],\n",
       "       [-1, -1,  1],\n",
       "       [-1,  1, -1],\n",
       "       [-1, -1,  1],\n",
       "       [ 1, -1, -1],\n",
       "       [-1, -1,  1],\n",
       "       [-1, -1,  1],\n",
       "       [ 1, -1, -1],\n",
       "       [-1,  1, -1],\n",
       "       [-1, -1,  1],\n",
       "       [-1,  1, -1],\n",
       "       [-1,  1, -1],\n",
       "       [ 1, -1, -1],\n",
       "       [-1, -1,  1],\n",
       "       [-1, -1,  1],\n",
       "       [-1, -1,  1],\n",
       "       [-1, -1,  1]])"
      ]
     },
     "execution_count": 91,
     "metadata": {},
     "output_type": "execute_result"
    }
   ],
   "source": [
    "# Now, we are going to append column of ones to X_train and X_test, \n",
    "# as well as change all zeros in y_train and y_test to -1 to achieve negative weight updates\n",
    "b = np.ones((X_te.shape[0], 1))\n",
    "X_test = np.append(b, X_te, axis=1 )\n",
    "\n",
    "b = np.ones((X_tr.shape[0], 1))\n",
    "X_train = np.append(b, X_tr, axis=1 )\n",
    "\n",
    "for i in range(y_train.shape[0]):\n",
    "    for j in range (3):\n",
    "        if(y_train[i][j] == 0):\n",
    "            y_train[i][j] = -1\n",
    "\n",
    "for i in range(y_test.shape[0]):\n",
    "    for j in range (3):\n",
    "        if(y_test[i][j] == 0):\n",
    "            y_test[i][j] = -1\n",
    "y_test"
   ]
  },
  {
   "cell_type": "markdown",
   "metadata": {},
   "source": [
    "## Now, the SGD itself:"
   ]
  },
  {
   "cell_type": "code",
   "execution_count": 103,
   "metadata": {},
   "outputs": [],
   "source": [
    "def stochastic_gradient_descent (X_train, X_test, y_train, y_test, iterations, learning_rate, type):\n",
    "    E_in = []\n",
    "    E_out = []\n",
    "    E_in_average = []\n",
    "    E_out_average = []\n",
    "    instances, features = X_train.shape\n",
    "    weights = np.zeros(features)\n",
    "    \n",
    "    \n",
    "    \n",
    "    for i in range(iterations):\n",
    "        \n",
    "        ind = np.random.randint(instances)\n",
    "        gradient = (-y_train[ind][type-1] * X_train[ind])/(1+np.exp(y_train[ind][type-1]*2*np.dot(weights.T, X_train[ind])))\n",
    "        weights[:] = weights - gradient * learning_rate\n",
    "     \n",
    "        #here, we calculate average E_in for all instances in X_train\n",
    "        E = []\n",
    "        for j in range (len(X_train)):\n",
    "            err = np.log(1+np.exp(-y_train[j][type-1]*np.dot(weights.T, X_train[j])))\n",
    "            E.append(err)\n",
    "        E_in_average.append(np.average(E))\n",
    "        \n",
    "        #here, we calculate average E_out for all instances in X_test\n",
    "        E_out_total = 0\n",
    "        for j in range(len(X_test)):\n",
    "            cross_entropy_error_out = np.log(1+np.exp(-y_test[j][type-1]*2*np.dot(weights.T, X_test[j])))\n",
    "            E_out_total += cross_entropy_error_out\n",
    "        E_out_average.append(E_out_total / X_test.shape[0])\n",
    "        \n",
    "        #E_out_average.append(np.average(E_out))\n",
    "        \n",
    "    return weights, E_in_average, E_out_average"
   ]
  },
  {
   "cell_type": "markdown",
   "metadata": {},
   "source": [
    "## Now, we implement One-versus-all approach:"
   ]
  },
  {
   "cell_type": "code",
   "execution_count": 99,
   "metadata": {},
   "outputs": [
    {
     "data": {
      "text/plain": [
       "<matplotlib.legend.Legend at 0x1a26a52dd0>"
      ]
     },
     "execution_count": 99,
     "metadata": {},
     "output_type": "execute_result"
    },
    {
     "data": {
      "image/png": "[encoded data removed]",
      "text/plain": [
       "<Figure size 576x576 with 1 Axes>"
      ]
     },
     "metadata": {
      "needs_background": "light"
     },
     "output_type": "display_data"
    }
   ],
   "source": [
    "#1st type vs All\n",
    "weights, E_in_average, E_out_average = stochastic_gradient_descent(X_train, X_test, y_train, y_test, 2500, 0.001, 1)\n",
    "fig = plt.figure(figsize=(8,8))\n",
    "plt.plot(range(2500), E_in_average, 'b', label='E_in')\n",
    "plt.plot(range(2500), E_out_average, 'r', label='E_out')\n",
    "plt.legend()"
   ]
  },
  {
   "cell_type": "markdown",
   "metadata": {},
   "source": [
    "E_out converges well"
   ]
  },
  {
   "cell_type": "code",
   "execution_count": 100,
   "metadata": {},
   "outputs": [
    {
     "data": {
      "text/plain": [
       "<matplotlib.legend.Legend at 0x1a26eda790>"
      ]
     },
     "execution_count": 100,
     "metadata": {},
     "output_type": "execute_result"
    },
    {
     "data": {
      "image/png": "[encoded data removed]",
      "text/plain": [
       "<Figure size 576x576 with 1 Axes>"
      ]
     },
     "metadata": {
      "needs_background": "light"
     },
     "output_type": "display_data"
    },
    {
     "data": {
      "image/png": "[encoded data removed]",
      "text/plain": [
       "<Figure size 576x576 with 1 Axes>"
      ]
     },
     "metadata": {
      "needs_background": "light"
     },
     "output_type": "display_data"
    }
   ],
   "source": [
    "#2nd type vs All\n",
    "weights, E_in_average, E_out_average = stochastic_gradient_descent(X_train, X_test, y_train, y_test, 2500, 0.001, 2)\n",
    "\n",
    "fig = plt.figure(figsize=(8,8))\n",
    "plt.plot(range(2500), E_in_average, 'b', label='train')\n",
    "plt.plot(range(2500), E_out_average, 'r', label='test')\n",
    "plt.legend()\n",
    "\n",
    "\n",
    "#3rd type vs All\n",
    "weights, E_in_average, E_out_average = stochastic_gradient_descent(X_train, X_test, y_train, y_test, 2500, 0.001, 3)\n",
    "\n",
    "fig = plt.figure(figsize=(8,8))\n",
    "plt.plot(range(2500), E_in_average, 'b', label='train')\n",
    "plt.plot(range(2500), E_out_average, 'r', label='test')\n",
    "plt.legend()"
   ]
  },
  {
   "cell_type": "markdown",
   "metadata": {},
   "source": [
    "## Now, we are to calculate actual accuracy of our model, i.e. E(g = w.T*X_test)"
   ]
  },
  {
   "cell_type": "code",
   "execution_count": 104,
   "metadata": {},
   "outputs": [
    {
     "name": "stdout",
     "output_type": "stream",
     "text": [
      "-3.139197139208979 0.29448681185088116 0.6636809991711239 Model prediction: \n",
      " 3 Actual value: 3\n",
      "-0.9415820850377212 -0.12384216021868688 -0.46058507122610415 Model prediction: \n",
      " 2 Actual value: 2\n",
      "-2.3311808625505943 0.2634899684040428 0.36848167883223515 Model prediction: \n",
      " 3 Actual value: 3\n",
      "-2.5062907028469317 0.12355658100272333 0.47990384938859165 Model prediction: \n",
      " 3 Actual value: 3\n",
      "-1.3661832599979415 -0.16433246276381566 -0.31651754847440494 Model prediction: \n",
      " 2 Actual value: 2\n",
      "-2.4395636502981004 -0.001435531399251247 0.37700776276087034 Model prediction: \n",
      " 3 Actual value: 3\n",
      "1.1690781073529366 -0.7533132412976862 -2.199138100512964 Model prediction: \n",
      " 1 Actual value: 1\n",
      "1.1468730170349248 -0.7916235765277972 -2.037622149474911 Model prediction: \n",
      " 1 Actual value: 1\n",
      "0.9485475491543451 -0.6770947393300585 -1.9327734159318606 Model prediction: \n",
      " 1 Actual value: 1\n",
      "-1.6528537082862922 -0.12359215181306227 0.029762015024956234 Model prediction: \n",
      " 3 Actual value: 2\n",
      "0.6836690795406509 -0.43121144344320306 -1.6846641333868386 Model prediction: \n",
      " 1 Actual value: 1\n",
      "-2.901133864101416 0.2814457652201477 0.516892825449073 Model prediction: \n",
      " 3 Actual value: 3\n",
      "1.0481248682987458 -0.6362181501689138 -2.052401021791642 Model prediction: \n",
      " 1 Actual value: 1\n",
      "-2.5471651828966237 0.11919999414761402 0.28225840382748757 Model prediction: \n",
      " 3 Actual value: 3\n",
      "-2.283794301417409 0.14648889084322747 0.3187175723710798 Model prediction: \n",
      " 3 Actual value: 3\n",
      "-1.7084122884340507 0.01913213176524778 -0.15832147605172597 Model prediction: \n",
      " 2 Actual value: 2\n",
      "-2.277250287166138 -0.00019082770378500702 0.2776994212492869 Model prediction: \n",
      " 3 Actual value: 3\n",
      "1.549274820604789 -0.9879309582074927 -2.5121124232480567 Model prediction: \n",
      " 1 Actual value: 1\n",
      "-2.081330019415108 0.08238873539970787 0.1141241205967829 Model prediction: \n",
      " 3 Actual value: 3\n",
      "-2.3931237600955892 0.12369184260692653 0.5719370700492887 Model prediction: \n",
      " 3 Actual value: 3\n",
      "1.7674264239290953 -0.9964676222772615 -2.8203098453090387 Model prediction: \n",
      " 1 Actual value: 1\n",
      "-1.7275570590300064 -0.02636693453320925 -0.11284989845498106 Model prediction: \n",
      " 2 Actual value: 2\n",
      "-2.681110619934879 0.15109650271014924 0.4487697141634057 Model prediction: \n",
      " 3 Actual value: 3\n",
      "-2.075568888442599 0.1496694214111602 0.10374757975427618 Model prediction: \n",
      " 2 Actual value: 2\n",
      "-1.6434930103918943 -0.03469149045867349 -0.08850907165382793 Model prediction: \n",
      " 2 Actual value: 2\n",
      "0.9812500101894633 -0.6470149464574544 -1.9729755679085943 Model prediction: \n",
      " 1 Actual value: 1\n",
      "-1.9708638879142202 0.008054579924112945 0.10048950865867834 Model prediction: \n",
      " 3 Actual value: 3\n",
      "-2.641684405920259 0.14496343159516734 0.5974114447100192 Model prediction: \n",
      " 3 Actual value: 3\n",
      "-2.4211538477216674 0.06874492962753974 0.331046760128916 Model prediction: \n",
      " 3 Actual value: 3\n",
      "-2.129747159688719 -0.04750660969217338 0.11645753653338109 Model prediction: \n",
      " 3 Actual value: 3\n",
      "Accuracy: 96.66666666666667 %\n"
     ]
    }
   ],
   "source": [
    "\n",
    "w1 = stochastic_gradient_descent(X_train, X_test, y_train, y_test, 5000, 0.001,1)[0]\n",
    "w2 = stochastic_gradient_descent(X_train, X_test, y_train, y_test, 5000, 0.001,2)[0]\n",
    "w3 = stochastic_gradient_descent(X_train, X_test, y_train, y_test, 5000, 0.001,3)[0]\n",
    "\n",
    "count = 0\n",
    "for i in range(len(X_test)):\n",
    "    g1 = np.dot(w1.T, X_test[i])\n",
    "    g2 = np.dot(w2.T, X_test[i])\n",
    "    g3 = np.dot(w3.T, X_test[i])\n",
    "    if(g1<g2):\n",
    "        if(g2<g3):\n",
    "            flag = 3\n",
    "        else:\n",
    "            flag = 2\n",
    "    else:\n",
    "        if(g1<g3):\n",
    "            flag = 3\n",
    "        else:\n",
    "            flag = 1\n",
    "    for j in range(3):\n",
    "        if(y_test[i][j] == 1):\n",
    "            output = j+1\n",
    "    if(flag == output):\n",
    "        count+=1\n",
    "    print(g1, g2, g3, \"Model prediction:\", '\\n', flag, \"Actual value:\", output, sep = ' ')\n",
    "print(\"Accuracy:\", count/len(X_test)*100, \"%\", sep = ' ')  "
   ]
  },
  {
   "cell_type": "markdown",
   "metadata": {},
   "source": [
    "## Conclusion for task 2"
   ]
  },
  {
   "cell_type": "markdown",
   "metadata": {},
   "source": [
    "Despite unstable E_test for stochastic gradient descent, we have received very high overall accuracy, i.e. E(g). However, such accuracy hints that logistic regression might be prone to overfitting; moreover, thousands of iterations require tons of computations, thus making the calculation time much slower."
   ]
  },
  {
   "cell_type": "markdown",
   "metadata": {},
   "source": [
    "## 3. Support-Vector-Machines\n",
    "Link to the video presentation https://youtu.be/oJDqjSwa8HM"
   ]
  },
  {
   "cell_type": "code",
   "execution_count": 42,
   "metadata": {},
   "outputs": [
    {
     "data": {
      "text/html": [
       "<div>\n",
       "<style scoped>\n",
       "    .dataframe tbody tr th:only-of-type {\n",
       "        vertical-align: middle;\n",
       "    }\n",
       "\n",
       "    .dataframe tbody tr th {\n",
       "        vertical-align: top;\n",
       "    }\n",
       "\n",
       "    .dataframe thead th {\n",
       "        text-align: right;\n",
       "    }\n",
       "</style>\n",
       "<table border=\"1\" class=\"dataframe\">\n",
       "  <thead>\n",
       "    <tr style=\"text-align: right;\">\n",
       "      <th></th>\n",
       "      <th>sepal_length</th>\n",
       "      <th>sepal_width</th>\n",
       "      <th>petal_length</th>\n",
       "      <th>petal_width</th>\n",
       "      <th>species</th>\n",
       "    </tr>\n",
       "  </thead>\n",
       "  <tbody>\n",
       "    <tr>\n",
       "      <td>0</td>\n",
       "      <td>5.1</td>\n",
       "      <td>3.5</td>\n",
       "      <td>1.4</td>\n",
       "      <td>0.2</td>\n",
       "      <td>setosa</td>\n",
       "    </tr>\n",
       "    <tr>\n",
       "      <td>1</td>\n",
       "      <td>4.9</td>\n",
       "      <td>3.0</td>\n",
       "      <td>1.4</td>\n",
       "      <td>0.2</td>\n",
       "      <td>setosa</td>\n",
       "    </tr>\n",
       "    <tr>\n",
       "      <td>2</td>\n",
       "      <td>4.7</td>\n",
       "      <td>3.2</td>\n",
       "      <td>1.3</td>\n",
       "      <td>0.2</td>\n",
       "      <td>setosa</td>\n",
       "    </tr>\n",
       "    <tr>\n",
       "      <td>3</td>\n",
       "      <td>4.6</td>\n",
       "      <td>3.1</td>\n",
       "      <td>1.5</td>\n",
       "      <td>0.2</td>\n",
       "      <td>setosa</td>\n",
       "    </tr>\n",
       "    <tr>\n",
       "      <td>4</td>\n",
       "      <td>5.0</td>\n",
       "      <td>3.6</td>\n",
       "      <td>1.4</td>\n",
       "      <td>0.2</td>\n",
       "      <td>setosa</td>\n",
       "    </tr>\n",
       "    <tr>\n",
       "      <td>...</td>\n",
       "      <td>...</td>\n",
       "      <td>...</td>\n",
       "      <td>...</td>\n",
       "      <td>...</td>\n",
       "      <td>...</td>\n",
       "    </tr>\n",
       "    <tr>\n",
       "      <td>95</td>\n",
       "      <td>5.7</td>\n",
       "      <td>3.0</td>\n",
       "      <td>4.2</td>\n",
       "      <td>1.2</td>\n",
       "      <td>versicolor</td>\n",
       "    </tr>\n",
       "    <tr>\n",
       "      <td>96</td>\n",
       "      <td>5.7</td>\n",
       "      <td>2.9</td>\n",
       "      <td>4.2</td>\n",
       "      <td>1.3</td>\n",
       "      <td>versicolor</td>\n",
       "    </tr>\n",
       "    <tr>\n",
       "      <td>97</td>\n",
       "      <td>6.2</td>\n",
       "      <td>2.9</td>\n",
       "      <td>4.3</td>\n",
       "      <td>1.3</td>\n",
       "      <td>versicolor</td>\n",
       "    </tr>\n",
       "    <tr>\n",
       "      <td>98</td>\n",
       "      <td>5.1</td>\n",
       "      <td>2.5</td>\n",
       "      <td>3.0</td>\n",
       "      <td>1.1</td>\n",
       "      <td>versicolor</td>\n",
       "    </tr>\n",
       "    <tr>\n",
       "      <td>99</td>\n",
       "      <td>5.7</td>\n",
       "      <td>2.8</td>\n",
       "      <td>4.1</td>\n",
       "      <td>1.3</td>\n",
       "      <td>versicolor</td>\n",
       "    </tr>\n",
       "  </tbody>\n",
       "</table>\n",
       "<p>100 rows × 5 columns</p>\n",
       "</div>"
      ],
      "text/plain": [
       "    sepal_length  sepal_width  petal_length  petal_width     species\n",
       "0            5.1          3.5           1.4          0.2      setosa\n",
       "1            4.9          3.0           1.4          0.2      setosa\n",
       "2            4.7          3.2           1.3          0.2      setosa\n",
       "3            4.6          3.1           1.5          0.2      setosa\n",
       "4            5.0          3.6           1.4          0.2      setosa\n",
       "..           ...          ...           ...          ...         ...\n",
       "95           5.7          3.0           4.2          1.2  versicolor\n",
       "96           5.7          2.9           4.2          1.3  versicolor\n",
       "97           6.2          2.9           4.3          1.3  versicolor\n",
       "98           5.1          2.5           3.0          1.1  versicolor\n",
       "99           5.7          2.8           4.1          1.3  versicolor\n",
       "\n",
       "[100 rows x 5 columns]"
      ]
     },
     "execution_count": 42,
     "metadata": {},
     "output_type": "execute_result"
    }
   ],
   "source": [
    "iris = iris[:100]\n",
    "iris"
   ]
  },
  {
   "cell_type": "code",
   "execution_count": 43,
   "metadata": {},
   "outputs": [],
   "source": [
    "Y = iris.species\n",
    "Y = Y[0:100]\n",
    "count = 0\n",
    "while count != len(Y):\n",
    "    if Y[count] == 'setosa':\n",
    "        Y[count] = 1\n",
    "    else:\n",
    "        Y[count] = -1\n",
    "    count += 1"
   ]
  },
  {
   "cell_type": "code",
   "execution_count": 44,
   "metadata": {},
   "outputs": [],
   "source": [
    "X = iris.drop('species', axis = 1)\n",
    "X = X[0:100]"
   ]
  },
  {
   "cell_type": "code",
   "execution_count": 45,
   "metadata": {},
   "outputs": [],
   "source": [
    "X2 = X.drop('petal_length', axis = 1)\n",
    "X2 = X2.drop('petal_width', axis = 1)"
   ]
  },
  {
   "cell_type": "code",
   "execution_count": 46,
   "metadata": {},
   "outputs": [],
   "source": [
    "X = X.to_numpy()\n",
    "Y = Y.to_numpy()\n",
    "X2 = X2.to_numpy()\n",
    "Y = Y.astype(np.double)"
   ]
  },
  {
   "cell_type": "code",
   "execution_count": 47,
   "metadata": {},
   "outputs": [],
   "source": [
    "from sklearn.model_selection import train_test_split\n",
    "X_train, X_test, Y_train, Y_test = train_test_split(X2, Y, test_size = 0.3, random_state = 44)"
   ]
  },
  {
   "cell_type": "markdown",
   "metadata": {},
   "source": [
    "### Thus, we take iris[0:100]\n",
    "### Now, we move to Primal SVM"
   ]
  },
  {
   "cell_type": "code",
   "execution_count": 48,
   "metadata": {},
   "outputs": [],
   "source": [
    "import cvxopt\n",
    "import matplotlib.pyplot as plt"
   ]
  },
  {
   "cell_type": "markdown",
   "metadata": {},
   "source": [
    "### cvxopt.solvers.qp(P, q, G, h, A, b)\n",
    "this is given by documentation. We will initialise these objects to further calculate"
   ]
  },
  {
   "cell_type": "code",
   "execution_count": 49,
   "metadata": {},
   "outputs": [],
   "source": [
    "def svm_function(X, Y):\n",
    "    \n",
    "    n = X.shape[0]\n",
    "    d = X.shape[1]\n",
    "\n",
    "    P = np.zeros((d + 1, d + 1))\n",
    "    P[1:, 1:] = np.eye(d)\n",
    "    P_cvxopt = cvxopt.matrix(P)\n",
    "    \n",
    "    q_temp = np.zeros(d + 1)\n",
    "    q = cvxopt.matrix(q_temp)\n",
    "    \n",
    "    new_y = np.reshape(Y, (-1, 1))\n",
    "    temp_matrix = -np.insert(X, 0, np.ones(n), axis = 1) * new_y\n",
    "    G_cvxopt = cvxopt.matrix(temp_matrix)\n",
    "    \n",
    "    h_temp = -np.ones(n)\n",
    "    h = cvxopt.matrix(h_temp)\n",
    "    \n",
    "    calculate = cvxopt.solvers.qp(P_cvxopt, q, G_cvxopt, h)\n",
    "    \n",
    "    return calculate"
   ]
  },
  {
   "cell_type": "code",
   "execution_count": 50,
   "metadata": {},
   "outputs": [
    {
     "name": "stdout",
     "output_type": "stream",
     "text": [
      "     pcost       dcost       gap    pres   dres\n",
      " 0:  1.1477e+00  3.5176e+01  2e+02  2e+00  5e+01\n",
      " 1:  7.3095e+00 -1.9702e+01  8e+01  8e-01  2e+01\n",
      " 2:  1.9093e+01 -1.0546e+01  7e+01  4e-01  1e+01\n",
      " 3:  3.1620e+01  1.5828e+01  2e+01  1e-01  3e+00\n",
      " 4:  3.3561e+01  3.2481e+01  2e+00  7e-03  2e-01\n",
      " 5:  3.3793e+01  3.3781e+01  2e-02  7e-05  2e-03\n",
      " 6:  3.3795e+01  3.3795e+01  2e-04  7e-07  2e-05\n",
      " 7:  3.3795e+01  3.3795e+01  2e-06  7e-09  2e-07\n",
      " 8:  3.3795e+01  3.3795e+01  2e-08  7e-11  2e-09\n",
      "Optimal solution found.\n"
     ]
    }
   ],
   "source": [
    "solution = svm_function(X_train, Y_train)"
   ]
  },
  {
   "cell_type": "code",
   "execution_count": 51,
   "metadata": {},
   "outputs": [],
   "source": [
    "b_and_w = np.array(solution['x'])"
   ]
  },
  {
   "cell_type": "code",
   "execution_count": 52,
   "metadata": {},
   "outputs": [],
   "source": [
    "b = b_and_w[0][0]\n",
    "w = b_and_w[1:] "
   ]
  },
  {
   "cell_type": "code",
   "execution_count": 53,
   "metadata": {},
   "outputs": [
    {
     "data": {
      "text/plain": [
       "(2, 1)"
      ]
     },
     "execution_count": 53,
     "metadata": {},
     "output_type": "execute_result"
    }
   ],
   "source": [
    "w.shape"
   ]
  },
  {
   "cell_type": "code",
   "execution_count": 54,
   "metadata": {},
   "outputs": [
    {
     "data": {
      "text/plain": [
       "17.315789473215457"
      ]
     },
     "execution_count": 54,
     "metadata": {},
     "output_type": "execute_result"
    }
   ],
   "source": [
    "b"
   ]
  },
  {
   "cell_type": "code",
   "execution_count": 55,
   "metadata": {},
   "outputs": [
    {
     "data": {
      "text/plain": [
       "array([[-6.31578947],\n",
       "       [ 5.26315789]])"
      ]
     },
     "execution_count": 55,
     "metadata": {},
     "output_type": "execute_result"
    }
   ],
   "source": [
    "w"
   ]
  },
  {
   "cell_type": "code",
   "execution_count": 56,
   "metadata": {},
   "outputs": [],
   "source": [
    "def plot_svm_graph(W, X, Y, b):\n",
    "    i = 0\n",
    "    while i != len(X):\n",
    "        if Y[i] > 0:\n",
    "            plt.scatter(X[i, 0], X[i,1], color = 'b')\n",
    "        else:\n",
    "            plt.scatter(X[i, 0], X[i,1], color = 'r')\n",
    "        i += 1\n",
    "    x_plot = np.arange(4.5, 6.5, 0.25)\n",
    "    y_predict = -(b + x_plot*W[0])/W[1]\n",
    "    distance = 1/np.linalg.norm(W)\n",
    "    upper_margin = y_predict + distance\n",
    "    lower_margin = y_predict - distance\n",
    "    \n",
    "    plt.plot(x_plot, y_predict)\n",
    "    plt.plot(x_plot, upper_margin)\n",
    "    plt.plot(x_plot, lower_margin)\n",
    "    plt.legend(('predicted', 'upper_margin', 'lower_margin'))\n",
    "    plt.show()\n",
    "\n"
   ]
  },
  {
   "cell_type": "code",
   "execution_count": 57,
   "metadata": {},
   "outputs": [
    {
     "data": {
      "image/png": "[encoded data removed]",
      "text/plain": [
       "<Figure size 432x288 with 1 Axes>"
      ]
     },
     "metadata": {
      "needs_background": "light"
     },
     "output_type": "display_data"
    }
   ],
   "source": [
    "plot_svm_graph(w, X, Y, b)"
   ]
  },
  {
   "cell_type": "markdown",
   "metadata": {},
   "source": [
    "## We now implemented a prime SVM\n",
    "\n",
    "We now see that margins touch support-vector, which can show that our SVM was implemented correctly!\n",
    "\n",
    "\n",
    "\n",
    "## Dual SVM\n",
    "\n",
    "Link for the video presentation: https://youtu.be/NMNwbPafC5E"
   ]
  },
  {
   "cell_type": "code",
   "execution_count": 58,
   "metadata": {},
   "outputs": [],
   "source": [
    "def dual_svm_function(X, Y):\n",
    "    \n",
    "    n = X.shape[0]\n",
    "    d = X.shape[1]\n",
    "    \n",
    "    new_y = Y.reshape(-1, 1)\n",
    "    X_star = new_y * X\n",
    "    \n",
    "    P = np.dot(X_star, X_star.T)\n",
    "    P_cvxopt = cvxopt.matrix(P)\n",
    "    \n",
    "    q = -np.ones(n)\n",
    "    q_cvxopt = cvxopt.matrix(q)\n",
    "    \n",
    "    G = -np.eye(n)\n",
    "    G_cvxopt = cvxopt.matrix(G)\n",
    "    \n",
    "    h = np.zeros(n)\n",
    "    h_cvxopt = cvxopt.matrix(h)\n",
    "    \n",
    "    new_new_y = new_y.reshape(1, -1)\n",
    "    A_cvxopt = cvxopt.matrix(new_new_y)\n",
    "    \n",
    "    b = np.zeros(1)\n",
    "    b_cvxopt = cvxopt.matrix(b)\n",
    "    \n",
    "    alpha = cvxopt.solvers.qp(P_cvxopt, q_cvxopt, G_cvxopt, h_cvxopt, A_cvxopt, b_cvxopt)\n",
    "    return alpha\n",
    "\n"
   ]
  },
  {
   "cell_type": "code",
   "execution_count": 59,
   "metadata": {},
   "outputs": [
    {
     "name": "stdout",
     "output_type": "stream",
     "text": [
      "     pcost       dcost       gap    pres   dres\n",
      " 0: -1.3152e+01 -2.9334e+01  2e+02  1e+01  2e+00\n",
      " 1: -2.4030e+01 -3.1555e+01  8e+01  5e+00  8e-01\n",
      " 2: -4.5492e+01 -4.7648e+01  7e+01  3e+00  4e-01\n",
      " 3: -3.5515e+01 -3.9020e+01  2e+01  7e-01  1e-01\n",
      " 4: -3.3809e+01 -3.4043e+01  2e+00  5e-02  7e-03\n",
      " 5: -3.3795e+01 -3.3798e+01  2e-02  5e-04  7e-05\n",
      " 6: -3.3795e+01 -3.3795e+01  2e-04  5e-06  7e-07\n",
      " 7: -3.3795e+01 -3.3795e+01  2e-06  5e-08  7e-09\n",
      "Optimal solution found.\n"
     ]
    }
   ],
   "source": [
    "alpha = dual_svm_function(X_train, Y_train)"
   ]
  },
  {
   "cell_type": "code",
   "execution_count": 60,
   "metadata": {},
   "outputs": [
    {
     "name": "stdout",
     "output_type": "stream",
     "text": [
      "[-1.37241951e-09 -4.51206777e-10 -1.40261809e-09  1.22792530e-08\n",
      "  1.03388738e-09  1.52094251e-09  1.94801815e-08  1.24650800e-08\n",
      " -1.15166879e-09 -7.85326928e-10 -2.03928588e-09  6.22986671e-11\n",
      "  4.20643295e-09  2.61646877e-10 -1.02847517e-09  1.03388738e-09\n",
      " -1.58991900e-09  6.22986671e-11 -2.81419941e-10 -2.08059060e-09\n",
      " -6.86098112e-10 -1.54611472e-09 -2.10648297e-09  2.86549963e-09\n",
      "  3.05709526e-09 -3.57629990e-10  1.43886968e+01 -8.84547399e-10\n",
      "  1.84591200e-09  2.55649028e-10  3.05709526e-09  2.38525393e-09\n",
      " -1.42754825e-09 -7.62621092e-10 -4.80312991e-10  2.57177933e-09\n",
      " -1.08482888e-09  8.68615062e-10 -4.80312991e-10 -6.08074673e-10\n",
      " -2.10038047e-09 -1.12331850e-09 -1.96036756e-09  8.91472244e-10\n",
      " -3.57629990e-10 -2.04225921e-09  8.87170622e-10 -2.11322629e-09\n",
      " -1.17012245e-10  4.80231777e-07 -5.61160216e-10 -1.83313489e-09\n",
      "  1.94063160e+01 -1.51824396e-09  5.90669439e-09  9.38681203e+00\n",
      "  1.32827466e-09 -1.40261809e-09 -5.61160216e-10  2.22181571e-10\n",
      " -1.88117333e-09  8.17230521e-10  3.91609005e-09  2.45379561e-09\n",
      "  2.44082017e+01 -6.32018833e-10  3.89709986e-08  2.57177933e-09\n",
      "  3.51738114e-09  4.80231777e-07]\n"
     ]
    }
   ],
   "source": [
    "alpha = np.array(alpha['x'])\n",
    "alpha = alpha.flatten()\n",
    "print(alpha)"
   ]
  },
  {
   "cell_type": "code",
   "execution_count": 61,
   "metadata": {},
   "outputs": [
    {
     "data": {
      "text/plain": [
       "array([-6.31578945,  5.26315787])"
      ]
     },
     "execution_count": 61,
     "metadata": {},
     "output_type": "execute_result"
    }
   ],
   "source": [
    "w = np.matmul((alpha * Y_train).T, X_train)\n",
    "w"
   ]
  },
  {
   "cell_type": "code",
   "execution_count": 64,
   "metadata": {},
   "outputs": [],
   "source": [
    "# our support vectors\n",
    "i = 0\n",
    "sv_indexes = []\n",
    "while i != len(alpha):\n",
    "    if alpha[i] >= 1e-7:\n",
    "        sv_indexes.append(i)\n",
    "    i += 1"
   ]
  },
  {
   "cell_type": "code",
   "execution_count": 65,
   "metadata": {},
   "outputs": [
    {
     "data": {
      "text/plain": [
       "17.31578942920447"
      ]
     },
     "execution_count": 65,
     "metadata": {},
     "output_type": "execute_result"
    }
   ],
   "source": [
    "b = Y_train[sv_indexes[0]] - np.matmul(w.T, X_train[sv_indexes[0]])\n",
    "b"
   ]
  },
  {
   "cell_type": "code",
   "execution_count": 66,
   "metadata": {},
   "outputs": [],
   "source": [
    "def plot_dual_svm_graph(W, X, Y, b, alpha):\n",
    "    i = 0\n",
    "    while i != len(X):\n",
    "        if Y[i] > 0:\n",
    "            plt.scatter(X[i, 0], X[i,1], color = 'b')\n",
    "        else:\n",
    "            plt.scatter(X[i, 0], X[i,1], color = 'r')\n",
    "        i += 1\n",
    "    x_plot = np.arange(4.5, 6.5, 0.25)\n",
    "    y_predict = -(b + x_plot*W[0])/W[1]\n",
    "    distance = 1/np.linalg.norm(W)\n",
    "    upper_margin = y_predict + distance\n",
    "    lower_margin = y_predict - distance\n",
    "    \n",
    "    plt.plot(x_plot, y_predict)\n",
    "    plt.plot(x_plot, upper_margin)\n",
    "    plt.plot(x_plot, lower_margin)\n",
    "    i = 0\n",
    "    while i != len(X):\n",
    "        if alpha[i] >= 1e-7:\n",
    "            plt.scatter(X[i, 0], X[i,1], color = 'y', label = 'support-vectors')\n",
    "        i += 1\n",
    "    plt.legend(('predicted', 'upper_margin', 'lower_margin'))\n",
    "    plt.show()\n",
    "\n"
   ]
  },
  {
   "cell_type": "code",
   "execution_count": 67,
   "metadata": {},
   "outputs": [
    {
     "data": {
      "image/png": "[encoded data removed]",
      "text/plain": [
       "<Figure size 432x288 with 1 Axes>"
      ]
     },
     "metadata": {
      "needs_background": "light"
     },
     "output_type": "display_data"
    }
   ],
   "source": [
    "plot_dual_svm_graph(w, X_train, Y_train, b, alpha)"
   ]
  },
  {
   "cell_type": "code",
   "execution_count": null,
   "metadata": {},
   "outputs": [],
   "source": []
  },
  {
   "cell_type": "markdown",
   "metadata": {},
   "source": [
    "## 4. Practical design of a learning algorithm"
   ]
  },
  {
   "cell_type": "code",
   "execution_count": 68,
   "metadata": {},
   "outputs": [],
   "source": [
    "from random import randint\n",
    "import matplotlib.pyplot as plt\n",
    "import numpy as np\n",
    "from numpy.linalg import inv\n",
    "import random\n",
    "\n",
    "from sklearn import datasets \n",
    "digits = datasets.load_digits()"
   ]
  },
  {
   "cell_type": "code",
   "execution_count": 69,
   "metadata": {},
   "outputs": [
    {
     "name": "stdout",
     "output_type": "stream",
     "text": [
      "(1797, 8, 8)\n",
      "(1797,)\n"
     ]
    }
   ],
   "source": [
    "print(digits.images.shape)\n",
    "print(digits.target.shape)"
   ]
  },
  {
   "cell_type": "code",
   "execution_count": 70,
   "metadata": {},
   "outputs": [
    {
     "data": {
      "text/plain": [
       "array([[ 0.,  0.,  5., ...,  0.,  0.,  0.],\n",
       "       [ 0.,  0.,  0., ..., 10.,  0.,  0.],\n",
       "       [ 0.,  0.,  0., ..., 16.,  9.,  0.],\n",
       "       ...,\n",
       "       [ 0.,  0.,  1., ...,  6.,  0.,  0.],\n",
       "       [ 0.,  0.,  2., ..., 12.,  0.,  0.],\n",
       "       [ 0.,  0., 10., ..., 12.,  1.,  0.]])"
      ]
     },
     "execution_count": 70,
     "metadata": {},
     "output_type": "execute_result"
    }
   ],
   "source": [
    "X = digits.data\n",
    "y = digits.target\n",
    "X"
   ]
  },
  {
   "cell_type": "markdown",
   "metadata": {},
   "source": [
    "## Log regression function"
   ]
  },
  {
   "cell_type": "code",
   "execution_count": 74,
   "metadata": {},
   "outputs": [],
   "source": [
    "def sigmoid(s):\n",
    "    return np.exp(s)/(1+np.exp(s))\n",
    "sigmoid (0)\n",
    "\n",
    "\n",
    "def predict(X, weights):\n",
    "    s = np.dot(weights.T, X)\n",
    "    return sigmoid(s) #returns probability!\n",
    "\n",
    "\n",
    "def stochastic_gradient_descent (X_train, y_train, iterations = 5000, learning_rate = 0.001, type=1):\n",
    "    E_in = []\n",
    "    E_out = []\n",
    "    E_in_average = []\n",
    "    E_out_average = []\n",
    "    instances, features = X_train.shape\n",
    "    weights = np.zeros(features)\n",
    "    w = []\n",
    "    \n",
    "    \n",
    "    for i in range(iterations):\n",
    "        #print(weights)\n",
    "        #print(predict((X_test[0]), weights[1:]))\n",
    "        \n",
    "        ind = np.random.randint(instances)\n",
    "        \n",
    "       \n",
    "        gradient = (-y_train[ind][type-1] * X_train[ind])/(1+np.exp(y_train[ind][type-1]*np.dot(weights.T, X_train[ind])))\n",
    "        \n",
    "        weights = weights - gradient * learning_rate\n",
    "        w.append(weights)\n",
    "        \n",
    "        E_in.append(np.log(1+np.exp(y_train[ind][type-1]*np.dot(w[-1].T, X_train[ind]))))\n",
    "        \n",
    "        E = []\n",
    "        for j in range (len(X_train)):\n",
    "            err = np.log(1+np.exp(-y_train[j][type-1]*np.dot(w[-1].T, X_train[j])))\n",
    "            E.append(err)\n",
    "        E_in_average.append(np.average(E))\n",
    "        \n",
    "        '''\n",
    "        E_out_total = 0\n",
    "        for j in range(len(X_test)):\n",
    "            cross_entropy_error_out = np.log(1+np.exp(-y_test[j][type-1]*2*np.dot(weights.T, X_test[j])))\n",
    "            E_out_total += cross_entropy_error_out\n",
    "        E_out.append(E_out_total / X_test.shape[0])\n",
    "        \n",
    "        E_out_average.append(np.average(E_out))\n",
    "        '''\n",
    "        \n",
    "        \n",
    "        \n",
    "        \n",
    "    #return weights, E_in, E_in_average, E_out, E_out_average\n",
    "    return weights, E_in, E_in_average"
   ]
  },
  {
   "cell_type": "code",
   "execution_count": 82,
   "metadata": {},
   "outputs": [],
   "source": [
    "def logistic_regression (X, y):\n",
    "    w = []\n",
    "    E_train = []\n",
    "    for i in range (10):\n",
    "        #w.append(stochastic_gradient_descent(X, y, iterations = 5000, learning_rate=0.001, type = i+1)[0])\n",
    "        E_train.append(stochastic_gradient_descent(X, y, iterations = 1000, learning_rate=0.01, type = i+1)[2][-1])\n",
    "    return min(E_train)\n",
    "        "
   ]
  },
  {
   "cell_type": "markdown",
   "metadata": {},
   "source": [
    "## Linear Regression function"
   ]
  },
  {
   "cell_type": "code",
   "execution_count": 83,
   "metadata": {},
   "outputs": [],
   "source": [
    "def linear_regression(X, Y):\n",
    "    x_crest = np.dot(np.linalg.pinv(np.dot(X.T, X)), X.T)\n",
    "    coefficient = np.dot(x_crest, Y)\n",
    "    return coefficient"
   ]
  },
  {
   "cell_type": "code",
   "execution_count": 84,
   "metadata": {},
   "outputs": [],
   "source": [
    "def lin_reg_error(X, Y):\n",
    "    error = 0\n",
    "    count = 0\n",
    "    while count != len(X):\n",
    "        error += (Y[count] - np.dot(linear_regression(X,Y).T, X[count]))**2\n",
    "        count = count + 1\n",
    "    return error"
   ]
  },
  {
   "cell_type": "markdown",
   "metadata": {},
   "source": [
    "## 10-fold Cross Validation"
   ]
  },
  {
   "cell_type": "code",
   "execution_count": 85,
   "metadata": {},
   "outputs": [],
   "source": [
    "def fold_split(X, y, folds = 10):\n",
    "    size = X.shape[1]/folds\n",
    "    c = list(zip(X, y))\n",
    "    random.shuffle(c)\n",
    "    \n",
    "    X, y = zip(*c)\n",
    "    X_fold = np.array_split(X, folds)\n",
    "    y_fold = np.array_split(y, folds)\n",
    "    return X_fold, y_fold"
   ]
  },
  {
   "cell_type": "code",
   "execution_count": 86,
   "metadata": {},
   "outputs": [
    {
     "data": {
      "text/plain": [
       "0.31503287100745536"
      ]
     },
     "execution_count": 86,
     "metadata": {},
     "output_type": "execute_result"
    }
   ],
   "source": [
    "folds = 10\n",
    "E = []\n",
    "E_lin = []\n",
    "X = digits.data\n",
    "y = digits.target\n",
    "for ind in range(folds):\n",
    "    X_fold = fold_split(X, y, folds)[0][ind]\n",
    "    y_fold = fold_split(X, y, folds)[1][ind]\n",
    "    E.append(linear_regression (X_fold, y_fold))\n",
    "    E_lin.append(lin_reg_error(X_fold, y_fold))\n",
    "\n",
    "norm = np.linalg.norm(E_lin)\n",
    "np.average(E_lin/norm)"
   ]
  },
  {
   "cell_type": "code",
   "execution_count": 87,
   "metadata": {},
   "outputs": [
    {
     "data": {
      "text/plain": [
       "(1797, 10)"
      ]
     },
     "execution_count": 87,
     "metadata": {},
     "output_type": "execute_result"
    }
   ],
   "source": [
    "X = digits.data\n",
    "y = digits.target\n",
    "\n",
    "from sklearn.preprocessing import LabelBinarizer\n",
    "#species = LabelBinarizer()\n",
    "y = species.fit_transform(y)\n",
    "\n",
    "\n",
    "for i in range(y.shape[0]):\n",
    "    for j in range (10):\n",
    "        if(y[i][j] == 0):\n",
    "            y[i][j] = -1\n",
    "y.shape"
   ]
  },
  {
   "cell_type": "code",
   "execution_count": 89,
   "metadata": {},
   "outputs": [
    {
     "name": "stdout",
     "output_type": "stream",
     "text": [
      "0.3068044908892965\n"
     ]
    }
   ],
   "source": [
    "folds = 10\n",
    "E = []\n",
    "for ind in range(folds):\n",
    "    X_fold = fold_split(X, y, folds)[0][ind]\n",
    "    y_fold = fold_split(X, y, folds)[1][ind]\n",
    "    E.append(logistic_regression (X_fold, y_fold))\n",
    "\n",
    "\n",
    "norm = np.linalg.norm(E)\n",
    "#E = np.average(E/norm)\n",
    "\n",
    "print(np.average(E/norm))\n",
    "\n"
   ]
  },
  {
   "cell_type": "markdown",
   "metadata": {},
   "source": [
    "## 5-fold Cross Validation"
   ]
  },
  {
   "cell_type": "code",
   "execution_count": 493,
   "metadata": {},
   "outputs": [
    {
     "data": {
      "text/plain": [
       "0.446792033383392"
      ]
     },
     "execution_count": 493,
     "metadata": {},
     "output_type": "execute_result"
    }
   ],
   "source": [
    "folds = 5\n",
    "E = []\n",
    "E_lin = []\n",
    "X = digits.data\n",
    "y = digits.target\n",
    "for ind in range(folds):\n",
    "    X_fold = fold_split(X, y, folds)[0][ind]\n",
    "    y_fold = fold_split(X, y, folds)[1][ind]\n",
    "    E.append(linear_regression (X_fold, y_fold))\n",
    "    E_lin.append(lin_reg_error(X_fold, y_fold))\n",
    "\n",
    "norm = np.linalg.norm(E_lin)\n",
    "np.average(E_lin/norm)"
   ]
  },
  {
   "cell_type": "code",
   "execution_count": 494,
   "metadata": {},
   "outputs": [],
   "source": [
    "def lin_reg_error(X, Y):\n",
    "    error = 0\n",
    "    count = 0\n",
    "    while count != len(X):\n",
    "        error += (Y[count] - np.dot(linear_regression(X,Y).T, X[count]))**2\n",
    "        count = count + 1\n",
    "    return error"
   ]
  },
  {
   "cell_type": "code",
   "execution_count": 495,
   "metadata": {},
   "outputs": [
    {
     "data": {
      "text/plain": [
       "(1797, 10)"
      ]
     },
     "execution_count": 495,
     "metadata": {},
     "output_type": "execute_result"
    }
   ],
   "source": [
    "X = digits.data\n",
    "y = digits.target\n",
    "\n",
    "from sklearn.preprocessing import LabelBinarizer\n",
    "#species = LabelBinarizer()\n",
    "y = species.fit_transform(y)\n",
    "\n",
    "y.shape"
   ]
  },
  {
   "cell_type": "code",
   "execution_count": 496,
   "metadata": {},
   "outputs": [
    {
     "data": {
      "text/plain": [
       "0.44720087436204503"
      ]
     },
     "execution_count": 496,
     "metadata": {},
     "output_type": "execute_result"
    }
   ],
   "source": [
    "folds = 5\n",
    "E = []\n",
    "for ind in range(folds):\n",
    "    X_fold = fold_split(X, y, folds)[0][ind]\n",
    "    y_fold = fold_split(X, y, folds)[1][ind]\n",
    "    E.append(logistic_regression (X_fold, y_fold))\n",
    "\n",
    "norm = np.linalg.norm(E)\n",
    "np.average(E/norm)\n",
    "#print(np.average(E))"
   ]
  },
  {
   "cell_type": "markdown",
   "metadata": {},
   "source": [
    "## 20-fold Cross Validation"
   ]
  },
  {
   "cell_type": "code",
   "execution_count": 285,
   "metadata": {},
   "outputs": [
    {
     "data": {
      "text/plain": [
       "0.2198263757764239"
      ]
     },
     "execution_count": 285,
     "metadata": {},
     "output_type": "execute_result"
    }
   ],
   "source": [
    "folds = 20\n",
    "E = []\n",
    "E_lin = []\n",
    "X = digits.data\n",
    "y = digits.target\n",
    "for ind in range(folds):\n",
    "    X_fold = fold_split(X, y, folds)[0][ind]\n",
    "    y_fold = fold_split(X, y, folds)[1][ind]\n",
    "    E.append(linear_regression (X_fold, y_fold))\n",
    "    E_lin.append(lin_reg_error(X_fold, y_fold))\n",
    "\n",
    "norm = np.linalg.norm(E_lin)\n",
    "np.average(E_lin/norm)"
   ]
  },
  {
   "cell_type": "code",
   "execution_count": 451,
   "metadata": {},
   "outputs": [
    {
     "data": {
      "text/plain": [
       "(1797, 10)"
      ]
     },
     "execution_count": 451,
     "metadata": {},
     "output_type": "execute_result"
    }
   ],
   "source": [
    "X = digits.data\n",
    "y = digits.target\n",
    "\n",
    "from sklearn.preprocessing import LabelBinarizer\n",
    "#species = LabelBinarizer()\n",
    "y = species.fit_transform(y)\n",
    "\n",
    "y.shape"
   ]
  },
  {
   "cell_type": "code",
   "execution_count": 453,
   "metadata": {},
   "outputs": [
    {
     "data": {
      "text/plain": [
       "0.22360679774997902"
      ]
     },
     "execution_count": 453,
     "metadata": {},
     "output_type": "execute_result"
    }
   ],
   "source": [
    "folds = 20\n",
    "E = []\n",
    "for ind in range(folds):\n",
    "    X_fold = fold_split(X, y, folds)[0][ind]\n",
    "    y_fold = fold_split(X, y, folds)[1][ind]\n",
    "    E.append(logistic_regression (X_fold, y_fold))\n",
    "\n",
    "norm = np.linalg.norm(E)\n",
    "np.average(E/norm)\n",
    "#print(np.average(E))"
   ]
  },
  {
   "cell_type": "markdown",
   "metadata": {},
   "source": [
    "So here it's clear that the more folds there are, the less the error for both logistic and linear regression"
   ]
  },
  {
   "cell_type": "code",
   "execution_count": null,
   "metadata": {},
   "outputs": [],
   "source": []
  },
  {
   "cell_type": "code",
   "execution_count": null,
   "metadata": {},
   "outputs": [],
   "source": []
  }
 ],
 "metadata": {
  "kernelspec": {
   "display_name": "Python 3",
   "language": "python",
   "name": "python3"
  },
  "language_info": {
   "codemirror_mode": {
    "name": "ipython",
    "version": 3
   },
   "file_extension": ".py",
   "mimetype": "text/x-python",
   "name": "python",
   "nbconvert_exporter": "python",
   "pygments_lexer": "ipython3",
   "version": "3.7.4"
  }
 },
 "nbformat": 4,
 "nbformat_minor": 2
}
